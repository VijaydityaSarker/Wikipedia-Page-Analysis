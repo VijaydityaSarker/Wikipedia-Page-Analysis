{
  "nbformat": 4,
  "nbformat_minor": 0,
  "metadata": {
    "colab": {
      "provenance": []
    },
    "kernelspec": {
      "name": "python3",
      "display_name": "Python 3"
    },
    "language_info": {
      "name": "python"
    }
  },
  "cells": [
    {
      "cell_type": "markdown",
      "source": [
        "<FONT SIZE =24>Database Implementation</FONT>"
      ],
      "metadata": {
        "id": "nT6a0oKJghuY"
      }
    },
    {
      "cell_type": "markdown",
      "source": [
        "Mounting my google drive here"
      ],
      "metadata": {
        "id": "7cA1a3y_99VE"
      }
    },
    {
      "cell_type": "code",
      "execution_count": 1,
      "metadata": {
        "colab": {
          "base_uri": "https://localhost:8080/"
        },
        "id": "5Yajoqu4h1Lv",
        "outputId": "930b2060-7ac0-42b8-8de2-700996c96d3b"
      },
      "outputs": [
        {
          "output_type": "stream",
          "name": "stdout",
          "text": [
            "Drive already mounted at /content/drive; to attempt to forcibly remount, call drive.mount(\"/content/drive\", force_remount=True).\n"
          ]
        }
      ],
      "source": [
        "from google.colab import drive\n",
        "drive.mount('/content/drive')"
      ]
    },
    {
      "cell_type": "markdown",
      "source": [
        "Writing a code code to print filename date it was published and count of supervised , semi supervised , unsupervised and meta-learning"
      ],
      "metadata": {
        "id": "OZoLss5w-Yn_"
      }
    },
    {
      "cell_type": "markdown",
      "source": [
        "we need to insert path to directory here"
      ],
      "metadata": {
        "id": "J6Fqz2lzp79j"
      }
    },
    {
      "cell_type": "code",
      "source": [
        "import os\n",
        "import re\n",
        "import pandas as pd\n",
        "\n",
        "# give the directory path containing the text files\n",
        "dir_path = '/content/drive/MyDrive/Big_data_assignment_files/wikipedia-ml'\n",
        "\n",
        "results1 = []\n",
        "\n",
        "\n",
        "for filename in os.listdir(dir_path):\n",
        "    if filename.endswith('.txt'):\n",
        "        \n",
        "        match = re.search(r'\\d{4}_\\d{1,2}_\\d{1,2}', filename)\n",
        "        if match:\n",
        "            date_published = match.group()\n",
        "            print(f'File: {filename}, Date Published: {date_published}')\n",
        "        else:\n",
        "            print(f'File: {filename}, Date Published not found')\n",
        "\n",
        "        \n",
        "        with open(os.path.join(dir_path, filename), 'r') as f:\n",
        "            contents = f.read()\n",
        "            supervised_count = contents.count('supervised')\n",
        "            semi_supervised_count = contents.count('semi-supervised')\n",
        "            unsupervised_count = contents.count('unsupervised')\n",
        "            meta_learning_count = contents.count('meta-learning')\n",
        "\n",
        "        results1.append((filename, date_published, supervised_count, semi_supervised_count, unsupervised_count, meta_learning_count))\n",
        "\n",
        "# CREATING THE DATA FRAME\n",
        "df_1 = pd.DataFrame(results1, columns=['Filename', 'Date Published', 'Supervised Count', 'Semi-Supervised Count', 'Unsupervised Count', 'Meta-Learning Count'])\n",
        "\n",
        "print(df_1)\n"
      ],
      "metadata": {
        "colab": {
          "base_uri": "https://localhost:8080/"
        },
        "id": "Yq_I5lfjiIfL",
        "outputId": "9db024e0-32d4-4499-b0d3-26b030acf6ff"
      },
      "execution_count": 2,
      "outputs": [
        {
          "output_type": "stream",
          "name": "stdout",
          "text": [
            "File: article_Machine learning - Wikipedia_2023_3_13.txt, Date Published: 2023_3_13\n",
            "File: refs_Machine learning - Wikipedia_2023_3_13.txt, Date Published: 2023_3_13\n",
            "File: article_Machine learning - Wikipedia_2021_6_19.txt, Date Published: 2021_6_19\n",
            "File: refs_Machine learning - Wikipedia_2021_6_19.txt, Date Published: 2021_6_19\n",
            "File: article_Machine learning - Wikipedia_2022_1_2.txt, Date Published: 2022_1_2\n",
            "File: refs_Machine learning - Wikipedia_2022_1_2.txt, Date Published: 2022_1_2\n",
            "File: article_Machine learning - Wikipedia_2022_6_28.txt, Date Published: 2022_6_28\n",
            "File: refs_Machine learning - Wikipedia_2022_6_28.txt, Date Published: 2022_6_28\n",
            "File: article_Machine learning - Wikipedia_2023_1_1.txt, Date Published: 2023_1_1\n",
            "File: refs_Machine learning - Wikipedia_2023_1_1.txt, Date Published: 2023_1_1\n",
            "File: article_Machine learning - Wikipedia_2013_1_2.txt, Date Published: 2013_1_2\n",
            "File: refs_Machine learning - Wikipedia_2013_1_2.txt, Date Published: 2013_1_2\n",
            "File: article_Machine learning - Wikipedia_2013_6_27.txt, Date Published: 2013_6_27\n",
            "File: refs_Machine learning - Wikipedia_2013_6_27.txt, Date Published: 2013_6_27\n",
            "File: article_Machine learning - Wikipedia_2014_1_4.txt, Date Published: 2014_1_4\n",
            "File: refs_Machine learning - Wikipedia_2014_1_4.txt, Date Published: 2014_1_4\n",
            "File: article_Machine learning - Wikipedia_2014_6_4.txt, Date Published: 2014_6_4\n",
            "File: refs_Machine learning - Wikipedia_2014_6_4.txt, Date Published: 2014_6_4\n",
            "File: article_Machine learning - Wikipedia_2015_1_4.txt, Date Published: 2015_1_4\n",
            "File: refs_Machine learning - Wikipedia_2015_1_4.txt, Date Published: 2015_1_4\n",
            "File: article_Machine learning - Wikipedia_2015_6_30.txt, Date Published: 2015_6_30\n",
            "File: refs_Machine learning - Wikipedia_2015_6_30.txt, Date Published: 2015_6_30\n",
            "File: article_Machine learning - Wikipedia_2016_1_1.txt, Date Published: 2016_1_1\n",
            "File: refs_Machine learning - Wikipedia_2016_1_1.txt, Date Published: 2016_1_1\n",
            "File: article_Machine learning - Wikipedia_2016_6_30.txt, Date Published: 2016_6_30\n",
            "File: refs_Machine learning - Wikipedia_2016_6_30.txt, Date Published: 2016_6_30\n",
            "File: article_Machine learning - Wikipedia_2017_1_1.txt, Date Published: 2017_1_1\n",
            "File: refs_Machine learning - Wikipedia_2017_1_1.txt, Date Published: 2017_1_1\n",
            "File: article_Machine learning - Wikipedia_2017_6_29.txt, Date Published: 2017_6_29\n",
            "File: refs_Machine learning - Wikipedia_2017_6_29.txt, Date Published: 2017_6_29\n",
            "File: article_Machine learning - Wikipedia_2018_1_5.txt, Date Published: 2018_1_5\n",
            "File: refs_Machine learning - Wikipedia_2018_1_5.txt, Date Published: 2018_1_5\n",
            "File: article_Machine learning - Wikipedia_2018_6_29.txt, Date Published: 2018_6_29\n",
            "File: refs_Machine learning - Wikipedia_2018_6_29.txt, Date Published: 2018_6_29\n",
            "File: article_Machine learning - Wikipedia_2019_1_2.txt, Date Published: 2019_1_2\n",
            "File: refs_Machine learning - Wikipedia_2019_1_2.txt, Date Published: 2019_1_2\n",
            "File: article_Machine learning - Wikipedia_2019_6_24.txt, Date Published: 2019_6_24\n",
            "File: refs_Machine learning - Wikipedia_2019_6_24.txt, Date Published: 2019_6_24\n",
            "File: article_Machine learning - Wikipedia_2020_1_8.txt, Date Published: 2020_1_8\n",
            "File: refs_Machine learning - Wikipedia_2020_1_8.txt, Date Published: 2020_1_8\n",
            "File: article_Machine learning - Wikipedia_2020_6_30.txt, Date Published: 2020_6_30\n",
            "File: refs_Machine learning - Wikipedia_2020_6_30.txt, Date Published: 2020_6_30\n",
            "File: article_Machine learning - Wikipedia_2021_1_8.txt, Date Published: 2021_1_8\n",
            "File: refs_Machine learning - Wikipedia_2021_1_8.txt, Date Published: 2021_1_8\n",
            "                                             Filename Date Published  \\\n",
            "0   article_Machine learning - Wikipedia_2023_3_13...      2023_3_13   \n",
            "1     refs_Machine learning - Wikipedia_2023_3_13.txt      2023_3_13   \n",
            "2   article_Machine learning - Wikipedia_2021_6_19...      2021_6_19   \n",
            "3     refs_Machine learning - Wikipedia_2021_6_19.txt      2021_6_19   \n",
            "4   article_Machine learning - Wikipedia_2022_1_2.txt       2022_1_2   \n",
            "5      refs_Machine learning - Wikipedia_2022_1_2.txt       2022_1_2   \n",
            "6   article_Machine learning - Wikipedia_2022_6_28...      2022_6_28   \n",
            "7     refs_Machine learning - Wikipedia_2022_6_28.txt      2022_6_28   \n",
            "8   article_Machine learning - Wikipedia_2023_1_1.txt       2023_1_1   \n",
            "9      refs_Machine learning - Wikipedia_2023_1_1.txt       2023_1_1   \n",
            "10  article_Machine learning - Wikipedia_2013_1_2.txt       2013_1_2   \n",
            "11     refs_Machine learning - Wikipedia_2013_1_2.txt       2013_1_2   \n",
            "12  article_Machine learning - Wikipedia_2013_6_27...      2013_6_27   \n",
            "13    refs_Machine learning - Wikipedia_2013_6_27.txt      2013_6_27   \n",
            "14  article_Machine learning - Wikipedia_2014_1_4.txt       2014_1_4   \n",
            "15     refs_Machine learning - Wikipedia_2014_1_4.txt       2014_1_4   \n",
            "16  article_Machine learning - Wikipedia_2014_6_4.txt       2014_6_4   \n",
            "17     refs_Machine learning - Wikipedia_2014_6_4.txt       2014_6_4   \n",
            "18  article_Machine learning - Wikipedia_2015_1_4.txt       2015_1_4   \n",
            "19     refs_Machine learning - Wikipedia_2015_1_4.txt       2015_1_4   \n",
            "20  article_Machine learning - Wikipedia_2015_6_30...      2015_6_30   \n",
            "21    refs_Machine learning - Wikipedia_2015_6_30.txt      2015_6_30   \n",
            "22  article_Machine learning - Wikipedia_2016_1_1.txt       2016_1_1   \n",
            "23     refs_Machine learning - Wikipedia_2016_1_1.txt       2016_1_1   \n",
            "24  article_Machine learning - Wikipedia_2016_6_30...      2016_6_30   \n",
            "25    refs_Machine learning - Wikipedia_2016_6_30.txt      2016_6_30   \n",
            "26  article_Machine learning - Wikipedia_2017_1_1.txt       2017_1_1   \n",
            "27     refs_Machine learning - Wikipedia_2017_1_1.txt       2017_1_1   \n",
            "28  article_Machine learning - Wikipedia_2017_6_29...      2017_6_29   \n",
            "29    refs_Machine learning - Wikipedia_2017_6_29.txt      2017_6_29   \n",
            "30  article_Machine learning - Wikipedia_2018_1_5.txt       2018_1_5   \n",
            "31     refs_Machine learning - Wikipedia_2018_1_5.txt       2018_1_5   \n",
            "32  article_Machine learning - Wikipedia_2018_6_29...      2018_6_29   \n",
            "33    refs_Machine learning - Wikipedia_2018_6_29.txt      2018_6_29   \n",
            "34  article_Machine learning - Wikipedia_2019_1_2.txt       2019_1_2   \n",
            "35     refs_Machine learning - Wikipedia_2019_1_2.txt       2019_1_2   \n",
            "36  article_Machine learning - Wikipedia_2019_6_24...      2019_6_24   \n",
            "37    refs_Machine learning - Wikipedia_2019_6_24.txt      2019_6_24   \n",
            "38  article_Machine learning - Wikipedia_2020_1_8.txt       2020_1_8   \n",
            "39     refs_Machine learning - Wikipedia_2020_1_8.txt       2020_1_8   \n",
            "40  article_Machine learning - Wikipedia_2020_6_30...      2020_6_30   \n",
            "41    refs_Machine learning - Wikipedia_2020_6_30.txt      2020_6_30   \n",
            "42  article_Machine learning - Wikipedia_2021_1_8.txt       2021_1_8   \n",
            "43     refs_Machine learning - Wikipedia_2021_1_8.txt       2021_1_8   \n",
            "\n",
            "    Supervised Count  Semi-Supervised Count  Unsupervised Count  \\\n",
            "0                 29                      0                  11   \n",
            "1                  2                      0                   1   \n",
            "2                 28                      0                  11   \n",
            "3                  2                      0                   1   \n",
            "4                 29                      0                  11   \n",
            "5                  2                      0                   1   \n",
            "6                 29                      0                  11   \n",
            "7                  2                      0                   1   \n",
            "8                 29                      0                  11   \n",
            "9                  2                      0                   1   \n",
            "10                 8                      0                   4   \n",
            "11                 0                      0                   0   \n",
            "12                 8                      0                   4   \n",
            "13                 0                      0                   0   \n",
            "14                 8                      0                   4   \n",
            "15                 0                      0                   0   \n",
            "16                 8                      0                   4   \n",
            "17                 0                      0                   0   \n",
            "18                11                      1                   5   \n",
            "19                 0                      0                   0   \n",
            "20                11                      1                   5   \n",
            "21                 0                      0                   0   \n",
            "22                11                      1                   5   \n",
            "23                 0                      0                   0   \n",
            "24                12                      1                   6   \n",
            "25                 1                      0                   0   \n",
            "26                15                      1                   8   \n",
            "27                 1                      0                   0   \n",
            "28                15                      1                   8   \n",
            "29                 1                      0                   0   \n",
            "30                12                      0                   7   \n",
            "31                 1                      0                   0   \n",
            "32                12                      0                   7   \n",
            "33                 1                      0                   0   \n",
            "34                30                      1                  11   \n",
            "35                 2                      0                   1   \n",
            "36                31                      1                  11   \n",
            "37                 2                      0                   1   \n",
            "38                35                      1                  12   \n",
            "39                 2                      0                   1   \n",
            "40                27                      0                  11   \n",
            "41                 2                      0                   1   \n",
            "42                28                      0                  11   \n",
            "43                 2                      0                   1   \n",
            "\n",
            "    Meta-Learning Count  \n",
            "0                     2  \n",
            "1                     0  \n",
            "2                     0  \n",
            "3                     0  \n",
            "4                     1  \n",
            "5                     0  \n",
            "6                     1  \n",
            "7                     0  \n",
            "8                     2  \n",
            "9                     0  \n",
            "10                    0  \n",
            "11                    0  \n",
            "12                    0  \n",
            "13                    0  \n",
            "14                    0  \n",
            "15                    0  \n",
            "16                    0  \n",
            "17                    0  \n",
            "18                    0  \n",
            "19                    0  \n",
            "20                    0  \n",
            "21                    0  \n",
            "22                    0  \n",
            "23                    0  \n",
            "24                    0  \n",
            "25                    0  \n",
            "26                    0  \n",
            "27                    0  \n",
            "28                    0  \n",
            "29                    0  \n",
            "30                    0  \n",
            "31                    0  \n",
            "32                    0  \n",
            "33                    0  \n",
            "34                    0  \n",
            "35                    0  \n",
            "36                    0  \n",
            "37                    0  \n",
            "38                    0  \n",
            "39                    0  \n",
            "40                    0  \n",
            "41                    0  \n",
            "42                    0  \n",
            "43                    0  \n"
          ]
        }
      ]
    },
    {
      "cell_type": "markdown",
      "source": [
        "PRINTING THE CREATED DATAFRAME"
      ],
      "metadata": {
        "id": "d6XqdVyN_WbG"
      }
    },
    {
      "cell_type": "code",
      "source": [
        "df_1.head()"
      ],
      "metadata": {
        "colab": {
          "base_uri": "https://localhost:8080/",
          "height": 250
        },
        "id": "im4DHCNXibMv",
        "outputId": "6ee920ab-561d-47ed-9c59-cefd47868244"
      },
      "execution_count": 3,
      "outputs": [
        {
          "output_type": "execute_result",
          "data": {
            "text/plain": [
              "                                            Filename Date Published  \\\n",
              "0  article_Machine learning - Wikipedia_2023_3_13...      2023_3_13   \n",
              "1    refs_Machine learning - Wikipedia_2023_3_13.txt      2023_3_13   \n",
              "2  article_Machine learning - Wikipedia_2021_6_19...      2021_6_19   \n",
              "3    refs_Machine learning - Wikipedia_2021_6_19.txt      2021_6_19   \n",
              "4  article_Machine learning - Wikipedia_2022_1_2.txt       2022_1_2   \n",
              "\n",
              "   Supervised Count  Semi-Supervised Count  Unsupervised Count  \\\n",
              "0                29                      0                  11   \n",
              "1                 2                      0                   1   \n",
              "2                28                      0                  11   \n",
              "3                 2                      0                   1   \n",
              "4                29                      0                  11   \n",
              "\n",
              "   Meta-Learning Count  \n",
              "0                    2  \n",
              "1                    0  \n",
              "2                    0  \n",
              "3                    0  \n",
              "4                    1  "
            ],
            "text/html": [
              "\n",
              "  <div id=\"df-0109ba96-eaac-47ec-810c-5cbbb6af10fa\">\n",
              "    <div class=\"colab-df-container\">\n",
              "      <div>\n",
              "<style scoped>\n",
              "    .dataframe tbody tr th:only-of-type {\n",
              "        vertical-align: middle;\n",
              "    }\n",
              "\n",
              "    .dataframe tbody tr th {\n",
              "        vertical-align: top;\n",
              "    }\n",
              "\n",
              "    .dataframe thead th {\n",
              "        text-align: right;\n",
              "    }\n",
              "</style>\n",
              "<table border=\"1\" class=\"dataframe\">\n",
              "  <thead>\n",
              "    <tr style=\"text-align: right;\">\n",
              "      <th></th>\n",
              "      <th>Filename</th>\n",
              "      <th>Date Published</th>\n",
              "      <th>Supervised Count</th>\n",
              "      <th>Semi-Supervised Count</th>\n",
              "      <th>Unsupervised Count</th>\n",
              "      <th>Meta-Learning Count</th>\n",
              "    </tr>\n",
              "  </thead>\n",
              "  <tbody>\n",
              "    <tr>\n",
              "      <th>0</th>\n",
              "      <td>article_Machine learning - Wikipedia_2023_3_13...</td>\n",
              "      <td>2023_3_13</td>\n",
              "      <td>29</td>\n",
              "      <td>0</td>\n",
              "      <td>11</td>\n",
              "      <td>2</td>\n",
              "    </tr>\n",
              "    <tr>\n",
              "      <th>1</th>\n",
              "      <td>refs_Machine learning - Wikipedia_2023_3_13.txt</td>\n",
              "      <td>2023_3_13</td>\n",
              "      <td>2</td>\n",
              "      <td>0</td>\n",
              "      <td>1</td>\n",
              "      <td>0</td>\n",
              "    </tr>\n",
              "    <tr>\n",
              "      <th>2</th>\n",
              "      <td>article_Machine learning - Wikipedia_2021_6_19...</td>\n",
              "      <td>2021_6_19</td>\n",
              "      <td>28</td>\n",
              "      <td>0</td>\n",
              "      <td>11</td>\n",
              "      <td>0</td>\n",
              "    </tr>\n",
              "    <tr>\n",
              "      <th>3</th>\n",
              "      <td>refs_Machine learning - Wikipedia_2021_6_19.txt</td>\n",
              "      <td>2021_6_19</td>\n",
              "      <td>2</td>\n",
              "      <td>0</td>\n",
              "      <td>1</td>\n",
              "      <td>0</td>\n",
              "    </tr>\n",
              "    <tr>\n",
              "      <th>4</th>\n",
              "      <td>article_Machine learning - Wikipedia_2022_1_2.txt</td>\n",
              "      <td>2022_1_2</td>\n",
              "      <td>29</td>\n",
              "      <td>0</td>\n",
              "      <td>11</td>\n",
              "      <td>1</td>\n",
              "    </tr>\n",
              "  </tbody>\n",
              "</table>\n",
              "</div>\n",
              "      <button class=\"colab-df-convert\" onclick=\"convertToInteractive('df-0109ba96-eaac-47ec-810c-5cbbb6af10fa')\"\n",
              "              title=\"Convert this dataframe to an interactive table.\"\n",
              "              style=\"display:none;\">\n",
              "        \n",
              "  <svg xmlns=\"http://www.w3.org/2000/svg\" height=\"24px\"viewBox=\"0 0 24 24\"\n",
              "       width=\"24px\">\n",
              "    <path d=\"M0 0h24v24H0V0z\" fill=\"none\"/>\n",
              "    <path d=\"M18.56 5.44l.94 2.06.94-2.06 2.06-.94-2.06-.94-.94-2.06-.94 2.06-2.06.94zm-11 1L8.5 8.5l.94-2.06 2.06-.94-2.06-.94L8.5 2.5l-.94 2.06-2.06.94zm10 10l.94 2.06.94-2.06 2.06-.94-2.06-.94-.94-2.06-.94 2.06-2.06.94z\"/><path d=\"M17.41 7.96l-1.37-1.37c-.4-.4-.92-.59-1.43-.59-.52 0-1.04.2-1.43.59L10.3 9.45l-7.72 7.72c-.78.78-.78 2.05 0 2.83L4 21.41c.39.39.9.59 1.41.59.51 0 1.02-.2 1.41-.59l7.78-7.78 2.81-2.81c.8-.78.8-2.07 0-2.86zM5.41 20L4 18.59l7.72-7.72 1.47 1.35L5.41 20z\"/>\n",
              "  </svg>\n",
              "      </button>\n",
              "      \n",
              "  <style>\n",
              "    .colab-df-container {\n",
              "      display:flex;\n",
              "      flex-wrap:wrap;\n",
              "      gap: 12px;\n",
              "    }\n",
              "\n",
              "    .colab-df-convert {\n",
              "      background-color: #E8F0FE;\n",
              "      border: none;\n",
              "      border-radius: 50%;\n",
              "      cursor: pointer;\n",
              "      display: none;\n",
              "      fill: #1967D2;\n",
              "      height: 32px;\n",
              "      padding: 0 0 0 0;\n",
              "      width: 32px;\n",
              "    }\n",
              "\n",
              "    .colab-df-convert:hover {\n",
              "      background-color: #E2EBFA;\n",
              "      box-shadow: 0px 1px 2px rgba(60, 64, 67, 0.3), 0px 1px 3px 1px rgba(60, 64, 67, 0.15);\n",
              "      fill: #174EA6;\n",
              "    }\n",
              "\n",
              "    [theme=dark] .colab-df-convert {\n",
              "      background-color: #3B4455;\n",
              "      fill: #D2E3FC;\n",
              "    }\n",
              "\n",
              "    [theme=dark] .colab-df-convert:hover {\n",
              "      background-color: #434B5C;\n",
              "      box-shadow: 0px 1px 3px 1px rgba(0, 0, 0, 0.15);\n",
              "      filter: drop-shadow(0px 1px 2px rgba(0, 0, 0, 0.3));\n",
              "      fill: #FFFFFF;\n",
              "    }\n",
              "  </style>\n",
              "\n",
              "      <script>\n",
              "        const buttonEl =\n",
              "          document.querySelector('#df-0109ba96-eaac-47ec-810c-5cbbb6af10fa button.colab-df-convert');\n",
              "        buttonEl.style.display =\n",
              "          google.colab.kernel.accessAllowed ? 'block' : 'none';\n",
              "\n",
              "        async function convertToInteractive(key) {\n",
              "          const element = document.querySelector('#df-0109ba96-eaac-47ec-810c-5cbbb6af10fa');\n",
              "          const dataTable =\n",
              "            await google.colab.kernel.invokeFunction('convertToInteractive',\n",
              "                                                     [key], {});\n",
              "          if (!dataTable) return;\n",
              "\n",
              "          const docLinkHtml = 'Like what you see? Visit the ' +\n",
              "            '<a target=\"_blank\" href=https://colab.research.google.com/notebooks/data_table.ipynb>data table notebook</a>'\n",
              "            + ' to learn more about interactive tables.';\n",
              "          element.innerHTML = '';\n",
              "          dataTable['output_type'] = 'display_data';\n",
              "          await google.colab.output.renderOutput(dataTable, element);\n",
              "          const docLink = document.createElement('div');\n",
              "          docLink.innerHTML = docLinkHtml;\n",
              "          element.appendChild(docLink);\n",
              "        }\n",
              "      </script>\n",
              "    </div>\n",
              "  </div>\n",
              "  "
            ]
          },
          "metadata": {},
          "execution_count": 3
        }
      ]
    },
    {
      "cell_type": "markdown",
      "source": [
        "**The above data frame needs some pre-processing done**"
      ],
      "metadata": {
        "id": "eeRYlwsm_eLl"
      }
    },
    {
      "cell_type": "markdown",
      "source": [
        "removing .txt from end"
      ],
      "metadata": {
        "id": "9dwNolvuAdLw"
      }
    },
    {
      "cell_type": "code",
      "source": [
        "df_1['Filename'] = df_1['Filename'].str.replace('.txt', '')"
      ],
      "metadata": {
        "colab": {
          "base_uri": "https://localhost:8080/"
        },
        "id": "j1F4a4BOpQUA",
        "outputId": "fd140e9c-adbc-4293-95b3-92d046dd9eb0"
      },
      "execution_count": 4,
      "outputs": [
        {
          "output_type": "stream",
          "name": "stderr",
          "text": [
            "<ipython-input-4-f424d2b77876>:1: FutureWarning: The default value of regex will change from True to False in a future version.\n",
            "  df_1['Filename'] = df_1['Filename'].str.replace('.txt', '')\n"
          ]
        }
      ]
    },
    {
      "cell_type": "markdown",
      "source": [
        "checking the data types"
      ],
      "metadata": {
        "id": "S_j3yDhHAhfF"
      }
    },
    {
      "cell_type": "code",
      "source": [
        "df_1.dtypes"
      ],
      "metadata": {
        "colab": {
          "base_uri": "https://localhost:8080/"
        },
        "id": "u_7IVVB-oipr",
        "outputId": "915cce3f-3f0f-4f06-cbe1-629e2b75a1b7"
      },
      "execution_count": 5,
      "outputs": [
        {
          "output_type": "execute_result",
          "data": {
            "text/plain": [
              "Filename                 object\n",
              "Date Published           object\n",
              "Supervised Count          int64\n",
              "Semi-Supervised Count     int64\n",
              "Unsupervised Count        int64\n",
              "Meta-Learning Count       int64\n",
              "dtype: object"
            ]
          },
          "metadata": {},
          "execution_count": 5
        }
      ]
    },
    {
      "cell_type": "markdown",
      "source": [
        "changing the data format"
      ],
      "metadata": {
        "id": "eImfRt9HAqyN"
      }
    },
    {
      "cell_type": "code",
      "source": [
        "df_1['Date Published'] = pd.to_datetime(df_1['Date Published'], format='%Y_%m_%d')\n",
        "df_1.head()"
      ],
      "metadata": {
        "colab": {
          "base_uri": "https://localhost:8080/",
          "height": 250
        },
        "id": "ZmFGfz1ao_dZ",
        "outputId": "5e8202f3-001a-4428-cfd2-7afef9312402"
      },
      "execution_count": 6,
      "outputs": [
        {
          "output_type": "execute_result",
          "data": {
            "text/plain": [
              "                                         Filename Date Published  \\\n",
              "0  article_Machine learning - Wikipedia_2023_3_13     2023-03-13   \n",
              "1     refs_Machine learning - Wikipedia_2023_3_13     2023-03-13   \n",
              "2  article_Machine learning - Wikipedia_2021_6_19     2021-06-19   \n",
              "3     refs_Machine learning - Wikipedia_2021_6_19     2021-06-19   \n",
              "4   article_Machine learning - Wikipedia_2022_1_2     2022-01-02   \n",
              "\n",
              "   Supervised Count  Semi-Supervised Count  Unsupervised Count  \\\n",
              "0                29                      0                  11   \n",
              "1                 2                      0                   1   \n",
              "2                28                      0                  11   \n",
              "3                 2                      0                   1   \n",
              "4                29                      0                  11   \n",
              "\n",
              "   Meta-Learning Count  \n",
              "0                    2  \n",
              "1                    0  \n",
              "2                    0  \n",
              "3                    0  \n",
              "4                    1  "
            ],
            "text/html": [
              "\n",
              "  <div id=\"df-0ba9e0d2-b37e-45f0-bd4a-8917e6aa866a\">\n",
              "    <div class=\"colab-df-container\">\n",
              "      <div>\n",
              "<style scoped>\n",
              "    .dataframe tbody tr th:only-of-type {\n",
              "        vertical-align: middle;\n",
              "    }\n",
              "\n",
              "    .dataframe tbody tr th {\n",
              "        vertical-align: top;\n",
              "    }\n",
              "\n",
              "    .dataframe thead th {\n",
              "        text-align: right;\n",
              "    }\n",
              "</style>\n",
              "<table border=\"1\" class=\"dataframe\">\n",
              "  <thead>\n",
              "    <tr style=\"text-align: right;\">\n",
              "      <th></th>\n",
              "      <th>Filename</th>\n",
              "      <th>Date Published</th>\n",
              "      <th>Supervised Count</th>\n",
              "      <th>Semi-Supervised Count</th>\n",
              "      <th>Unsupervised Count</th>\n",
              "      <th>Meta-Learning Count</th>\n",
              "    </tr>\n",
              "  </thead>\n",
              "  <tbody>\n",
              "    <tr>\n",
              "      <th>0</th>\n",
              "      <td>article_Machine learning - Wikipedia_2023_3_13</td>\n",
              "      <td>2023-03-13</td>\n",
              "      <td>29</td>\n",
              "      <td>0</td>\n",
              "      <td>11</td>\n",
              "      <td>2</td>\n",
              "    </tr>\n",
              "    <tr>\n",
              "      <th>1</th>\n",
              "      <td>refs_Machine learning - Wikipedia_2023_3_13</td>\n",
              "      <td>2023-03-13</td>\n",
              "      <td>2</td>\n",
              "      <td>0</td>\n",
              "      <td>1</td>\n",
              "      <td>0</td>\n",
              "    </tr>\n",
              "    <tr>\n",
              "      <th>2</th>\n",
              "      <td>article_Machine learning - Wikipedia_2021_6_19</td>\n",
              "      <td>2021-06-19</td>\n",
              "      <td>28</td>\n",
              "      <td>0</td>\n",
              "      <td>11</td>\n",
              "      <td>0</td>\n",
              "    </tr>\n",
              "    <tr>\n",
              "      <th>3</th>\n",
              "      <td>refs_Machine learning - Wikipedia_2021_6_19</td>\n",
              "      <td>2021-06-19</td>\n",
              "      <td>2</td>\n",
              "      <td>0</td>\n",
              "      <td>1</td>\n",
              "      <td>0</td>\n",
              "    </tr>\n",
              "    <tr>\n",
              "      <th>4</th>\n",
              "      <td>article_Machine learning - Wikipedia_2022_1_2</td>\n",
              "      <td>2022-01-02</td>\n",
              "      <td>29</td>\n",
              "      <td>0</td>\n",
              "      <td>11</td>\n",
              "      <td>1</td>\n",
              "    </tr>\n",
              "  </tbody>\n",
              "</table>\n",
              "</div>\n",
              "      <button class=\"colab-df-convert\" onclick=\"convertToInteractive('df-0ba9e0d2-b37e-45f0-bd4a-8917e6aa866a')\"\n",
              "              title=\"Convert this dataframe to an interactive table.\"\n",
              "              style=\"display:none;\">\n",
              "        \n",
              "  <svg xmlns=\"http://www.w3.org/2000/svg\" height=\"24px\"viewBox=\"0 0 24 24\"\n",
              "       width=\"24px\">\n",
              "    <path d=\"M0 0h24v24H0V0z\" fill=\"none\"/>\n",
              "    <path d=\"M18.56 5.44l.94 2.06.94-2.06 2.06-.94-2.06-.94-.94-2.06-.94 2.06-2.06.94zm-11 1L8.5 8.5l.94-2.06 2.06-.94-2.06-.94L8.5 2.5l-.94 2.06-2.06.94zm10 10l.94 2.06.94-2.06 2.06-.94-2.06-.94-.94-2.06-.94 2.06-2.06.94z\"/><path d=\"M17.41 7.96l-1.37-1.37c-.4-.4-.92-.59-1.43-.59-.52 0-1.04.2-1.43.59L10.3 9.45l-7.72 7.72c-.78.78-.78 2.05 0 2.83L4 21.41c.39.39.9.59 1.41.59.51 0 1.02-.2 1.41-.59l7.78-7.78 2.81-2.81c.8-.78.8-2.07 0-2.86zM5.41 20L4 18.59l7.72-7.72 1.47 1.35L5.41 20z\"/>\n",
              "  </svg>\n",
              "      </button>\n",
              "      \n",
              "  <style>\n",
              "    .colab-df-container {\n",
              "      display:flex;\n",
              "      flex-wrap:wrap;\n",
              "      gap: 12px;\n",
              "    }\n",
              "\n",
              "    .colab-df-convert {\n",
              "      background-color: #E8F0FE;\n",
              "      border: none;\n",
              "      border-radius: 50%;\n",
              "      cursor: pointer;\n",
              "      display: none;\n",
              "      fill: #1967D2;\n",
              "      height: 32px;\n",
              "      padding: 0 0 0 0;\n",
              "      width: 32px;\n",
              "    }\n",
              "\n",
              "    .colab-df-convert:hover {\n",
              "      background-color: #E2EBFA;\n",
              "      box-shadow: 0px 1px 2px rgba(60, 64, 67, 0.3), 0px 1px 3px 1px rgba(60, 64, 67, 0.15);\n",
              "      fill: #174EA6;\n",
              "    }\n",
              "\n",
              "    [theme=dark] .colab-df-convert {\n",
              "      background-color: #3B4455;\n",
              "      fill: #D2E3FC;\n",
              "    }\n",
              "\n",
              "    [theme=dark] .colab-df-convert:hover {\n",
              "      background-color: #434B5C;\n",
              "      box-shadow: 0px 1px 3px 1px rgba(0, 0, 0, 0.15);\n",
              "      filter: drop-shadow(0px 1px 2px rgba(0, 0, 0, 0.3));\n",
              "      fill: #FFFFFF;\n",
              "    }\n",
              "  </style>\n",
              "\n",
              "      <script>\n",
              "        const buttonEl =\n",
              "          document.querySelector('#df-0ba9e0d2-b37e-45f0-bd4a-8917e6aa866a button.colab-df-convert');\n",
              "        buttonEl.style.display =\n",
              "          google.colab.kernel.accessAllowed ? 'block' : 'none';\n",
              "\n",
              "        async function convertToInteractive(key) {\n",
              "          const element = document.querySelector('#df-0ba9e0d2-b37e-45f0-bd4a-8917e6aa866a');\n",
              "          const dataTable =\n",
              "            await google.colab.kernel.invokeFunction('convertToInteractive',\n",
              "                                                     [key], {});\n",
              "          if (!dataTable) return;\n",
              "\n",
              "          const docLinkHtml = 'Like what you see? Visit the ' +\n",
              "            '<a target=\"_blank\" href=https://colab.research.google.com/notebooks/data_table.ipynb>data table notebook</a>'\n",
              "            + ' to learn more about interactive tables.';\n",
              "          element.innerHTML = '';\n",
              "          dataTable['output_type'] = 'display_data';\n",
              "          await google.colab.output.renderOutput(dataTable, element);\n",
              "          const docLink = document.createElement('div');\n",
              "          docLink.innerHTML = docLinkHtml;\n",
              "          element.appendChild(docLink);\n",
              "        }\n",
              "      </script>\n",
              "    </div>\n",
              "  </div>\n",
              "  "
            ]
          },
          "metadata": {},
          "execution_count": 6
        }
      ]
    },
    {
      "cell_type": "code",
      "source": [
        "df_1.dtypes"
      ],
      "metadata": {
        "colab": {
          "base_uri": "https://localhost:8080/"
        },
        "id": "rnbDJYMwpiin",
        "outputId": "1b45c4d4-627d-4c2b-e2ee-a304d2913d72"
      },
      "execution_count": 7,
      "outputs": [
        {
          "output_type": "execute_result",
          "data": {
            "text/plain": [
              "Filename                         object\n",
              "Date Published           datetime64[ns]\n",
              "Supervised Count                  int64\n",
              "Semi-Supervised Count             int64\n",
              "Unsupervised Count                int64\n",
              "Meta-Learning Count               int64\n",
              "dtype: object"
            ]
          },
          "metadata": {},
          "execution_count": 7
        }
      ]
    },
    {
      "cell_type": "markdown",
      "source": [
        "changing the column names , removing space"
      ],
      "metadata": {
        "id": "I12kfSs-Au3E"
      }
    },
    {
      "cell_type": "code",
      "source": [
        "print(\"Original column names:\")\n",
        "print(df_1.columns)"
      ],
      "metadata": {
        "colab": {
          "base_uri": "https://localhost:8080/"
        },
        "id": "LP4BONPxqlFe",
        "outputId": "2da05caa-0e94-4b95-8f9f-151c79184790"
      },
      "execution_count": 8,
      "outputs": [
        {
          "output_type": "stream",
          "name": "stdout",
          "text": [
            "Original column names:\n",
            "Index(['Filename', 'Date Published', 'Supervised Count',\n",
            "       'Semi-Supervised Count', 'Unsupervised Count', 'Meta-Learning Count'],\n",
            "      dtype='object')\n"
          ]
        }
      ]
    },
    {
      "cell_type": "code",
      "source": [
        "df_1.rename(columns={'Filename': 'filename', 'Date Published': 'date_published', 'Supervised Count': 'supervised', 'Semi-Supervised Count' : 'semi-supervised', 'Unsupervised Count' : 'unsupervised', 'Meta-Learning Count': 'meta-learning'}, inplace=True)\n"
      ],
      "metadata": {
        "id": "MIkLL-HLqp6O"
      },
      "execution_count": 9,
      "outputs": []
    },
    {
      "cell_type": "code",
      "source": [
        "print(\"New column names:\")\n",
        "print(df_1.columns)"
      ],
      "metadata": {
        "colab": {
          "base_uri": "https://localhost:8080/"
        },
        "id": "gN1gsLjftGKt",
        "outputId": "0e1b94c2-e625-43e9-b1de-c8031ab9c524"
      },
      "execution_count": 10,
      "outputs": [
        {
          "output_type": "stream",
          "name": "stdout",
          "text": [
            "New column names:\n",
            "Index(['filename', 'date_published', 'supervised', 'semi-supervised',\n",
            "       'unsupervised', 'meta-learning'],\n",
            "      dtype='object')\n"
          ]
        }
      ]
    },
    {
      "cell_type": "markdown",
      "source": [
        "**Writing a code to get references count along with year**"
      ],
      "metadata": {
        "id": "95c0dRZRBEpN"
      }
    },
    {
      "cell_type": "markdown",
      "source": [
        "we need to enter path to directory here"
      ],
      "metadata": {
        "id": "y_eZ3zcEqSWZ"
      }
    },
    {
      "cell_type": "code",
      "source": [
        "import os\n",
        "import re\n",
        "import pandas as pd\n",
        "\n",
        "\n",
        "pattern = r'(\\d{4})_\\d{1,2}_\\d{1,2}'\n",
        "\n",
        "\n",
        "results = []\n",
        "\n",
        "\n",
        "directory = '/content/drive/MyDrive/Big_data_assignment_files/wikipedia-ml'  # specify the directory path here\n",
        "for file in os.listdir(directory):\n",
        "    if file.endswith('.txt'):\n",
        "        \n",
        "        year = re.search(pattern, file).group(1)\n",
        "        \n",
        "      \n",
        "        with open(os.path.join(directory, file), 'r') as f:\n",
        "            contents = f.read()\n",
        "        \n",
        "      \n",
        "        refs = contents.split('\\n')\n",
        "        count_of_refs = len(refs)\n",
        "        results.append((year, count_of_refs))\n",
        "        \n",
        "\n",
        "df_2 = pd.DataFrame(results, columns=['Year', 'count_of_refs'])\n",
        "\n",
        "\n",
        "\n",
        "# displaying the resulting DataFrame\n",
        "print(df_2)"
      ],
      "metadata": {
        "colab": {
          "base_uri": "https://localhost:8080/"
        },
        "id": "dVhJ2dyhtaVs",
        "outputId": "b384b1e4-d388-4053-cd8d-7967a88cfcf9"
      },
      "execution_count": 11,
      "outputs": [
        {
          "output_type": "stream",
          "name": "stdout",
          "text": [
            "    Year  count_of_refs\n",
            "0   2023             92\n",
            "1   2023            141\n",
            "2   2021             78\n",
            "3   2021            121\n",
            "4   2022             83\n",
            "5   2022            123\n",
            "6   2022             86\n",
            "7   2022            137\n",
            "8   2023             93\n",
            "9   2023            141\n",
            "10  2013             31\n",
            "11  2013              8\n",
            "12  2013             29\n",
            "13  2013             10\n",
            "14  2014             30\n",
            "15  2014             13\n",
            "16  2014             33\n",
            "17  2014             14\n",
            "18  2015             42\n",
            "19  2015             26\n",
            "20  2015             45\n",
            "21  2015             29\n",
            "22  2016             44\n",
            "23  2016             29\n",
            "24  2016             46\n",
            "25  2016             34\n",
            "26  2017             51\n",
            "27  2017             41\n",
            "28  2017             51\n",
            "29  2017             44\n",
            "30  2018             51\n",
            "31  2018             52\n",
            "32  2018             52\n",
            "33  2018             53\n",
            "34  2019             60\n",
            "35  2019             88\n",
            "36  2019             63\n",
            "37  2019             83\n",
            "38  2020             69\n",
            "39  2020             90\n",
            "40  2020             72\n",
            "41  2020            101\n",
            "42  2021             79\n",
            "43  2021            118\n"
          ]
        }
      ]
    },
    {
      "cell_type": "markdown",
      "source": [
        "displaying the data frame"
      ],
      "metadata": {
        "id": "Og5QB6TeBcZ8"
      }
    },
    {
      "cell_type": "code",
      "source": [
        "df_2.head()"
      ],
      "metadata": {
        "colab": {
          "base_uri": "https://localhost:8080/",
          "height": 206
        },
        "id": "ifw0vc2KBRtD",
        "outputId": "1d9c65f5-9074-4858-d1a0-b9374a1882ed"
      },
      "execution_count": 12,
      "outputs": [
        {
          "output_type": "execute_result",
          "data": {
            "text/plain": [
              "   Year  count_of_refs\n",
              "0  2023             92\n",
              "1  2023            141\n",
              "2  2021             78\n",
              "3  2021            121\n",
              "4  2022             83"
            ],
            "text/html": [
              "\n",
              "  <div id=\"df-0c8f0a2e-7be7-4392-85ce-72c2b0c916de\">\n",
              "    <div class=\"colab-df-container\">\n",
              "      <div>\n",
              "<style scoped>\n",
              "    .dataframe tbody tr th:only-of-type {\n",
              "        vertical-align: middle;\n",
              "    }\n",
              "\n",
              "    .dataframe tbody tr th {\n",
              "        vertical-align: top;\n",
              "    }\n",
              "\n",
              "    .dataframe thead th {\n",
              "        text-align: right;\n",
              "    }\n",
              "</style>\n",
              "<table border=\"1\" class=\"dataframe\">\n",
              "  <thead>\n",
              "    <tr style=\"text-align: right;\">\n",
              "      <th></th>\n",
              "      <th>Year</th>\n",
              "      <th>count_of_refs</th>\n",
              "    </tr>\n",
              "  </thead>\n",
              "  <tbody>\n",
              "    <tr>\n",
              "      <th>0</th>\n",
              "      <td>2023</td>\n",
              "      <td>92</td>\n",
              "    </tr>\n",
              "    <tr>\n",
              "      <th>1</th>\n",
              "      <td>2023</td>\n",
              "      <td>141</td>\n",
              "    </tr>\n",
              "    <tr>\n",
              "      <th>2</th>\n",
              "      <td>2021</td>\n",
              "      <td>78</td>\n",
              "    </tr>\n",
              "    <tr>\n",
              "      <th>3</th>\n",
              "      <td>2021</td>\n",
              "      <td>121</td>\n",
              "    </tr>\n",
              "    <tr>\n",
              "      <th>4</th>\n",
              "      <td>2022</td>\n",
              "      <td>83</td>\n",
              "    </tr>\n",
              "  </tbody>\n",
              "</table>\n",
              "</div>\n",
              "      <button class=\"colab-df-convert\" onclick=\"convertToInteractive('df-0c8f0a2e-7be7-4392-85ce-72c2b0c916de')\"\n",
              "              title=\"Convert this dataframe to an interactive table.\"\n",
              "              style=\"display:none;\">\n",
              "        \n",
              "  <svg xmlns=\"http://www.w3.org/2000/svg\" height=\"24px\"viewBox=\"0 0 24 24\"\n",
              "       width=\"24px\">\n",
              "    <path d=\"M0 0h24v24H0V0z\" fill=\"none\"/>\n",
              "    <path d=\"M18.56 5.44l.94 2.06.94-2.06 2.06-.94-2.06-.94-.94-2.06-.94 2.06-2.06.94zm-11 1L8.5 8.5l.94-2.06 2.06-.94-2.06-.94L8.5 2.5l-.94 2.06-2.06.94zm10 10l.94 2.06.94-2.06 2.06-.94-2.06-.94-.94-2.06-.94 2.06-2.06.94z\"/><path d=\"M17.41 7.96l-1.37-1.37c-.4-.4-.92-.59-1.43-.59-.52 0-1.04.2-1.43.59L10.3 9.45l-7.72 7.72c-.78.78-.78 2.05 0 2.83L4 21.41c.39.39.9.59 1.41.59.51 0 1.02-.2 1.41-.59l7.78-7.78 2.81-2.81c.8-.78.8-2.07 0-2.86zM5.41 20L4 18.59l7.72-7.72 1.47 1.35L5.41 20z\"/>\n",
              "  </svg>\n",
              "      </button>\n",
              "      \n",
              "  <style>\n",
              "    .colab-df-container {\n",
              "      display:flex;\n",
              "      flex-wrap:wrap;\n",
              "      gap: 12px;\n",
              "    }\n",
              "\n",
              "    .colab-df-convert {\n",
              "      background-color: #E8F0FE;\n",
              "      border: none;\n",
              "      border-radius: 50%;\n",
              "      cursor: pointer;\n",
              "      display: none;\n",
              "      fill: #1967D2;\n",
              "      height: 32px;\n",
              "      padding: 0 0 0 0;\n",
              "      width: 32px;\n",
              "    }\n",
              "\n",
              "    .colab-df-convert:hover {\n",
              "      background-color: #E2EBFA;\n",
              "      box-shadow: 0px 1px 2px rgba(60, 64, 67, 0.3), 0px 1px 3px 1px rgba(60, 64, 67, 0.15);\n",
              "      fill: #174EA6;\n",
              "    }\n",
              "\n",
              "    [theme=dark] .colab-df-convert {\n",
              "      background-color: #3B4455;\n",
              "      fill: #D2E3FC;\n",
              "    }\n",
              "\n",
              "    [theme=dark] .colab-df-convert:hover {\n",
              "      background-color: #434B5C;\n",
              "      box-shadow: 0px 1px 3px 1px rgba(0, 0, 0, 0.15);\n",
              "      filter: drop-shadow(0px 1px 2px rgba(0, 0, 0, 0.3));\n",
              "      fill: #FFFFFF;\n",
              "    }\n",
              "  </style>\n",
              "\n",
              "      <script>\n",
              "        const buttonEl =\n",
              "          document.querySelector('#df-0c8f0a2e-7be7-4392-85ce-72c2b0c916de button.colab-df-convert');\n",
              "        buttonEl.style.display =\n",
              "          google.colab.kernel.accessAllowed ? 'block' : 'none';\n",
              "\n",
              "        async function convertToInteractive(key) {\n",
              "          const element = document.querySelector('#df-0c8f0a2e-7be7-4392-85ce-72c2b0c916de');\n",
              "          const dataTable =\n",
              "            await google.colab.kernel.invokeFunction('convertToInteractive',\n",
              "                                                     [key], {});\n",
              "          if (!dataTable) return;\n",
              "\n",
              "          const docLinkHtml = 'Like what you see? Visit the ' +\n",
              "            '<a target=\"_blank\" href=https://colab.research.google.com/notebooks/data_table.ipynb>data table notebook</a>'\n",
              "            + ' to learn more about interactive tables.';\n",
              "          element.innerHTML = '';\n",
              "          dataTable['output_type'] = 'display_data';\n",
              "          await google.colab.output.renderOutput(dataTable, element);\n",
              "          const docLink = document.createElement('div');\n",
              "          docLink.innerHTML = docLinkHtml;\n",
              "          element.appendChild(docLink);\n",
              "        }\n",
              "      </script>\n",
              "    </div>\n",
              "  </div>\n",
              "  "
            ]
          },
          "metadata": {},
          "execution_count": 12
        }
      ]
    },
    {
      "cell_type": "markdown",
      "source": [
        "I am droping the year as we can get date from date_published"
      ],
      "metadata": {
        "id": "HhiQ9t-ldTrO"
      }
    },
    {
      "cell_type": "code",
      "source": [
        "df_2.drop('Year', axis=1, inplace=True)"
      ],
      "metadata": {
        "id": "h6L_0RImukWN"
      },
      "execution_count": 13,
      "outputs": []
    },
    {
      "cell_type": "code",
      "source": [
        "df_2.head()"
      ],
      "metadata": {
        "colab": {
          "base_uri": "https://localhost:8080/",
          "height": 206
        },
        "id": "7Lhjx80Xu08d",
        "outputId": "951aad66-76a2-42e1-d812-c5227a6c6d35"
      },
      "execution_count": 14,
      "outputs": [
        {
          "output_type": "execute_result",
          "data": {
            "text/plain": [
              "   count_of_refs\n",
              "0             92\n",
              "1            141\n",
              "2             78\n",
              "3            121\n",
              "4             83"
            ],
            "text/html": [
              "\n",
              "  <div id=\"df-ddfc9a4b-c7ad-4e6b-a494-8cfd73e5be26\">\n",
              "    <div class=\"colab-df-container\">\n",
              "      <div>\n",
              "<style scoped>\n",
              "    .dataframe tbody tr th:only-of-type {\n",
              "        vertical-align: middle;\n",
              "    }\n",
              "\n",
              "    .dataframe tbody tr th {\n",
              "        vertical-align: top;\n",
              "    }\n",
              "\n",
              "    .dataframe thead th {\n",
              "        text-align: right;\n",
              "    }\n",
              "</style>\n",
              "<table border=\"1\" class=\"dataframe\">\n",
              "  <thead>\n",
              "    <tr style=\"text-align: right;\">\n",
              "      <th></th>\n",
              "      <th>count_of_refs</th>\n",
              "    </tr>\n",
              "  </thead>\n",
              "  <tbody>\n",
              "    <tr>\n",
              "      <th>0</th>\n",
              "      <td>92</td>\n",
              "    </tr>\n",
              "    <tr>\n",
              "      <th>1</th>\n",
              "      <td>141</td>\n",
              "    </tr>\n",
              "    <tr>\n",
              "      <th>2</th>\n",
              "      <td>78</td>\n",
              "    </tr>\n",
              "    <tr>\n",
              "      <th>3</th>\n",
              "      <td>121</td>\n",
              "    </tr>\n",
              "    <tr>\n",
              "      <th>4</th>\n",
              "      <td>83</td>\n",
              "    </tr>\n",
              "  </tbody>\n",
              "</table>\n",
              "</div>\n",
              "      <button class=\"colab-df-convert\" onclick=\"convertToInteractive('df-ddfc9a4b-c7ad-4e6b-a494-8cfd73e5be26')\"\n",
              "              title=\"Convert this dataframe to an interactive table.\"\n",
              "              style=\"display:none;\">\n",
              "        \n",
              "  <svg xmlns=\"http://www.w3.org/2000/svg\" height=\"24px\"viewBox=\"0 0 24 24\"\n",
              "       width=\"24px\">\n",
              "    <path d=\"M0 0h24v24H0V0z\" fill=\"none\"/>\n",
              "    <path d=\"M18.56 5.44l.94 2.06.94-2.06 2.06-.94-2.06-.94-.94-2.06-.94 2.06-2.06.94zm-11 1L8.5 8.5l.94-2.06 2.06-.94-2.06-.94L8.5 2.5l-.94 2.06-2.06.94zm10 10l.94 2.06.94-2.06 2.06-.94-2.06-.94-.94-2.06-.94 2.06-2.06.94z\"/><path d=\"M17.41 7.96l-1.37-1.37c-.4-.4-.92-.59-1.43-.59-.52 0-1.04.2-1.43.59L10.3 9.45l-7.72 7.72c-.78.78-.78 2.05 0 2.83L4 21.41c.39.39.9.59 1.41.59.51 0 1.02-.2 1.41-.59l7.78-7.78 2.81-2.81c.8-.78.8-2.07 0-2.86zM5.41 20L4 18.59l7.72-7.72 1.47 1.35L5.41 20z\"/>\n",
              "  </svg>\n",
              "      </button>\n",
              "      \n",
              "  <style>\n",
              "    .colab-df-container {\n",
              "      display:flex;\n",
              "      flex-wrap:wrap;\n",
              "      gap: 12px;\n",
              "    }\n",
              "\n",
              "    .colab-df-convert {\n",
              "      background-color: #E8F0FE;\n",
              "      border: none;\n",
              "      border-radius: 50%;\n",
              "      cursor: pointer;\n",
              "      display: none;\n",
              "      fill: #1967D2;\n",
              "      height: 32px;\n",
              "      padding: 0 0 0 0;\n",
              "      width: 32px;\n",
              "    }\n",
              "\n",
              "    .colab-df-convert:hover {\n",
              "      background-color: #E2EBFA;\n",
              "      box-shadow: 0px 1px 2px rgba(60, 64, 67, 0.3), 0px 1px 3px 1px rgba(60, 64, 67, 0.15);\n",
              "      fill: #174EA6;\n",
              "    }\n",
              "\n",
              "    [theme=dark] .colab-df-convert {\n",
              "      background-color: #3B4455;\n",
              "      fill: #D2E3FC;\n",
              "    }\n",
              "\n",
              "    [theme=dark] .colab-df-convert:hover {\n",
              "      background-color: #434B5C;\n",
              "      box-shadow: 0px 1px 3px 1px rgba(0, 0, 0, 0.15);\n",
              "      filter: drop-shadow(0px 1px 2px rgba(0, 0, 0, 0.3));\n",
              "      fill: #FFFFFF;\n",
              "    }\n",
              "  </style>\n",
              "\n",
              "      <script>\n",
              "        const buttonEl =\n",
              "          document.querySelector('#df-ddfc9a4b-c7ad-4e6b-a494-8cfd73e5be26 button.colab-df-convert');\n",
              "        buttonEl.style.display =\n",
              "          google.colab.kernel.accessAllowed ? 'block' : 'none';\n",
              "\n",
              "        async function convertToInteractive(key) {\n",
              "          const element = document.querySelector('#df-ddfc9a4b-c7ad-4e6b-a494-8cfd73e5be26');\n",
              "          const dataTable =\n",
              "            await google.colab.kernel.invokeFunction('convertToInteractive',\n",
              "                                                     [key], {});\n",
              "          if (!dataTable) return;\n",
              "\n",
              "          const docLinkHtml = 'Like what you see? Visit the ' +\n",
              "            '<a target=\"_blank\" href=https://colab.research.google.com/notebooks/data_table.ipynb>data table notebook</a>'\n",
              "            + ' to learn more about interactive tables.';\n",
              "          element.innerHTML = '';\n",
              "          dataTable['output_type'] = 'display_data';\n",
              "          await google.colab.output.renderOutput(dataTable, element);\n",
              "          const docLink = document.createElement('div');\n",
              "          docLink.innerHTML = docLinkHtml;\n",
              "          element.appendChild(docLink);\n",
              "        }\n",
              "      </script>\n",
              "    </div>\n",
              "  </div>\n",
              "  "
            ]
          },
          "metadata": {},
          "execution_count": 14
        }
      ]
    },
    {
      "cell_type": "markdown",
      "source": [
        "Now as i have got my required data frames i am joining them both to get better results"
      ],
      "metadata": {
        "id": "OUxSEeXCBgQb"
      }
    },
    {
      "cell_type": "code",
      "source": [
        "joined_df = df_1.join(df_2, how='outer')"
      ],
      "metadata": {
        "id": "CMXBJ5l7vF_C"
      },
      "execution_count": 15,
      "outputs": []
    },
    {
      "cell_type": "code",
      "source": [
        "joined_df.head()"
      ],
      "metadata": {
        "colab": {
          "base_uri": "https://localhost:8080/",
          "height": 206
        },
        "id": "TXd4DJgQyPYX",
        "outputId": "c0b61cbc-c0bf-4e97-ec22-043f2e70aa26"
      },
      "execution_count": 16,
      "outputs": [
        {
          "output_type": "execute_result",
          "data": {
            "text/plain": [
              "                                         filename date_published  supervised  \\\n",
              "0  article_Machine learning - Wikipedia_2023_3_13     2023-03-13          29   \n",
              "1     refs_Machine learning - Wikipedia_2023_3_13     2023-03-13           2   \n",
              "2  article_Machine learning - Wikipedia_2021_6_19     2021-06-19          28   \n",
              "3     refs_Machine learning - Wikipedia_2021_6_19     2021-06-19           2   \n",
              "4   article_Machine learning - Wikipedia_2022_1_2     2022-01-02          29   \n",
              "\n",
              "   semi-supervised  unsupervised  meta-learning  count_of_refs  \n",
              "0                0            11              2             92  \n",
              "1                0             1              0            141  \n",
              "2                0            11              0             78  \n",
              "3                0             1              0            121  \n",
              "4                0            11              1             83  "
            ],
            "text/html": [
              "\n",
              "  <div id=\"df-101ed557-7732-42ac-969e-f4226d7e96c3\">\n",
              "    <div class=\"colab-df-container\">\n",
              "      <div>\n",
              "<style scoped>\n",
              "    .dataframe tbody tr th:only-of-type {\n",
              "        vertical-align: middle;\n",
              "    }\n",
              "\n",
              "    .dataframe tbody tr th {\n",
              "        vertical-align: top;\n",
              "    }\n",
              "\n",
              "    .dataframe thead th {\n",
              "        text-align: right;\n",
              "    }\n",
              "</style>\n",
              "<table border=\"1\" class=\"dataframe\">\n",
              "  <thead>\n",
              "    <tr style=\"text-align: right;\">\n",
              "      <th></th>\n",
              "      <th>filename</th>\n",
              "      <th>date_published</th>\n",
              "      <th>supervised</th>\n",
              "      <th>semi-supervised</th>\n",
              "      <th>unsupervised</th>\n",
              "      <th>meta-learning</th>\n",
              "      <th>count_of_refs</th>\n",
              "    </tr>\n",
              "  </thead>\n",
              "  <tbody>\n",
              "    <tr>\n",
              "      <th>0</th>\n",
              "      <td>article_Machine learning - Wikipedia_2023_3_13</td>\n",
              "      <td>2023-03-13</td>\n",
              "      <td>29</td>\n",
              "      <td>0</td>\n",
              "      <td>11</td>\n",
              "      <td>2</td>\n",
              "      <td>92</td>\n",
              "    </tr>\n",
              "    <tr>\n",
              "      <th>1</th>\n",
              "      <td>refs_Machine learning - Wikipedia_2023_3_13</td>\n",
              "      <td>2023-03-13</td>\n",
              "      <td>2</td>\n",
              "      <td>0</td>\n",
              "      <td>1</td>\n",
              "      <td>0</td>\n",
              "      <td>141</td>\n",
              "    </tr>\n",
              "    <tr>\n",
              "      <th>2</th>\n",
              "      <td>article_Machine learning - Wikipedia_2021_6_19</td>\n",
              "      <td>2021-06-19</td>\n",
              "      <td>28</td>\n",
              "      <td>0</td>\n",
              "      <td>11</td>\n",
              "      <td>0</td>\n",
              "      <td>78</td>\n",
              "    </tr>\n",
              "    <tr>\n",
              "      <th>3</th>\n",
              "      <td>refs_Machine learning - Wikipedia_2021_6_19</td>\n",
              "      <td>2021-06-19</td>\n",
              "      <td>2</td>\n",
              "      <td>0</td>\n",
              "      <td>1</td>\n",
              "      <td>0</td>\n",
              "      <td>121</td>\n",
              "    </tr>\n",
              "    <tr>\n",
              "      <th>4</th>\n",
              "      <td>article_Machine learning - Wikipedia_2022_1_2</td>\n",
              "      <td>2022-01-02</td>\n",
              "      <td>29</td>\n",
              "      <td>0</td>\n",
              "      <td>11</td>\n",
              "      <td>1</td>\n",
              "      <td>83</td>\n",
              "    </tr>\n",
              "  </tbody>\n",
              "</table>\n",
              "</div>\n",
              "      <button class=\"colab-df-convert\" onclick=\"convertToInteractive('df-101ed557-7732-42ac-969e-f4226d7e96c3')\"\n",
              "              title=\"Convert this dataframe to an interactive table.\"\n",
              "              style=\"display:none;\">\n",
              "        \n",
              "  <svg xmlns=\"http://www.w3.org/2000/svg\" height=\"24px\"viewBox=\"0 0 24 24\"\n",
              "       width=\"24px\">\n",
              "    <path d=\"M0 0h24v24H0V0z\" fill=\"none\"/>\n",
              "    <path d=\"M18.56 5.44l.94 2.06.94-2.06 2.06-.94-2.06-.94-.94-2.06-.94 2.06-2.06.94zm-11 1L8.5 8.5l.94-2.06 2.06-.94-2.06-.94L8.5 2.5l-.94 2.06-2.06.94zm10 10l.94 2.06.94-2.06 2.06-.94-2.06-.94-.94-2.06-.94 2.06-2.06.94z\"/><path d=\"M17.41 7.96l-1.37-1.37c-.4-.4-.92-.59-1.43-.59-.52 0-1.04.2-1.43.59L10.3 9.45l-7.72 7.72c-.78.78-.78 2.05 0 2.83L4 21.41c.39.39.9.59 1.41.59.51 0 1.02-.2 1.41-.59l7.78-7.78 2.81-2.81c.8-.78.8-2.07 0-2.86zM5.41 20L4 18.59l7.72-7.72 1.47 1.35L5.41 20z\"/>\n",
              "  </svg>\n",
              "      </button>\n",
              "      \n",
              "  <style>\n",
              "    .colab-df-container {\n",
              "      display:flex;\n",
              "      flex-wrap:wrap;\n",
              "      gap: 12px;\n",
              "    }\n",
              "\n",
              "    .colab-df-convert {\n",
              "      background-color: #E8F0FE;\n",
              "      border: none;\n",
              "      border-radius: 50%;\n",
              "      cursor: pointer;\n",
              "      display: none;\n",
              "      fill: #1967D2;\n",
              "      height: 32px;\n",
              "      padding: 0 0 0 0;\n",
              "      width: 32px;\n",
              "    }\n",
              "\n",
              "    .colab-df-convert:hover {\n",
              "      background-color: #E2EBFA;\n",
              "      box-shadow: 0px 1px 2px rgba(60, 64, 67, 0.3), 0px 1px 3px 1px rgba(60, 64, 67, 0.15);\n",
              "      fill: #174EA6;\n",
              "    }\n",
              "\n",
              "    [theme=dark] .colab-df-convert {\n",
              "      background-color: #3B4455;\n",
              "      fill: #D2E3FC;\n",
              "    }\n",
              "\n",
              "    [theme=dark] .colab-df-convert:hover {\n",
              "      background-color: #434B5C;\n",
              "      box-shadow: 0px 1px 3px 1px rgba(0, 0, 0, 0.15);\n",
              "      filter: drop-shadow(0px 1px 2px rgba(0, 0, 0, 0.3));\n",
              "      fill: #FFFFFF;\n",
              "    }\n",
              "  </style>\n",
              "\n",
              "      <script>\n",
              "        const buttonEl =\n",
              "          document.querySelector('#df-101ed557-7732-42ac-969e-f4226d7e96c3 button.colab-df-convert');\n",
              "        buttonEl.style.display =\n",
              "          google.colab.kernel.accessAllowed ? 'block' : 'none';\n",
              "\n",
              "        async function convertToInteractive(key) {\n",
              "          const element = document.querySelector('#df-101ed557-7732-42ac-969e-f4226d7e96c3');\n",
              "          const dataTable =\n",
              "            await google.colab.kernel.invokeFunction('convertToInteractive',\n",
              "                                                     [key], {});\n",
              "          if (!dataTable) return;\n",
              "\n",
              "          const docLinkHtml = 'Like what you see? Visit the ' +\n",
              "            '<a target=\"_blank\" href=https://colab.research.google.com/notebooks/data_table.ipynb>data table notebook</a>'\n",
              "            + ' to learn more about interactive tables.';\n",
              "          element.innerHTML = '';\n",
              "          dataTable['output_type'] = 'display_data';\n",
              "          await google.colab.output.renderOutput(dataTable, element);\n",
              "          const docLink = document.createElement('div');\n",
              "          docLink.innerHTML = docLinkHtml;\n",
              "          element.appendChild(docLink);\n",
              "        }\n",
              "      </script>\n",
              "    </div>\n",
              "  </div>\n",
              "  "
            ]
          },
          "metadata": {},
          "execution_count": 16
        }
      ]
    },
    {
      "cell_type": "markdown",
      "source": [
        "**As you can see previously i had counted the number of time 'supervised' and other words have occured in the text files which was not needed so, i am changing if value of them is greater than zero i am changing the numbers to 'Yes' or else 'No'.**"
      ],
      "metadata": {
        "id": "L1BqZpykDfRx"
      }
    },
    {
      "cell_type": "code",
      "source": [
        "yes_no = lambda x: 'Yes' if x > 0 else 'No'\n",
        "joined_df[['supervised', 'semi-supervised', 'unsupervised', 'meta-learning']] = joined_df[['supervised', 'semi-supervised', 'unsupervised', 'meta-learning']].applymap(yes_no)"
      ],
      "metadata": {
        "id": "BLLTdNhE9nSj"
      },
      "execution_count": 17,
      "outputs": []
    },
    {
      "cell_type": "code",
      "source": [
        "joined_df.head()"
      ],
      "metadata": {
        "colab": {
          "base_uri": "https://localhost:8080/",
          "height": 206
        },
        "id": "j2PlFJfO-vvD",
        "outputId": "c402aeb9-1dda-437d-dfec-d3bee40624ae"
      },
      "execution_count": 18,
      "outputs": [
        {
          "output_type": "execute_result",
          "data": {
            "text/plain": [
              "                                         filename date_published supervised  \\\n",
              "0  article_Machine learning - Wikipedia_2023_3_13     2023-03-13        Yes   \n",
              "1     refs_Machine learning - Wikipedia_2023_3_13     2023-03-13        Yes   \n",
              "2  article_Machine learning - Wikipedia_2021_6_19     2021-06-19        Yes   \n",
              "3     refs_Machine learning - Wikipedia_2021_6_19     2021-06-19        Yes   \n",
              "4   article_Machine learning - Wikipedia_2022_1_2     2022-01-02        Yes   \n",
              "\n",
              "  semi-supervised unsupervised meta-learning  count_of_refs  \n",
              "0              No          Yes           Yes             92  \n",
              "1              No          Yes            No            141  \n",
              "2              No          Yes            No             78  \n",
              "3              No          Yes            No            121  \n",
              "4              No          Yes           Yes             83  "
            ],
            "text/html": [
              "\n",
              "  <div id=\"df-b2c646c9-b5a8-4d04-8bfe-d7217ca73186\">\n",
              "    <div class=\"colab-df-container\">\n",
              "      <div>\n",
              "<style scoped>\n",
              "    .dataframe tbody tr th:only-of-type {\n",
              "        vertical-align: middle;\n",
              "    }\n",
              "\n",
              "    .dataframe tbody tr th {\n",
              "        vertical-align: top;\n",
              "    }\n",
              "\n",
              "    .dataframe thead th {\n",
              "        text-align: right;\n",
              "    }\n",
              "</style>\n",
              "<table border=\"1\" class=\"dataframe\">\n",
              "  <thead>\n",
              "    <tr style=\"text-align: right;\">\n",
              "      <th></th>\n",
              "      <th>filename</th>\n",
              "      <th>date_published</th>\n",
              "      <th>supervised</th>\n",
              "      <th>semi-supervised</th>\n",
              "      <th>unsupervised</th>\n",
              "      <th>meta-learning</th>\n",
              "      <th>count_of_refs</th>\n",
              "    </tr>\n",
              "  </thead>\n",
              "  <tbody>\n",
              "    <tr>\n",
              "      <th>0</th>\n",
              "      <td>article_Machine learning - Wikipedia_2023_3_13</td>\n",
              "      <td>2023-03-13</td>\n",
              "      <td>Yes</td>\n",
              "      <td>No</td>\n",
              "      <td>Yes</td>\n",
              "      <td>Yes</td>\n",
              "      <td>92</td>\n",
              "    </tr>\n",
              "    <tr>\n",
              "      <th>1</th>\n",
              "      <td>refs_Machine learning - Wikipedia_2023_3_13</td>\n",
              "      <td>2023-03-13</td>\n",
              "      <td>Yes</td>\n",
              "      <td>No</td>\n",
              "      <td>Yes</td>\n",
              "      <td>No</td>\n",
              "      <td>141</td>\n",
              "    </tr>\n",
              "    <tr>\n",
              "      <th>2</th>\n",
              "      <td>article_Machine learning - Wikipedia_2021_6_19</td>\n",
              "      <td>2021-06-19</td>\n",
              "      <td>Yes</td>\n",
              "      <td>No</td>\n",
              "      <td>Yes</td>\n",
              "      <td>No</td>\n",
              "      <td>78</td>\n",
              "    </tr>\n",
              "    <tr>\n",
              "      <th>3</th>\n",
              "      <td>refs_Machine learning - Wikipedia_2021_6_19</td>\n",
              "      <td>2021-06-19</td>\n",
              "      <td>Yes</td>\n",
              "      <td>No</td>\n",
              "      <td>Yes</td>\n",
              "      <td>No</td>\n",
              "      <td>121</td>\n",
              "    </tr>\n",
              "    <tr>\n",
              "      <th>4</th>\n",
              "      <td>article_Machine learning - Wikipedia_2022_1_2</td>\n",
              "      <td>2022-01-02</td>\n",
              "      <td>Yes</td>\n",
              "      <td>No</td>\n",
              "      <td>Yes</td>\n",
              "      <td>Yes</td>\n",
              "      <td>83</td>\n",
              "    </tr>\n",
              "  </tbody>\n",
              "</table>\n",
              "</div>\n",
              "      <button class=\"colab-df-convert\" onclick=\"convertToInteractive('df-b2c646c9-b5a8-4d04-8bfe-d7217ca73186')\"\n",
              "              title=\"Convert this dataframe to an interactive table.\"\n",
              "              style=\"display:none;\">\n",
              "        \n",
              "  <svg xmlns=\"http://www.w3.org/2000/svg\" height=\"24px\"viewBox=\"0 0 24 24\"\n",
              "       width=\"24px\">\n",
              "    <path d=\"M0 0h24v24H0V0z\" fill=\"none\"/>\n",
              "    <path d=\"M18.56 5.44l.94 2.06.94-2.06 2.06-.94-2.06-.94-.94-2.06-.94 2.06-2.06.94zm-11 1L8.5 8.5l.94-2.06 2.06-.94-2.06-.94L8.5 2.5l-.94 2.06-2.06.94zm10 10l.94 2.06.94-2.06 2.06-.94-2.06-.94-.94-2.06-.94 2.06-2.06.94z\"/><path d=\"M17.41 7.96l-1.37-1.37c-.4-.4-.92-.59-1.43-.59-.52 0-1.04.2-1.43.59L10.3 9.45l-7.72 7.72c-.78.78-.78 2.05 0 2.83L4 21.41c.39.39.9.59 1.41.59.51 0 1.02-.2 1.41-.59l7.78-7.78 2.81-2.81c.8-.78.8-2.07 0-2.86zM5.41 20L4 18.59l7.72-7.72 1.47 1.35L5.41 20z\"/>\n",
              "  </svg>\n",
              "      </button>\n",
              "      \n",
              "  <style>\n",
              "    .colab-df-container {\n",
              "      display:flex;\n",
              "      flex-wrap:wrap;\n",
              "      gap: 12px;\n",
              "    }\n",
              "\n",
              "    .colab-df-convert {\n",
              "      background-color: #E8F0FE;\n",
              "      border: none;\n",
              "      border-radius: 50%;\n",
              "      cursor: pointer;\n",
              "      display: none;\n",
              "      fill: #1967D2;\n",
              "      height: 32px;\n",
              "      padding: 0 0 0 0;\n",
              "      width: 32px;\n",
              "    }\n",
              "\n",
              "    .colab-df-convert:hover {\n",
              "      background-color: #E2EBFA;\n",
              "      box-shadow: 0px 1px 2px rgba(60, 64, 67, 0.3), 0px 1px 3px 1px rgba(60, 64, 67, 0.15);\n",
              "      fill: #174EA6;\n",
              "    }\n",
              "\n",
              "    [theme=dark] .colab-df-convert {\n",
              "      background-color: #3B4455;\n",
              "      fill: #D2E3FC;\n",
              "    }\n",
              "\n",
              "    [theme=dark] .colab-df-convert:hover {\n",
              "      background-color: #434B5C;\n",
              "      box-shadow: 0px 1px 3px 1px rgba(0, 0, 0, 0.15);\n",
              "      filter: drop-shadow(0px 1px 2px rgba(0, 0, 0, 0.3));\n",
              "      fill: #FFFFFF;\n",
              "    }\n",
              "  </style>\n",
              "\n",
              "      <script>\n",
              "        const buttonEl =\n",
              "          document.querySelector('#df-b2c646c9-b5a8-4d04-8bfe-d7217ca73186 button.colab-df-convert');\n",
              "        buttonEl.style.display =\n",
              "          google.colab.kernel.accessAllowed ? 'block' : 'none';\n",
              "\n",
              "        async function convertToInteractive(key) {\n",
              "          const element = document.querySelector('#df-b2c646c9-b5a8-4d04-8bfe-d7217ca73186');\n",
              "          const dataTable =\n",
              "            await google.colab.kernel.invokeFunction('convertToInteractive',\n",
              "                                                     [key], {});\n",
              "          if (!dataTable) return;\n",
              "\n",
              "          const docLinkHtml = 'Like what you see? Visit the ' +\n",
              "            '<a target=\"_blank\" href=https://colab.research.google.com/notebooks/data_table.ipynb>data table notebook</a>'\n",
              "            + ' to learn more about interactive tables.';\n",
              "          element.innerHTML = '';\n",
              "          dataTable['output_type'] = 'display_data';\n",
              "          await google.colab.output.renderOutput(dataTable, element);\n",
              "          const docLink = document.createElement('div');\n",
              "          docLink.innerHTML = docLinkHtml;\n",
              "          element.appendChild(docLink);\n",
              "        }\n",
              "      </script>\n",
              "    </div>\n",
              "  </div>\n",
              "  "
            ]
          },
          "metadata": {},
          "execution_count": 18
        }
      ]
    },
    {
      "cell_type": "markdown",
      "source": [
        "converting to csv"
      ],
      "metadata": {
        "id": "sLvztVkRCGTP"
      }
    },
    {
      "cell_type": "code",
      "source": [
        "import os\n",
        "import pandas as pd\n",
        "\n",
        "filename = 'my_dataframe.csv'\n",
        "\n",
        "# check if the file already exists\n",
        "if os.path.exists(filename):\n",
        "    print(f\"The file '{filename}' already exists, the data frame will not be saved to a new file.\")\n",
        "else:\n",
        "    # save the data frame to a CSV file\n",
        "    joined_df.to_csv(filename, index=False)\n",
        "    print(f\"The data frame has been saved to the file '{filename}'.\")\n"
      ],
      "metadata": {
        "colab": {
          "base_uri": "https://localhost:8080/"
        },
        "id": "48_8Nzqeysht",
        "outputId": "63d3e1f5-1b2b-4c70-cd3d-762210090977"
      },
      "execution_count": 19,
      "outputs": [
        {
          "output_type": "stream",
          "name": "stdout",
          "text": [
            "The file 'my_dataframe.csv' already exists, the data frame will not be saved to a new file.\n"
          ]
        }
      ]
    },
    {
      "cell_type": "code",
      "source": [
        "!apt update\n"
      ],
      "metadata": {
        "colab": {
          "base_uri": "https://localhost:8080/"
        },
        "id": "QBPV-ilD5wBI",
        "outputId": "ae2741b8-1b64-4650-e12b-abd0ac878db2"
      },
      "execution_count": 20,
      "outputs": [
        {
          "output_type": "stream",
          "name": "stdout",
          "text": [
            "\u001b[33m\r0% [Working]\u001b[0m\r            \rHit:1 http://archive.ubuntu.com/ubuntu focal InRelease\n",
            "\u001b[33m\r0% [Connecting to security.ubuntu.com (185.125.190.39)] [Connected to cloud.r-p\u001b[0m\r                                                                               \rHit:2 https://developer.download.nvidia.com/compute/cuda/repos/ubuntu2004/x86_64  InRelease\n",
            "\u001b[33m\r0% [Waiting for headers] [Waiting for headers] [Waiting for headers] [Waiting f\u001b[0m\r                                                                               \rHit:3 http://archive.ubuntu.com/ubuntu focal-updates InRelease\n",
            "\u001b[33m\r0% [Waiting for headers] [Waiting for headers] [Waiting for headers] [Waiting f\u001b[0m\r                                                                               \rHit:4 https://cloud.r-project.org/bin/linux/ubuntu focal-cran40/ InRelease\n",
            "Hit:5 http://archive.ubuntu.com/ubuntu focal-backports InRelease\n",
            "Hit:6 http://security.ubuntu.com/ubuntu focal-security InRelease\n",
            "Hit:7 http://ppa.launchpad.net/c2d4u.team/c2d4u4.0+/ubuntu focal InRelease\n",
            "Hit:8 http://ppa.launchpad.net/cran/libgit2/ubuntu focal InRelease\n",
            "Hit:9 http://ppa.launchpad.net/deadsnakes/ppa/ubuntu focal InRelease\n",
            "Hit:10 http://ppa.launchpad.net/graphics-drivers/ppa/ubuntu focal InRelease\n",
            "Hit:11 http://ppa.launchpad.net/ubuntugis/ppa/ubuntu focal InRelease\n",
            "Reading package lists... Done\n",
            "Building dependency tree       \n",
            "Reading state information... Done\n",
            "53 packages can be upgraded. Run 'apt list --upgradable' to see them.\n"
          ]
        }
      ]
    },
    {
      "cell_type": "code",
      "source": [
        "!apt install mongodb mongodb-server \n"
      ],
      "metadata": {
        "colab": {
          "base_uri": "https://localhost:8080/"
        },
        "id": "g3uYXd32526f",
        "outputId": "95ed010f-c298-4bbb-e3dc-dfcb2ec1f0a6"
      },
      "execution_count": 21,
      "outputs": [
        {
          "output_type": "stream",
          "name": "stdout",
          "text": [
            "Reading package lists... Done\n",
            "Building dependency tree       \n",
            "Reading state information... Done\n",
            "mongodb is already the newest version (1:3.6.9+really3.6.8+90~g8e540c0b6d-0ubuntu5.3).\n",
            "mongodb-server is already the newest version (1:3.6.9+really3.6.8+90~g8e540c0b6d-0ubuntu5.3).\n",
            "0 upgraded, 0 newly installed, 0 to remove and 53 not upgraded.\n"
          ]
        }
      ]
    },
    {
      "cell_type": "code",
      "source": [
        "!mongod --version "
      ],
      "metadata": {
        "colab": {
          "base_uri": "https://localhost:8080/"
        },
        "id": "_0thgkFf6Hu4",
        "outputId": "3f7224a0-45e2-430f-f222-de609e710e02"
      },
      "execution_count": 22,
      "outputs": [
        {
          "output_type": "stream",
          "name": "stdout",
          "text": [
            "db version v3.6.8\n",
            "git version: 8e540c0b6db93ce994cc548f000900bdc740f80a\n",
            "OpenSSL version: OpenSSL 1.1.1f  31 Mar 2020\n",
            "allocator: tcmalloc\n",
            "modules: none\n",
            "build environment:\n",
            "    distarch: x86_64\n",
            "    target_arch: x86_64\n"
          ]
        }
      ]
    },
    {
      "cell_type": "markdown",
      "source": [
        "Starting mongodb service"
      ],
      "metadata": {
        "id": "AcLYIzioJDtC"
      }
    },
    {
      "cell_type": "code",
      "source": [
        "!service mongodb start"
      ],
      "metadata": {
        "colab": {
          "base_uri": "https://localhost:8080/"
        },
        "id": "NdGQX5846TfA",
        "outputId": "b955f53f-3db6-4035-b402-8ba6d13996bd"
      },
      "execution_count": 23,
      "outputs": [
        {
          "output_type": "stream",
          "name": "stdout",
          "text": [
            " * Starting database mongodb\n",
            "   ...done.\n"
          ]
        }
      ]
    },
    {
      "cell_type": "code",
      "source": [
        "# Install and import pymongo & the pymongo client\n",
        "!python -m pip install pymongo\n",
        "\n",
        "import pymongo\n",
        "from pymongo import MongoClient"
      ],
      "metadata": {
        "colab": {
          "base_uri": "https://localhost:8080/"
        },
        "id": "8Cjn34wT3Reb",
        "outputId": "f419e3fb-2ec1-4f0d-e1dd-236397e003ad"
      },
      "execution_count": 24,
      "outputs": [
        {
          "output_type": "stream",
          "name": "stdout",
          "text": [
            "Looking in indexes: https://pypi.org/simple, https://us-python.pkg.dev/colab-wheels/public/simple/\n",
            "Requirement already satisfied: pymongo in /usr/local/lib/python3.9/dist-packages (4.3.3)\n",
            "Requirement already satisfied: dnspython<3.0.0,>=1.16.0 in /usr/local/lib/python3.9/dist-packages (from pymongo) (2.3.0)\n"
          ]
        }
      ]
    },
    {
      "cell_type": "code",
      "source": [
        "client = MongoClient()\n",
        "client.list_database_names()"
      ],
      "metadata": {
        "colab": {
          "base_uri": "https://localhost:8080/"
        },
        "id": "bNvshfJ23eLU",
        "outputId": "d91ad308-5e40-41e5-ff74-836d652477e2"
      },
      "execution_count": 25,
      "outputs": [
        {
          "output_type": "execute_result",
          "data": {
            "text/plain": [
              "['admin', 'config', 'local']"
            ]
          },
          "metadata": {},
          "execution_count": 25
        }
      ]
    },
    {
      "cell_type": "markdown",
      "source": [
        "Load your dataframe into memory"
      ],
      "metadata": {
        "id": "0oUFPmo98vS3"
      }
    },
    {
      "cell_type": "code",
      "source": [
        "df = pd.read_csv('my_dataframe.csv')"
      ],
      "metadata": {
        "id": "WF2r0X988Q2u"
      },
      "execution_count": 26,
      "outputs": []
    },
    {
      "cell_type": "code",
      "source": [
        "df['date_published'] = pd.to_datetime(df['date_published'], format='%Y-%m-%d')\n",
        "df"
      ],
      "metadata": {
        "colab": {
          "base_uri": "https://localhost:8080/",
          "height": 1000
        },
        "id": "71S7gkmAW7hC",
        "outputId": "e6586a74-adae-4323-a209-bbe492938f9b"
      },
      "execution_count": 27,
      "outputs": [
        {
          "output_type": "execute_result",
          "data": {
            "text/plain": [
              "                                          filename date_published supervised  \\\n",
              "0   article_Machine learning - Wikipedia_2023_3_13     2023-03-13        Yes   \n",
              "1      refs_Machine learning - Wikipedia_2023_3_13     2023-03-13        Yes   \n",
              "2   article_Machine learning - Wikipedia_2021_6_19     2021-06-19        Yes   \n",
              "3      refs_Machine learning - Wikipedia_2021_6_19     2021-06-19        Yes   \n",
              "4    article_Machine learning - Wikipedia_2022_1_2     2022-01-02        Yes   \n",
              "5       refs_Machine learning - Wikipedia_2022_1_2     2022-01-02        Yes   \n",
              "6   article_Machine learning - Wikipedia_2022_6_28     2022-06-28        Yes   \n",
              "7      refs_Machine learning - Wikipedia_2022_6_28     2022-06-28        Yes   \n",
              "8    article_Machine learning - Wikipedia_2023_1_1     2023-01-01        Yes   \n",
              "9       refs_Machine learning - Wikipedia_2023_1_1     2023-01-01        Yes   \n",
              "10   article_Machine learning - Wikipedia_2013_1_2     2013-01-02        Yes   \n",
              "11      refs_Machine learning - Wikipedia_2013_1_2     2013-01-02         No   \n",
              "12  article_Machine learning - Wikipedia_2013_6_27     2013-06-27        Yes   \n",
              "13     refs_Machine learning - Wikipedia_2013_6_27     2013-06-27         No   \n",
              "14   article_Machine learning - Wikipedia_2014_1_4     2014-01-04        Yes   \n",
              "15      refs_Machine learning - Wikipedia_2014_1_4     2014-01-04         No   \n",
              "16   article_Machine learning - Wikipedia_2014_6_4     2014-06-04        Yes   \n",
              "17      refs_Machine learning - Wikipedia_2014_6_4     2014-06-04         No   \n",
              "18   article_Machine learning - Wikipedia_2015_1_4     2015-01-04        Yes   \n",
              "19      refs_Machine learning - Wikipedia_2015_1_4     2015-01-04         No   \n",
              "20  article_Machine learning - Wikipedia_2015_6_30     2015-06-30        Yes   \n",
              "21     refs_Machine learning - Wikipedia_2015_6_30     2015-06-30         No   \n",
              "22   article_Machine learning - Wikipedia_2016_1_1     2016-01-01        Yes   \n",
              "23      refs_Machine learning - Wikipedia_2016_1_1     2016-01-01         No   \n",
              "24  article_Machine learning - Wikipedia_2016_6_30     2016-06-30        Yes   \n",
              "25     refs_Machine learning - Wikipedia_2016_6_30     2016-06-30        Yes   \n",
              "26   article_Machine learning - Wikipedia_2017_1_1     2017-01-01        Yes   \n",
              "27      refs_Machine learning - Wikipedia_2017_1_1     2017-01-01        Yes   \n",
              "28  article_Machine learning - Wikipedia_2017_6_29     2017-06-29        Yes   \n",
              "29     refs_Machine learning - Wikipedia_2017_6_29     2017-06-29        Yes   \n",
              "30   article_Machine learning - Wikipedia_2018_1_5     2018-01-05        Yes   \n",
              "31      refs_Machine learning - Wikipedia_2018_1_5     2018-01-05        Yes   \n",
              "32  article_Machine learning - Wikipedia_2018_6_29     2018-06-29        Yes   \n",
              "33     refs_Machine learning - Wikipedia_2018_6_29     2018-06-29        Yes   \n",
              "34   article_Machine learning - Wikipedia_2019_1_2     2019-01-02        Yes   \n",
              "35      refs_Machine learning - Wikipedia_2019_1_2     2019-01-02        Yes   \n",
              "36  article_Machine learning - Wikipedia_2019_6_24     2019-06-24        Yes   \n",
              "37     refs_Machine learning - Wikipedia_2019_6_24     2019-06-24        Yes   \n",
              "38   article_Machine learning - Wikipedia_2020_1_8     2020-01-08        Yes   \n",
              "39      refs_Machine learning - Wikipedia_2020_1_8     2020-01-08        Yes   \n",
              "40  article_Machine learning - Wikipedia_2020_6_30     2020-06-30        Yes   \n",
              "41     refs_Machine learning - Wikipedia_2020_6_30     2020-06-30        Yes   \n",
              "42   article_Machine learning - Wikipedia_2021_1_8     2021-01-08        Yes   \n",
              "43      refs_Machine learning - Wikipedia_2021_1_8     2021-01-08        Yes   \n",
              "\n",
              "   semi-supervised unsupervised meta-learning  count_of_refs  \n",
              "0               No          Yes           Yes             92  \n",
              "1               No          Yes            No            141  \n",
              "2               No          Yes            No             78  \n",
              "3               No          Yes            No            121  \n",
              "4               No          Yes           Yes             83  \n",
              "5               No          Yes            No            123  \n",
              "6               No          Yes           Yes             86  \n",
              "7               No          Yes            No            137  \n",
              "8               No          Yes           Yes             93  \n",
              "9               No          Yes            No            141  \n",
              "10              No          Yes            No             31  \n",
              "11              No           No            No              8  \n",
              "12              No          Yes            No             29  \n",
              "13              No           No            No             10  \n",
              "14              No          Yes            No             30  \n",
              "15              No           No            No             13  \n",
              "16              No          Yes            No             33  \n",
              "17              No           No            No             14  \n",
              "18             Yes          Yes            No             42  \n",
              "19              No           No            No             26  \n",
              "20             Yes          Yes            No             45  \n",
              "21              No           No            No             29  \n",
              "22             Yes          Yes            No             44  \n",
              "23              No           No            No             29  \n",
              "24             Yes          Yes            No             46  \n",
              "25              No           No            No             34  \n",
              "26             Yes          Yes            No             51  \n",
              "27              No           No            No             41  \n",
              "28             Yes          Yes            No             51  \n",
              "29              No           No            No             44  \n",
              "30              No          Yes            No             51  \n",
              "31              No           No            No             52  \n",
              "32              No          Yes            No             52  \n",
              "33              No           No            No             53  \n",
              "34             Yes          Yes            No             60  \n",
              "35              No          Yes            No             88  \n",
              "36             Yes          Yes            No             63  \n",
              "37              No          Yes            No             83  \n",
              "38             Yes          Yes            No             69  \n",
              "39              No          Yes            No             90  \n",
              "40              No          Yes            No             72  \n",
              "41              No          Yes            No            101  \n",
              "42              No          Yes            No             79  \n",
              "43              No          Yes            No            118  "
            ],
            "text/html": [
              "\n",
              "  <div id=\"df-593a580f-2f6b-4f6d-8201-86345c7b765e\">\n",
              "    <div class=\"colab-df-container\">\n",
              "      <div>\n",
              "<style scoped>\n",
              "    .dataframe tbody tr th:only-of-type {\n",
              "        vertical-align: middle;\n",
              "    }\n",
              "\n",
              "    .dataframe tbody tr th {\n",
              "        vertical-align: top;\n",
              "    }\n",
              "\n",
              "    .dataframe thead th {\n",
              "        text-align: right;\n",
              "    }\n",
              "</style>\n",
              "<table border=\"1\" class=\"dataframe\">\n",
              "  <thead>\n",
              "    <tr style=\"text-align: right;\">\n",
              "      <th></th>\n",
              "      <th>filename</th>\n",
              "      <th>date_published</th>\n",
              "      <th>supervised</th>\n",
              "      <th>semi-supervised</th>\n",
              "      <th>unsupervised</th>\n",
              "      <th>meta-learning</th>\n",
              "      <th>count_of_refs</th>\n",
              "    </tr>\n",
              "  </thead>\n",
              "  <tbody>\n",
              "    <tr>\n",
              "      <th>0</th>\n",
              "      <td>article_Machine learning - Wikipedia_2023_3_13</td>\n",
              "      <td>2023-03-13</td>\n",
              "      <td>Yes</td>\n",
              "      <td>No</td>\n",
              "      <td>Yes</td>\n",
              "      <td>Yes</td>\n",
              "      <td>92</td>\n",
              "    </tr>\n",
              "    <tr>\n",
              "      <th>1</th>\n",
              "      <td>refs_Machine learning - Wikipedia_2023_3_13</td>\n",
              "      <td>2023-03-13</td>\n",
              "      <td>Yes</td>\n",
              "      <td>No</td>\n",
              "      <td>Yes</td>\n",
              "      <td>No</td>\n",
              "      <td>141</td>\n",
              "    </tr>\n",
              "    <tr>\n",
              "      <th>2</th>\n",
              "      <td>article_Machine learning - Wikipedia_2021_6_19</td>\n",
              "      <td>2021-06-19</td>\n",
              "      <td>Yes</td>\n",
              "      <td>No</td>\n",
              "      <td>Yes</td>\n",
              "      <td>No</td>\n",
              "      <td>78</td>\n",
              "    </tr>\n",
              "    <tr>\n",
              "      <th>3</th>\n",
              "      <td>refs_Machine learning - Wikipedia_2021_6_19</td>\n",
              "      <td>2021-06-19</td>\n",
              "      <td>Yes</td>\n",
              "      <td>No</td>\n",
              "      <td>Yes</td>\n",
              "      <td>No</td>\n",
              "      <td>121</td>\n",
              "    </tr>\n",
              "    <tr>\n",
              "      <th>4</th>\n",
              "      <td>article_Machine learning - Wikipedia_2022_1_2</td>\n",
              "      <td>2022-01-02</td>\n",
              "      <td>Yes</td>\n",
              "      <td>No</td>\n",
              "      <td>Yes</td>\n",
              "      <td>Yes</td>\n",
              "      <td>83</td>\n",
              "    </tr>\n",
              "    <tr>\n",
              "      <th>5</th>\n",
              "      <td>refs_Machine learning - Wikipedia_2022_1_2</td>\n",
              "      <td>2022-01-02</td>\n",
              "      <td>Yes</td>\n",
              "      <td>No</td>\n",
              "      <td>Yes</td>\n",
              "      <td>No</td>\n",
              "      <td>123</td>\n",
              "    </tr>\n",
              "    <tr>\n",
              "      <th>6</th>\n",
              "      <td>article_Machine learning - Wikipedia_2022_6_28</td>\n",
              "      <td>2022-06-28</td>\n",
              "      <td>Yes</td>\n",
              "      <td>No</td>\n",
              "      <td>Yes</td>\n",
              "      <td>Yes</td>\n",
              "      <td>86</td>\n",
              "    </tr>\n",
              "    <tr>\n",
              "      <th>7</th>\n",
              "      <td>refs_Machine learning - Wikipedia_2022_6_28</td>\n",
              "      <td>2022-06-28</td>\n",
              "      <td>Yes</td>\n",
              "      <td>No</td>\n",
              "      <td>Yes</td>\n",
              "      <td>No</td>\n",
              "      <td>137</td>\n",
              "    </tr>\n",
              "    <tr>\n",
              "      <th>8</th>\n",
              "      <td>article_Machine learning - Wikipedia_2023_1_1</td>\n",
              "      <td>2023-01-01</td>\n",
              "      <td>Yes</td>\n",
              "      <td>No</td>\n",
              "      <td>Yes</td>\n",
              "      <td>Yes</td>\n",
              "      <td>93</td>\n",
              "    </tr>\n",
              "    <tr>\n",
              "      <th>9</th>\n",
              "      <td>refs_Machine learning - Wikipedia_2023_1_1</td>\n",
              "      <td>2023-01-01</td>\n",
              "      <td>Yes</td>\n",
              "      <td>No</td>\n",
              "      <td>Yes</td>\n",
              "      <td>No</td>\n",
              "      <td>141</td>\n",
              "    </tr>\n",
              "    <tr>\n",
              "      <th>10</th>\n",
              "      <td>article_Machine learning - Wikipedia_2013_1_2</td>\n",
              "      <td>2013-01-02</td>\n",
              "      <td>Yes</td>\n",
              "      <td>No</td>\n",
              "      <td>Yes</td>\n",
              "      <td>No</td>\n",
              "      <td>31</td>\n",
              "    </tr>\n",
              "    <tr>\n",
              "      <th>11</th>\n",
              "      <td>refs_Machine learning - Wikipedia_2013_1_2</td>\n",
              "      <td>2013-01-02</td>\n",
              "      <td>No</td>\n",
              "      <td>No</td>\n",
              "      <td>No</td>\n",
              "      <td>No</td>\n",
              "      <td>8</td>\n",
              "    </tr>\n",
              "    <tr>\n",
              "      <th>12</th>\n",
              "      <td>article_Machine learning - Wikipedia_2013_6_27</td>\n",
              "      <td>2013-06-27</td>\n",
              "      <td>Yes</td>\n",
              "      <td>No</td>\n",
              "      <td>Yes</td>\n",
              "      <td>No</td>\n",
              "      <td>29</td>\n",
              "    </tr>\n",
              "    <tr>\n",
              "      <th>13</th>\n",
              "      <td>refs_Machine learning - Wikipedia_2013_6_27</td>\n",
              "      <td>2013-06-27</td>\n",
              "      <td>No</td>\n",
              "      <td>No</td>\n",
              "      <td>No</td>\n",
              "      <td>No</td>\n",
              "      <td>10</td>\n",
              "    </tr>\n",
              "    <tr>\n",
              "      <th>14</th>\n",
              "      <td>article_Machine learning - Wikipedia_2014_1_4</td>\n",
              "      <td>2014-01-04</td>\n",
              "      <td>Yes</td>\n",
              "      <td>No</td>\n",
              "      <td>Yes</td>\n",
              "      <td>No</td>\n",
              "      <td>30</td>\n",
              "    </tr>\n",
              "    <tr>\n",
              "      <th>15</th>\n",
              "      <td>refs_Machine learning - Wikipedia_2014_1_4</td>\n",
              "      <td>2014-01-04</td>\n",
              "      <td>No</td>\n",
              "      <td>No</td>\n",
              "      <td>No</td>\n",
              "      <td>No</td>\n",
              "      <td>13</td>\n",
              "    </tr>\n",
              "    <tr>\n",
              "      <th>16</th>\n",
              "      <td>article_Machine learning - Wikipedia_2014_6_4</td>\n",
              "      <td>2014-06-04</td>\n",
              "      <td>Yes</td>\n",
              "      <td>No</td>\n",
              "      <td>Yes</td>\n",
              "      <td>No</td>\n",
              "      <td>33</td>\n",
              "    </tr>\n",
              "    <tr>\n",
              "      <th>17</th>\n",
              "      <td>refs_Machine learning - Wikipedia_2014_6_4</td>\n",
              "      <td>2014-06-04</td>\n",
              "      <td>No</td>\n",
              "      <td>No</td>\n",
              "      <td>No</td>\n",
              "      <td>No</td>\n",
              "      <td>14</td>\n",
              "    </tr>\n",
              "    <tr>\n",
              "      <th>18</th>\n",
              "      <td>article_Machine learning - Wikipedia_2015_1_4</td>\n",
              "      <td>2015-01-04</td>\n",
              "      <td>Yes</td>\n",
              "      <td>Yes</td>\n",
              "      <td>Yes</td>\n",
              "      <td>No</td>\n",
              "      <td>42</td>\n",
              "    </tr>\n",
              "    <tr>\n",
              "      <th>19</th>\n",
              "      <td>refs_Machine learning - Wikipedia_2015_1_4</td>\n",
              "      <td>2015-01-04</td>\n",
              "      <td>No</td>\n",
              "      <td>No</td>\n",
              "      <td>No</td>\n",
              "      <td>No</td>\n",
              "      <td>26</td>\n",
              "    </tr>\n",
              "    <tr>\n",
              "      <th>20</th>\n",
              "      <td>article_Machine learning - Wikipedia_2015_6_30</td>\n",
              "      <td>2015-06-30</td>\n",
              "      <td>Yes</td>\n",
              "      <td>Yes</td>\n",
              "      <td>Yes</td>\n",
              "      <td>No</td>\n",
              "      <td>45</td>\n",
              "    </tr>\n",
              "    <tr>\n",
              "      <th>21</th>\n",
              "      <td>refs_Machine learning - Wikipedia_2015_6_30</td>\n",
              "      <td>2015-06-30</td>\n",
              "      <td>No</td>\n",
              "      <td>No</td>\n",
              "      <td>No</td>\n",
              "      <td>No</td>\n",
              "      <td>29</td>\n",
              "    </tr>\n",
              "    <tr>\n",
              "      <th>22</th>\n",
              "      <td>article_Machine learning - Wikipedia_2016_1_1</td>\n",
              "      <td>2016-01-01</td>\n",
              "      <td>Yes</td>\n",
              "      <td>Yes</td>\n",
              "      <td>Yes</td>\n",
              "      <td>No</td>\n",
              "      <td>44</td>\n",
              "    </tr>\n",
              "    <tr>\n",
              "      <th>23</th>\n",
              "      <td>refs_Machine learning - Wikipedia_2016_1_1</td>\n",
              "      <td>2016-01-01</td>\n",
              "      <td>No</td>\n",
              "      <td>No</td>\n",
              "      <td>No</td>\n",
              "      <td>No</td>\n",
              "      <td>29</td>\n",
              "    </tr>\n",
              "    <tr>\n",
              "      <th>24</th>\n",
              "      <td>article_Machine learning - Wikipedia_2016_6_30</td>\n",
              "      <td>2016-06-30</td>\n",
              "      <td>Yes</td>\n",
              "      <td>Yes</td>\n",
              "      <td>Yes</td>\n",
              "      <td>No</td>\n",
              "      <td>46</td>\n",
              "    </tr>\n",
              "    <tr>\n",
              "      <th>25</th>\n",
              "      <td>refs_Machine learning - Wikipedia_2016_6_30</td>\n",
              "      <td>2016-06-30</td>\n",
              "      <td>Yes</td>\n",
              "      <td>No</td>\n",
              "      <td>No</td>\n",
              "      <td>No</td>\n",
              "      <td>34</td>\n",
              "    </tr>\n",
              "    <tr>\n",
              "      <th>26</th>\n",
              "      <td>article_Machine learning - Wikipedia_2017_1_1</td>\n",
              "      <td>2017-01-01</td>\n",
              "      <td>Yes</td>\n",
              "      <td>Yes</td>\n",
              "      <td>Yes</td>\n",
              "      <td>No</td>\n",
              "      <td>51</td>\n",
              "    </tr>\n",
              "    <tr>\n",
              "      <th>27</th>\n",
              "      <td>refs_Machine learning - Wikipedia_2017_1_1</td>\n",
              "      <td>2017-01-01</td>\n",
              "      <td>Yes</td>\n",
              "      <td>No</td>\n",
              "      <td>No</td>\n",
              "      <td>No</td>\n",
              "      <td>41</td>\n",
              "    </tr>\n",
              "    <tr>\n",
              "      <th>28</th>\n",
              "      <td>article_Machine learning - Wikipedia_2017_6_29</td>\n",
              "      <td>2017-06-29</td>\n",
              "      <td>Yes</td>\n",
              "      <td>Yes</td>\n",
              "      <td>Yes</td>\n",
              "      <td>No</td>\n",
              "      <td>51</td>\n",
              "    </tr>\n",
              "    <tr>\n",
              "      <th>29</th>\n",
              "      <td>refs_Machine learning - Wikipedia_2017_6_29</td>\n",
              "      <td>2017-06-29</td>\n",
              "      <td>Yes</td>\n",
              "      <td>No</td>\n",
              "      <td>No</td>\n",
              "      <td>No</td>\n",
              "      <td>44</td>\n",
              "    </tr>\n",
              "    <tr>\n",
              "      <th>30</th>\n",
              "      <td>article_Machine learning - Wikipedia_2018_1_5</td>\n",
              "      <td>2018-01-05</td>\n",
              "      <td>Yes</td>\n",
              "      <td>No</td>\n",
              "      <td>Yes</td>\n",
              "      <td>No</td>\n",
              "      <td>51</td>\n",
              "    </tr>\n",
              "    <tr>\n",
              "      <th>31</th>\n",
              "      <td>refs_Machine learning - Wikipedia_2018_1_5</td>\n",
              "      <td>2018-01-05</td>\n",
              "      <td>Yes</td>\n",
              "      <td>No</td>\n",
              "      <td>No</td>\n",
              "      <td>No</td>\n",
              "      <td>52</td>\n",
              "    </tr>\n",
              "    <tr>\n",
              "      <th>32</th>\n",
              "      <td>article_Machine learning - Wikipedia_2018_6_29</td>\n",
              "      <td>2018-06-29</td>\n",
              "      <td>Yes</td>\n",
              "      <td>No</td>\n",
              "      <td>Yes</td>\n",
              "      <td>No</td>\n",
              "      <td>52</td>\n",
              "    </tr>\n",
              "    <tr>\n",
              "      <th>33</th>\n",
              "      <td>refs_Machine learning - Wikipedia_2018_6_29</td>\n",
              "      <td>2018-06-29</td>\n",
              "      <td>Yes</td>\n",
              "      <td>No</td>\n",
              "      <td>No</td>\n",
              "      <td>No</td>\n",
              "      <td>53</td>\n",
              "    </tr>\n",
              "    <tr>\n",
              "      <th>34</th>\n",
              "      <td>article_Machine learning - Wikipedia_2019_1_2</td>\n",
              "      <td>2019-01-02</td>\n",
              "      <td>Yes</td>\n",
              "      <td>Yes</td>\n",
              "      <td>Yes</td>\n",
              "      <td>No</td>\n",
              "      <td>60</td>\n",
              "    </tr>\n",
              "    <tr>\n",
              "      <th>35</th>\n",
              "      <td>refs_Machine learning - Wikipedia_2019_1_2</td>\n",
              "      <td>2019-01-02</td>\n",
              "      <td>Yes</td>\n",
              "      <td>No</td>\n",
              "      <td>Yes</td>\n",
              "      <td>No</td>\n",
              "      <td>88</td>\n",
              "    </tr>\n",
              "    <tr>\n",
              "      <th>36</th>\n",
              "      <td>article_Machine learning - Wikipedia_2019_6_24</td>\n",
              "      <td>2019-06-24</td>\n",
              "      <td>Yes</td>\n",
              "      <td>Yes</td>\n",
              "      <td>Yes</td>\n",
              "      <td>No</td>\n",
              "      <td>63</td>\n",
              "    </tr>\n",
              "    <tr>\n",
              "      <th>37</th>\n",
              "      <td>refs_Machine learning - Wikipedia_2019_6_24</td>\n",
              "      <td>2019-06-24</td>\n",
              "      <td>Yes</td>\n",
              "      <td>No</td>\n",
              "      <td>Yes</td>\n",
              "      <td>No</td>\n",
              "      <td>83</td>\n",
              "    </tr>\n",
              "    <tr>\n",
              "      <th>38</th>\n",
              "      <td>article_Machine learning - Wikipedia_2020_1_8</td>\n",
              "      <td>2020-01-08</td>\n",
              "      <td>Yes</td>\n",
              "      <td>Yes</td>\n",
              "      <td>Yes</td>\n",
              "      <td>No</td>\n",
              "      <td>69</td>\n",
              "    </tr>\n",
              "    <tr>\n",
              "      <th>39</th>\n",
              "      <td>refs_Machine learning - Wikipedia_2020_1_8</td>\n",
              "      <td>2020-01-08</td>\n",
              "      <td>Yes</td>\n",
              "      <td>No</td>\n",
              "      <td>Yes</td>\n",
              "      <td>No</td>\n",
              "      <td>90</td>\n",
              "    </tr>\n",
              "    <tr>\n",
              "      <th>40</th>\n",
              "      <td>article_Machine learning - Wikipedia_2020_6_30</td>\n",
              "      <td>2020-06-30</td>\n",
              "      <td>Yes</td>\n",
              "      <td>No</td>\n",
              "      <td>Yes</td>\n",
              "      <td>No</td>\n",
              "      <td>72</td>\n",
              "    </tr>\n",
              "    <tr>\n",
              "      <th>41</th>\n",
              "      <td>refs_Machine learning - Wikipedia_2020_6_30</td>\n",
              "      <td>2020-06-30</td>\n",
              "      <td>Yes</td>\n",
              "      <td>No</td>\n",
              "      <td>Yes</td>\n",
              "      <td>No</td>\n",
              "      <td>101</td>\n",
              "    </tr>\n",
              "    <tr>\n",
              "      <th>42</th>\n",
              "      <td>article_Machine learning - Wikipedia_2021_1_8</td>\n",
              "      <td>2021-01-08</td>\n",
              "      <td>Yes</td>\n",
              "      <td>No</td>\n",
              "      <td>Yes</td>\n",
              "      <td>No</td>\n",
              "      <td>79</td>\n",
              "    </tr>\n",
              "    <tr>\n",
              "      <th>43</th>\n",
              "      <td>refs_Machine learning - Wikipedia_2021_1_8</td>\n",
              "      <td>2021-01-08</td>\n",
              "      <td>Yes</td>\n",
              "      <td>No</td>\n",
              "      <td>Yes</td>\n",
              "      <td>No</td>\n",
              "      <td>118</td>\n",
              "    </tr>\n",
              "  </tbody>\n",
              "</table>\n",
              "</div>\n",
              "      <button class=\"colab-df-convert\" onclick=\"convertToInteractive('df-593a580f-2f6b-4f6d-8201-86345c7b765e')\"\n",
              "              title=\"Convert this dataframe to an interactive table.\"\n",
              "              style=\"display:none;\">\n",
              "        \n",
              "  <svg xmlns=\"http://www.w3.org/2000/svg\" height=\"24px\"viewBox=\"0 0 24 24\"\n",
              "       width=\"24px\">\n",
              "    <path d=\"M0 0h24v24H0V0z\" fill=\"none\"/>\n",
              "    <path d=\"M18.56 5.44l.94 2.06.94-2.06 2.06-.94-2.06-.94-.94-2.06-.94 2.06-2.06.94zm-11 1L8.5 8.5l.94-2.06 2.06-.94-2.06-.94L8.5 2.5l-.94 2.06-2.06.94zm10 10l.94 2.06.94-2.06 2.06-.94-2.06-.94-.94-2.06-.94 2.06-2.06.94z\"/><path d=\"M17.41 7.96l-1.37-1.37c-.4-.4-.92-.59-1.43-.59-.52 0-1.04.2-1.43.59L10.3 9.45l-7.72 7.72c-.78.78-.78 2.05 0 2.83L4 21.41c.39.39.9.59 1.41.59.51 0 1.02-.2 1.41-.59l7.78-7.78 2.81-2.81c.8-.78.8-2.07 0-2.86zM5.41 20L4 18.59l7.72-7.72 1.47 1.35L5.41 20z\"/>\n",
              "  </svg>\n",
              "      </button>\n",
              "      \n",
              "  <style>\n",
              "    .colab-df-container {\n",
              "      display:flex;\n",
              "      flex-wrap:wrap;\n",
              "      gap: 12px;\n",
              "    }\n",
              "\n",
              "    .colab-df-convert {\n",
              "      background-color: #E8F0FE;\n",
              "      border: none;\n",
              "      border-radius: 50%;\n",
              "      cursor: pointer;\n",
              "      display: none;\n",
              "      fill: #1967D2;\n",
              "      height: 32px;\n",
              "      padding: 0 0 0 0;\n",
              "      width: 32px;\n",
              "    }\n",
              "\n",
              "    .colab-df-convert:hover {\n",
              "      background-color: #E2EBFA;\n",
              "      box-shadow: 0px 1px 2px rgba(60, 64, 67, 0.3), 0px 1px 3px 1px rgba(60, 64, 67, 0.15);\n",
              "      fill: #174EA6;\n",
              "    }\n",
              "\n",
              "    [theme=dark] .colab-df-convert {\n",
              "      background-color: #3B4455;\n",
              "      fill: #D2E3FC;\n",
              "    }\n",
              "\n",
              "    [theme=dark] .colab-df-convert:hover {\n",
              "      background-color: #434B5C;\n",
              "      box-shadow: 0px 1px 3px 1px rgba(0, 0, 0, 0.15);\n",
              "      filter: drop-shadow(0px 1px 2px rgba(0, 0, 0, 0.3));\n",
              "      fill: #FFFFFF;\n",
              "    }\n",
              "  </style>\n",
              "\n",
              "      <script>\n",
              "        const buttonEl =\n",
              "          document.querySelector('#df-593a580f-2f6b-4f6d-8201-86345c7b765e button.colab-df-convert');\n",
              "        buttonEl.style.display =\n",
              "          google.colab.kernel.accessAllowed ? 'block' : 'none';\n",
              "\n",
              "        async function convertToInteractive(key) {\n",
              "          const element = document.querySelector('#df-593a580f-2f6b-4f6d-8201-86345c7b765e');\n",
              "          const dataTable =\n",
              "            await google.colab.kernel.invokeFunction('convertToInteractive',\n",
              "                                                     [key], {});\n",
              "          if (!dataTable) return;\n",
              "\n",
              "          const docLinkHtml = 'Like what you see? Visit the ' +\n",
              "            '<a target=\"_blank\" href=https://colab.research.google.com/notebooks/data_table.ipynb>data table notebook</a>'\n",
              "            + ' to learn more about interactive tables.';\n",
              "          element.innerHTML = '';\n",
              "          dataTable['output_type'] = 'display_data';\n",
              "          await google.colab.output.renderOutput(dataTable, element);\n",
              "          const docLink = document.createElement('div');\n",
              "          docLink.innerHTML = docLinkHtml;\n",
              "          element.appendChild(docLink);\n",
              "        }\n",
              "      </script>\n",
              "    </div>\n",
              "  </div>\n",
              "  "
            ]
          },
          "metadata": {},
          "execution_count": 27
        }
      ]
    },
    {
      "cell_type": "code",
      "source": [
        "df.dtypes.head()"
      ],
      "metadata": {
        "colab": {
          "base_uri": "https://localhost:8080/"
        },
        "id": "Szhc8ZX0OjE6",
        "outputId": "73543231-86d1-424e-bed0-d3c0af0cfc16"
      },
      "execution_count": 28,
      "outputs": [
        {
          "output_type": "execute_result",
          "data": {
            "text/plain": [
              "filename                   object\n",
              "date_published     datetime64[ns]\n",
              "supervised                 object\n",
              "semi-supervised            object\n",
              "unsupervised               object\n",
              "dtype: object"
            ]
          },
          "metadata": {},
          "execution_count": 28
        }
      ]
    },
    {
      "cell_type": "markdown",
      "source": [
        "Connect to your MongoDB server and database:"
      ],
      "metadata": {
        "id": "EyVhnSiD80FW"
      }
    },
    {
      "cell_type": "code",
      "source": [
        "db = client['bigdata']"
      ],
      "metadata": {
        "id": "MFGNCBYO8eGH"
      },
      "execution_count": 29,
      "outputs": []
    },
    {
      "cell_type": "markdown",
      "source": [
        "Create a collection in your database:"
      ],
      "metadata": {
        "id": "ySdWAJtt87l-"
      }
    },
    {
      "cell_type": "code",
      "source": [
        "collection = db['values']"
      ],
      "metadata": {
        "id": "X90a9pP38m8-"
      },
      "execution_count": 30,
      "outputs": []
    },
    {
      "cell_type": "markdown",
      "source": [
        "Convert the dataframe into a dictionary format:"
      ],
      "metadata": {
        "id": "gSTgEd569EFE"
      }
    },
    {
      "cell_type": "code",
      "source": [
        "data_dict = df.to_dict(\"records\")"
      ],
      "metadata": {
        "id": "FbpEuNr989SE"
      },
      "execution_count": 31,
      "outputs": []
    },
    {
      "cell_type": "code",
      "source": [
        "data_dict"
      ],
      "metadata": {
        "colab": {
          "base_uri": "https://localhost:8080/"
        },
        "id": "1kIsmfh9NLrq",
        "outputId": "9b59a92c-7cfa-42ae-9261-59ac71be76e8"
      },
      "execution_count": 32,
      "outputs": [
        {
          "output_type": "execute_result",
          "data": {
            "text/plain": [
              "[{'filename': 'article_Machine learning - Wikipedia_2023_3_13',\n",
              "  'date_published': Timestamp('2023-03-13 00:00:00'),\n",
              "  'supervised': 'Yes',\n",
              "  'semi-supervised': 'No',\n",
              "  'unsupervised': 'Yes',\n",
              "  'meta-learning': 'Yes',\n",
              "  'count_of_refs': 92},\n",
              " {'filename': 'refs_Machine learning - Wikipedia_2023_3_13',\n",
              "  'date_published': Timestamp('2023-03-13 00:00:00'),\n",
              "  'supervised': 'Yes',\n",
              "  'semi-supervised': 'No',\n",
              "  'unsupervised': 'Yes',\n",
              "  'meta-learning': 'No',\n",
              "  'count_of_refs': 141},\n",
              " {'filename': 'article_Machine learning - Wikipedia_2021_6_19',\n",
              "  'date_published': Timestamp('2021-06-19 00:00:00'),\n",
              "  'supervised': 'Yes',\n",
              "  'semi-supervised': 'No',\n",
              "  'unsupervised': 'Yes',\n",
              "  'meta-learning': 'No',\n",
              "  'count_of_refs': 78},\n",
              " {'filename': 'refs_Machine learning - Wikipedia_2021_6_19',\n",
              "  'date_published': Timestamp('2021-06-19 00:00:00'),\n",
              "  'supervised': 'Yes',\n",
              "  'semi-supervised': 'No',\n",
              "  'unsupervised': 'Yes',\n",
              "  'meta-learning': 'No',\n",
              "  'count_of_refs': 121},\n",
              " {'filename': 'article_Machine learning - Wikipedia_2022_1_2',\n",
              "  'date_published': Timestamp('2022-01-02 00:00:00'),\n",
              "  'supervised': 'Yes',\n",
              "  'semi-supervised': 'No',\n",
              "  'unsupervised': 'Yes',\n",
              "  'meta-learning': 'Yes',\n",
              "  'count_of_refs': 83},\n",
              " {'filename': 'refs_Machine learning - Wikipedia_2022_1_2',\n",
              "  'date_published': Timestamp('2022-01-02 00:00:00'),\n",
              "  'supervised': 'Yes',\n",
              "  'semi-supervised': 'No',\n",
              "  'unsupervised': 'Yes',\n",
              "  'meta-learning': 'No',\n",
              "  'count_of_refs': 123},\n",
              " {'filename': 'article_Machine learning - Wikipedia_2022_6_28',\n",
              "  'date_published': Timestamp('2022-06-28 00:00:00'),\n",
              "  'supervised': 'Yes',\n",
              "  'semi-supervised': 'No',\n",
              "  'unsupervised': 'Yes',\n",
              "  'meta-learning': 'Yes',\n",
              "  'count_of_refs': 86},\n",
              " {'filename': 'refs_Machine learning - Wikipedia_2022_6_28',\n",
              "  'date_published': Timestamp('2022-06-28 00:00:00'),\n",
              "  'supervised': 'Yes',\n",
              "  'semi-supervised': 'No',\n",
              "  'unsupervised': 'Yes',\n",
              "  'meta-learning': 'No',\n",
              "  'count_of_refs': 137},\n",
              " {'filename': 'article_Machine learning - Wikipedia_2023_1_1',\n",
              "  'date_published': Timestamp('2023-01-01 00:00:00'),\n",
              "  'supervised': 'Yes',\n",
              "  'semi-supervised': 'No',\n",
              "  'unsupervised': 'Yes',\n",
              "  'meta-learning': 'Yes',\n",
              "  'count_of_refs': 93},\n",
              " {'filename': 'refs_Machine learning - Wikipedia_2023_1_1',\n",
              "  'date_published': Timestamp('2023-01-01 00:00:00'),\n",
              "  'supervised': 'Yes',\n",
              "  'semi-supervised': 'No',\n",
              "  'unsupervised': 'Yes',\n",
              "  'meta-learning': 'No',\n",
              "  'count_of_refs': 141},\n",
              " {'filename': 'article_Machine learning - Wikipedia_2013_1_2',\n",
              "  'date_published': Timestamp('2013-01-02 00:00:00'),\n",
              "  'supervised': 'Yes',\n",
              "  'semi-supervised': 'No',\n",
              "  'unsupervised': 'Yes',\n",
              "  'meta-learning': 'No',\n",
              "  'count_of_refs': 31},\n",
              " {'filename': 'refs_Machine learning - Wikipedia_2013_1_2',\n",
              "  'date_published': Timestamp('2013-01-02 00:00:00'),\n",
              "  'supervised': 'No',\n",
              "  'semi-supervised': 'No',\n",
              "  'unsupervised': 'No',\n",
              "  'meta-learning': 'No',\n",
              "  'count_of_refs': 8},\n",
              " {'filename': 'article_Machine learning - Wikipedia_2013_6_27',\n",
              "  'date_published': Timestamp('2013-06-27 00:00:00'),\n",
              "  'supervised': 'Yes',\n",
              "  'semi-supervised': 'No',\n",
              "  'unsupervised': 'Yes',\n",
              "  'meta-learning': 'No',\n",
              "  'count_of_refs': 29},\n",
              " {'filename': 'refs_Machine learning - Wikipedia_2013_6_27',\n",
              "  'date_published': Timestamp('2013-06-27 00:00:00'),\n",
              "  'supervised': 'No',\n",
              "  'semi-supervised': 'No',\n",
              "  'unsupervised': 'No',\n",
              "  'meta-learning': 'No',\n",
              "  'count_of_refs': 10},\n",
              " {'filename': 'article_Machine learning - Wikipedia_2014_1_4',\n",
              "  'date_published': Timestamp('2014-01-04 00:00:00'),\n",
              "  'supervised': 'Yes',\n",
              "  'semi-supervised': 'No',\n",
              "  'unsupervised': 'Yes',\n",
              "  'meta-learning': 'No',\n",
              "  'count_of_refs': 30},\n",
              " {'filename': 'refs_Machine learning - Wikipedia_2014_1_4',\n",
              "  'date_published': Timestamp('2014-01-04 00:00:00'),\n",
              "  'supervised': 'No',\n",
              "  'semi-supervised': 'No',\n",
              "  'unsupervised': 'No',\n",
              "  'meta-learning': 'No',\n",
              "  'count_of_refs': 13},\n",
              " {'filename': 'article_Machine learning - Wikipedia_2014_6_4',\n",
              "  'date_published': Timestamp('2014-06-04 00:00:00'),\n",
              "  'supervised': 'Yes',\n",
              "  'semi-supervised': 'No',\n",
              "  'unsupervised': 'Yes',\n",
              "  'meta-learning': 'No',\n",
              "  'count_of_refs': 33},\n",
              " {'filename': 'refs_Machine learning - Wikipedia_2014_6_4',\n",
              "  'date_published': Timestamp('2014-06-04 00:00:00'),\n",
              "  'supervised': 'No',\n",
              "  'semi-supervised': 'No',\n",
              "  'unsupervised': 'No',\n",
              "  'meta-learning': 'No',\n",
              "  'count_of_refs': 14},\n",
              " {'filename': 'article_Machine learning - Wikipedia_2015_1_4',\n",
              "  'date_published': Timestamp('2015-01-04 00:00:00'),\n",
              "  'supervised': 'Yes',\n",
              "  'semi-supervised': 'Yes',\n",
              "  'unsupervised': 'Yes',\n",
              "  'meta-learning': 'No',\n",
              "  'count_of_refs': 42},\n",
              " {'filename': 'refs_Machine learning - Wikipedia_2015_1_4',\n",
              "  'date_published': Timestamp('2015-01-04 00:00:00'),\n",
              "  'supervised': 'No',\n",
              "  'semi-supervised': 'No',\n",
              "  'unsupervised': 'No',\n",
              "  'meta-learning': 'No',\n",
              "  'count_of_refs': 26},\n",
              " {'filename': 'article_Machine learning - Wikipedia_2015_6_30',\n",
              "  'date_published': Timestamp('2015-06-30 00:00:00'),\n",
              "  'supervised': 'Yes',\n",
              "  'semi-supervised': 'Yes',\n",
              "  'unsupervised': 'Yes',\n",
              "  'meta-learning': 'No',\n",
              "  'count_of_refs': 45},\n",
              " {'filename': 'refs_Machine learning - Wikipedia_2015_6_30',\n",
              "  'date_published': Timestamp('2015-06-30 00:00:00'),\n",
              "  'supervised': 'No',\n",
              "  'semi-supervised': 'No',\n",
              "  'unsupervised': 'No',\n",
              "  'meta-learning': 'No',\n",
              "  'count_of_refs': 29},\n",
              " {'filename': 'article_Machine learning - Wikipedia_2016_1_1',\n",
              "  'date_published': Timestamp('2016-01-01 00:00:00'),\n",
              "  'supervised': 'Yes',\n",
              "  'semi-supervised': 'Yes',\n",
              "  'unsupervised': 'Yes',\n",
              "  'meta-learning': 'No',\n",
              "  'count_of_refs': 44},\n",
              " {'filename': 'refs_Machine learning - Wikipedia_2016_1_1',\n",
              "  'date_published': Timestamp('2016-01-01 00:00:00'),\n",
              "  'supervised': 'No',\n",
              "  'semi-supervised': 'No',\n",
              "  'unsupervised': 'No',\n",
              "  'meta-learning': 'No',\n",
              "  'count_of_refs': 29},\n",
              " {'filename': 'article_Machine learning - Wikipedia_2016_6_30',\n",
              "  'date_published': Timestamp('2016-06-30 00:00:00'),\n",
              "  'supervised': 'Yes',\n",
              "  'semi-supervised': 'Yes',\n",
              "  'unsupervised': 'Yes',\n",
              "  'meta-learning': 'No',\n",
              "  'count_of_refs': 46},\n",
              " {'filename': 'refs_Machine learning - Wikipedia_2016_6_30',\n",
              "  'date_published': Timestamp('2016-06-30 00:00:00'),\n",
              "  'supervised': 'Yes',\n",
              "  'semi-supervised': 'No',\n",
              "  'unsupervised': 'No',\n",
              "  'meta-learning': 'No',\n",
              "  'count_of_refs': 34},\n",
              " {'filename': 'article_Machine learning - Wikipedia_2017_1_1',\n",
              "  'date_published': Timestamp('2017-01-01 00:00:00'),\n",
              "  'supervised': 'Yes',\n",
              "  'semi-supervised': 'Yes',\n",
              "  'unsupervised': 'Yes',\n",
              "  'meta-learning': 'No',\n",
              "  'count_of_refs': 51},\n",
              " {'filename': 'refs_Machine learning - Wikipedia_2017_1_1',\n",
              "  'date_published': Timestamp('2017-01-01 00:00:00'),\n",
              "  'supervised': 'Yes',\n",
              "  'semi-supervised': 'No',\n",
              "  'unsupervised': 'No',\n",
              "  'meta-learning': 'No',\n",
              "  'count_of_refs': 41},\n",
              " {'filename': 'article_Machine learning - Wikipedia_2017_6_29',\n",
              "  'date_published': Timestamp('2017-06-29 00:00:00'),\n",
              "  'supervised': 'Yes',\n",
              "  'semi-supervised': 'Yes',\n",
              "  'unsupervised': 'Yes',\n",
              "  'meta-learning': 'No',\n",
              "  'count_of_refs': 51},\n",
              " {'filename': 'refs_Machine learning - Wikipedia_2017_6_29',\n",
              "  'date_published': Timestamp('2017-06-29 00:00:00'),\n",
              "  'supervised': 'Yes',\n",
              "  'semi-supervised': 'No',\n",
              "  'unsupervised': 'No',\n",
              "  'meta-learning': 'No',\n",
              "  'count_of_refs': 44},\n",
              " {'filename': 'article_Machine learning - Wikipedia_2018_1_5',\n",
              "  'date_published': Timestamp('2018-01-05 00:00:00'),\n",
              "  'supervised': 'Yes',\n",
              "  'semi-supervised': 'No',\n",
              "  'unsupervised': 'Yes',\n",
              "  'meta-learning': 'No',\n",
              "  'count_of_refs': 51},\n",
              " {'filename': 'refs_Machine learning - Wikipedia_2018_1_5',\n",
              "  'date_published': Timestamp('2018-01-05 00:00:00'),\n",
              "  'supervised': 'Yes',\n",
              "  'semi-supervised': 'No',\n",
              "  'unsupervised': 'No',\n",
              "  'meta-learning': 'No',\n",
              "  'count_of_refs': 52},\n",
              " {'filename': 'article_Machine learning - Wikipedia_2018_6_29',\n",
              "  'date_published': Timestamp('2018-06-29 00:00:00'),\n",
              "  'supervised': 'Yes',\n",
              "  'semi-supervised': 'No',\n",
              "  'unsupervised': 'Yes',\n",
              "  'meta-learning': 'No',\n",
              "  'count_of_refs': 52},\n",
              " {'filename': 'refs_Machine learning - Wikipedia_2018_6_29',\n",
              "  'date_published': Timestamp('2018-06-29 00:00:00'),\n",
              "  'supervised': 'Yes',\n",
              "  'semi-supervised': 'No',\n",
              "  'unsupervised': 'No',\n",
              "  'meta-learning': 'No',\n",
              "  'count_of_refs': 53},\n",
              " {'filename': 'article_Machine learning - Wikipedia_2019_1_2',\n",
              "  'date_published': Timestamp('2019-01-02 00:00:00'),\n",
              "  'supervised': 'Yes',\n",
              "  'semi-supervised': 'Yes',\n",
              "  'unsupervised': 'Yes',\n",
              "  'meta-learning': 'No',\n",
              "  'count_of_refs': 60},\n",
              " {'filename': 'refs_Machine learning - Wikipedia_2019_1_2',\n",
              "  'date_published': Timestamp('2019-01-02 00:00:00'),\n",
              "  'supervised': 'Yes',\n",
              "  'semi-supervised': 'No',\n",
              "  'unsupervised': 'Yes',\n",
              "  'meta-learning': 'No',\n",
              "  'count_of_refs': 88},\n",
              " {'filename': 'article_Machine learning - Wikipedia_2019_6_24',\n",
              "  'date_published': Timestamp('2019-06-24 00:00:00'),\n",
              "  'supervised': 'Yes',\n",
              "  'semi-supervised': 'Yes',\n",
              "  'unsupervised': 'Yes',\n",
              "  'meta-learning': 'No',\n",
              "  'count_of_refs': 63},\n",
              " {'filename': 'refs_Machine learning - Wikipedia_2019_6_24',\n",
              "  'date_published': Timestamp('2019-06-24 00:00:00'),\n",
              "  'supervised': 'Yes',\n",
              "  'semi-supervised': 'No',\n",
              "  'unsupervised': 'Yes',\n",
              "  'meta-learning': 'No',\n",
              "  'count_of_refs': 83},\n",
              " {'filename': 'article_Machine learning - Wikipedia_2020_1_8',\n",
              "  'date_published': Timestamp('2020-01-08 00:00:00'),\n",
              "  'supervised': 'Yes',\n",
              "  'semi-supervised': 'Yes',\n",
              "  'unsupervised': 'Yes',\n",
              "  'meta-learning': 'No',\n",
              "  'count_of_refs': 69},\n",
              " {'filename': 'refs_Machine learning - Wikipedia_2020_1_8',\n",
              "  'date_published': Timestamp('2020-01-08 00:00:00'),\n",
              "  'supervised': 'Yes',\n",
              "  'semi-supervised': 'No',\n",
              "  'unsupervised': 'Yes',\n",
              "  'meta-learning': 'No',\n",
              "  'count_of_refs': 90},\n",
              " {'filename': 'article_Machine learning - Wikipedia_2020_6_30',\n",
              "  'date_published': Timestamp('2020-06-30 00:00:00'),\n",
              "  'supervised': 'Yes',\n",
              "  'semi-supervised': 'No',\n",
              "  'unsupervised': 'Yes',\n",
              "  'meta-learning': 'No',\n",
              "  'count_of_refs': 72},\n",
              " {'filename': 'refs_Machine learning - Wikipedia_2020_6_30',\n",
              "  'date_published': Timestamp('2020-06-30 00:00:00'),\n",
              "  'supervised': 'Yes',\n",
              "  'semi-supervised': 'No',\n",
              "  'unsupervised': 'Yes',\n",
              "  'meta-learning': 'No',\n",
              "  'count_of_refs': 101},\n",
              " {'filename': 'article_Machine learning - Wikipedia_2021_1_8',\n",
              "  'date_published': Timestamp('2021-01-08 00:00:00'),\n",
              "  'supervised': 'Yes',\n",
              "  'semi-supervised': 'No',\n",
              "  'unsupervised': 'Yes',\n",
              "  'meta-learning': 'No',\n",
              "  'count_of_refs': 79},\n",
              " {'filename': 'refs_Machine learning - Wikipedia_2021_1_8',\n",
              "  'date_published': Timestamp('2021-01-08 00:00:00'),\n",
              "  'supervised': 'Yes',\n",
              "  'semi-supervised': 'No',\n",
              "  'unsupervised': 'Yes',\n",
              "  'meta-learning': 'No',\n",
              "  'count_of_refs': 118}]"
            ]
          },
          "metadata": {},
          "execution_count": 32
        }
      ]
    },
    {
      "cell_type": "markdown",
      "source": [
        "Inserting my data"
      ],
      "metadata": {
        "id": "dlwRXqFAJMwr"
      }
    },
    {
      "cell_type": "code",
      "source": [
        "collection.insert_many(data_dict)"
      ],
      "metadata": {
        "colab": {
          "base_uri": "https://localhost:8080/"
        },
        "id": "OdypHef59HkV",
        "outputId": "9a1e444a-eeba-4e0f-af74-55cb254196f7"
      },
      "execution_count": 33,
      "outputs": [
        {
          "output_type": "execute_result",
          "data": {
            "text/plain": [
              "<pymongo.results.InsertManyResult at 0x7f530f005070>"
            ]
          },
          "metadata": {},
          "execution_count": 33
        }
      ]
    },
    {
      "cell_type": "markdown",
      "source": [
        "**Now we can see my database- 'bigdata'**"
      ],
      "metadata": {
        "id": "VMpsJzJaJQhy"
      }
    },
    {
      "cell_type": "code",
      "source": [
        "client.list_database_names()"
      ],
      "metadata": {
        "colab": {
          "base_uri": "https://localhost:8080/"
        },
        "id": "tnSOfG379XZl",
        "outputId": "ec93afa9-7203-4732-b1a9-7691d88a841d"
      },
      "execution_count": 34,
      "outputs": [
        {
          "output_type": "execute_result",
          "data": {
            "text/plain": [
              "['admin', 'bigdata', 'config', 'local']"
            ]
          },
          "metadata": {},
          "execution_count": 34
        }
      ]
    },
    {
      "cell_type": "code",
      "source": [
        "bigdata = client.bigdata\n",
        "bigdata.list_collection_names()"
      ],
      "metadata": {
        "colab": {
          "base_uri": "https://localhost:8080/"
        },
        "id": "0xNVDXyTF9aG",
        "outputId": "b7691372-2a52-4eb6-de68-9b7391e4b95e"
      },
      "execution_count": 35,
      "outputs": [
        {
          "output_type": "execute_result",
          "data": {
            "text/plain": [
              "['values']"
            ]
          },
          "metadata": {},
          "execution_count": 35
        }
      ]
    },
    {
      "cell_type": "markdown",
      "source": [
        "**printing all of my documents**"
      ],
      "metadata": {
        "id": "FY6bHaR3JcXD"
      }
    },
    {
      "cell_type": "code",
      "source": [
        "for document in collection.find():\n",
        "    print(document)"
      ],
      "metadata": {
        "colab": {
          "base_uri": "https://localhost:8080/"
        },
        "id": "r567e2mWN8MC",
        "outputId": "a74f6e2d-11d4-45b2-eef7-65ff807523bf"
      },
      "execution_count": 36,
      "outputs": [
        {
          "output_type": "stream",
          "name": "stdout",
          "text": [
            "{'_id': ObjectId('64187da3d9b7e6b34e342a19'), 'filename': 'article_Machine learning - Wikipedia_2023_3_13', 'date_published': datetime.datetime(2023, 3, 13, 0, 0), 'supervised': 'Yes', 'semi-supervised': 'No', 'unsupervised': 'Yes', 'meta-learning': 'Yes', 'count_of_refs': 92}\n",
            "{'_id': ObjectId('64187da3d9b7e6b34e342a1a'), 'filename': 'refs_Machine learning - Wikipedia_2023_3_13', 'date_published': datetime.datetime(2023, 3, 13, 0, 0), 'supervised': 'Yes', 'semi-supervised': 'No', 'unsupervised': 'Yes', 'meta-learning': 'No', 'count_of_refs': 141}\n",
            "{'_id': ObjectId('64187da3d9b7e6b34e342a1b'), 'filename': 'article_Machine learning - Wikipedia_2021_6_19', 'date_published': datetime.datetime(2021, 6, 19, 0, 0), 'supervised': 'Yes', 'semi-supervised': 'No', 'unsupervised': 'Yes', 'meta-learning': 'No', 'count_of_refs': 78}\n",
            "{'_id': ObjectId('64187da3d9b7e6b34e342a1c'), 'filename': 'refs_Machine learning - Wikipedia_2021_6_19', 'date_published': datetime.datetime(2021, 6, 19, 0, 0), 'supervised': 'Yes', 'semi-supervised': 'No', 'unsupervised': 'Yes', 'meta-learning': 'No', 'count_of_refs': 121}\n",
            "{'_id': ObjectId('64187da3d9b7e6b34e342a1d'), 'filename': 'article_Machine learning - Wikipedia_2022_1_2', 'date_published': datetime.datetime(2022, 1, 2, 0, 0), 'supervised': 'Yes', 'semi-supervised': 'No', 'unsupervised': 'Yes', 'meta-learning': 'Yes', 'count_of_refs': 83}\n",
            "{'_id': ObjectId('64187da3d9b7e6b34e342a1e'), 'filename': 'refs_Machine learning - Wikipedia_2022_1_2', 'date_published': datetime.datetime(2022, 1, 2, 0, 0), 'supervised': 'Yes', 'semi-supervised': 'No', 'unsupervised': 'Yes', 'meta-learning': 'No', 'count_of_refs': 123}\n",
            "{'_id': ObjectId('64187da3d9b7e6b34e342a1f'), 'filename': 'article_Machine learning - Wikipedia_2022_6_28', 'date_published': datetime.datetime(2022, 6, 28, 0, 0), 'supervised': 'Yes', 'semi-supervised': 'No', 'unsupervised': 'Yes', 'meta-learning': 'Yes', 'count_of_refs': 86}\n",
            "{'_id': ObjectId('64187da3d9b7e6b34e342a20'), 'filename': 'refs_Machine learning - Wikipedia_2022_6_28', 'date_published': datetime.datetime(2022, 6, 28, 0, 0), 'supervised': 'Yes', 'semi-supervised': 'No', 'unsupervised': 'Yes', 'meta-learning': 'No', 'count_of_refs': 137}\n",
            "{'_id': ObjectId('64187da3d9b7e6b34e342a21'), 'filename': 'article_Machine learning - Wikipedia_2023_1_1', 'date_published': datetime.datetime(2023, 1, 1, 0, 0), 'supervised': 'Yes', 'semi-supervised': 'No', 'unsupervised': 'Yes', 'meta-learning': 'Yes', 'count_of_refs': 93}\n",
            "{'_id': ObjectId('64187da3d9b7e6b34e342a22'), 'filename': 'refs_Machine learning - Wikipedia_2023_1_1', 'date_published': datetime.datetime(2023, 1, 1, 0, 0), 'supervised': 'Yes', 'semi-supervised': 'No', 'unsupervised': 'Yes', 'meta-learning': 'No', 'count_of_refs': 141}\n",
            "{'_id': ObjectId('64187da3d9b7e6b34e342a23'), 'filename': 'article_Machine learning - Wikipedia_2013_1_2', 'date_published': datetime.datetime(2013, 1, 2, 0, 0), 'supervised': 'Yes', 'semi-supervised': 'No', 'unsupervised': 'Yes', 'meta-learning': 'No', 'count_of_refs': 31}\n",
            "{'_id': ObjectId('64187da3d9b7e6b34e342a24'), 'filename': 'refs_Machine learning - Wikipedia_2013_1_2', 'date_published': datetime.datetime(2013, 1, 2, 0, 0), 'supervised': 'No', 'semi-supervised': 'No', 'unsupervised': 'No', 'meta-learning': 'No', 'count_of_refs': 8}\n",
            "{'_id': ObjectId('64187da3d9b7e6b34e342a25'), 'filename': 'article_Machine learning - Wikipedia_2013_6_27', 'date_published': datetime.datetime(2013, 6, 27, 0, 0), 'supervised': 'Yes', 'semi-supervised': 'No', 'unsupervised': 'Yes', 'meta-learning': 'No', 'count_of_refs': 29}\n",
            "{'_id': ObjectId('64187da3d9b7e6b34e342a26'), 'filename': 'refs_Machine learning - Wikipedia_2013_6_27', 'date_published': datetime.datetime(2013, 6, 27, 0, 0), 'supervised': 'No', 'semi-supervised': 'No', 'unsupervised': 'No', 'meta-learning': 'No', 'count_of_refs': 10}\n",
            "{'_id': ObjectId('64187da3d9b7e6b34e342a27'), 'filename': 'article_Machine learning - Wikipedia_2014_1_4', 'date_published': datetime.datetime(2014, 1, 4, 0, 0), 'supervised': 'Yes', 'semi-supervised': 'No', 'unsupervised': 'Yes', 'meta-learning': 'No', 'count_of_refs': 30}\n",
            "{'_id': ObjectId('64187da3d9b7e6b34e342a28'), 'filename': 'refs_Machine learning - Wikipedia_2014_1_4', 'date_published': datetime.datetime(2014, 1, 4, 0, 0), 'supervised': 'No', 'semi-supervised': 'No', 'unsupervised': 'No', 'meta-learning': 'No', 'count_of_refs': 13}\n",
            "{'_id': ObjectId('64187da3d9b7e6b34e342a29'), 'filename': 'article_Machine learning - Wikipedia_2014_6_4', 'date_published': datetime.datetime(2014, 6, 4, 0, 0), 'supervised': 'Yes', 'semi-supervised': 'No', 'unsupervised': 'Yes', 'meta-learning': 'No', 'count_of_refs': 33}\n",
            "{'_id': ObjectId('64187da3d9b7e6b34e342a2a'), 'filename': 'refs_Machine learning - Wikipedia_2014_6_4', 'date_published': datetime.datetime(2014, 6, 4, 0, 0), 'supervised': 'No', 'semi-supervised': 'No', 'unsupervised': 'No', 'meta-learning': 'No', 'count_of_refs': 14}\n",
            "{'_id': ObjectId('64187da3d9b7e6b34e342a2b'), 'filename': 'article_Machine learning - Wikipedia_2015_1_4', 'date_published': datetime.datetime(2015, 1, 4, 0, 0), 'supervised': 'Yes', 'semi-supervised': 'Yes', 'unsupervised': 'Yes', 'meta-learning': 'No', 'count_of_refs': 42}\n",
            "{'_id': ObjectId('64187da3d9b7e6b34e342a2c'), 'filename': 'refs_Machine learning - Wikipedia_2015_1_4', 'date_published': datetime.datetime(2015, 1, 4, 0, 0), 'supervised': 'No', 'semi-supervised': 'No', 'unsupervised': 'No', 'meta-learning': 'No', 'count_of_refs': 26}\n",
            "{'_id': ObjectId('64187da3d9b7e6b34e342a2d'), 'filename': 'article_Machine learning - Wikipedia_2015_6_30', 'date_published': datetime.datetime(2015, 6, 30, 0, 0), 'supervised': 'Yes', 'semi-supervised': 'Yes', 'unsupervised': 'Yes', 'meta-learning': 'No', 'count_of_refs': 45}\n",
            "{'_id': ObjectId('64187da3d9b7e6b34e342a2e'), 'filename': 'refs_Machine learning - Wikipedia_2015_6_30', 'date_published': datetime.datetime(2015, 6, 30, 0, 0), 'supervised': 'No', 'semi-supervised': 'No', 'unsupervised': 'No', 'meta-learning': 'No', 'count_of_refs': 29}\n",
            "{'_id': ObjectId('64187da3d9b7e6b34e342a2f'), 'filename': 'article_Machine learning - Wikipedia_2016_1_1', 'date_published': datetime.datetime(2016, 1, 1, 0, 0), 'supervised': 'Yes', 'semi-supervised': 'Yes', 'unsupervised': 'Yes', 'meta-learning': 'No', 'count_of_refs': 44}\n",
            "{'_id': ObjectId('64187da3d9b7e6b34e342a30'), 'filename': 'refs_Machine learning - Wikipedia_2016_1_1', 'date_published': datetime.datetime(2016, 1, 1, 0, 0), 'supervised': 'No', 'semi-supervised': 'No', 'unsupervised': 'No', 'meta-learning': 'No', 'count_of_refs': 29}\n",
            "{'_id': ObjectId('64187da3d9b7e6b34e342a31'), 'filename': 'article_Machine learning - Wikipedia_2016_6_30', 'date_published': datetime.datetime(2016, 6, 30, 0, 0), 'supervised': 'Yes', 'semi-supervised': 'Yes', 'unsupervised': 'Yes', 'meta-learning': 'No', 'count_of_refs': 46}\n",
            "{'_id': ObjectId('64187da3d9b7e6b34e342a32'), 'filename': 'refs_Machine learning - Wikipedia_2016_6_30', 'date_published': datetime.datetime(2016, 6, 30, 0, 0), 'supervised': 'Yes', 'semi-supervised': 'No', 'unsupervised': 'No', 'meta-learning': 'No', 'count_of_refs': 34}\n",
            "{'_id': ObjectId('64187da3d9b7e6b34e342a33'), 'filename': 'article_Machine learning - Wikipedia_2017_1_1', 'date_published': datetime.datetime(2017, 1, 1, 0, 0), 'supervised': 'Yes', 'semi-supervised': 'Yes', 'unsupervised': 'Yes', 'meta-learning': 'No', 'count_of_refs': 51}\n",
            "{'_id': ObjectId('64187da3d9b7e6b34e342a34'), 'filename': 'refs_Machine learning - Wikipedia_2017_1_1', 'date_published': datetime.datetime(2017, 1, 1, 0, 0), 'supervised': 'Yes', 'semi-supervised': 'No', 'unsupervised': 'No', 'meta-learning': 'No', 'count_of_refs': 41}\n",
            "{'_id': ObjectId('64187da3d9b7e6b34e342a35'), 'filename': 'article_Machine learning - Wikipedia_2017_6_29', 'date_published': datetime.datetime(2017, 6, 29, 0, 0), 'supervised': 'Yes', 'semi-supervised': 'Yes', 'unsupervised': 'Yes', 'meta-learning': 'No', 'count_of_refs': 51}\n",
            "{'_id': ObjectId('64187da3d9b7e6b34e342a36'), 'filename': 'refs_Machine learning - Wikipedia_2017_6_29', 'date_published': datetime.datetime(2017, 6, 29, 0, 0), 'supervised': 'Yes', 'semi-supervised': 'No', 'unsupervised': 'No', 'meta-learning': 'No', 'count_of_refs': 44}\n",
            "{'_id': ObjectId('64187da3d9b7e6b34e342a37'), 'filename': 'article_Machine learning - Wikipedia_2018_1_5', 'date_published': datetime.datetime(2018, 1, 5, 0, 0), 'supervised': 'Yes', 'semi-supervised': 'No', 'unsupervised': 'Yes', 'meta-learning': 'No', 'count_of_refs': 51}\n",
            "{'_id': ObjectId('64187da3d9b7e6b34e342a38'), 'filename': 'refs_Machine learning - Wikipedia_2018_1_5', 'date_published': datetime.datetime(2018, 1, 5, 0, 0), 'supervised': 'Yes', 'semi-supervised': 'No', 'unsupervised': 'No', 'meta-learning': 'No', 'count_of_refs': 52}\n",
            "{'_id': ObjectId('64187da3d9b7e6b34e342a39'), 'filename': 'article_Machine learning - Wikipedia_2018_6_29', 'date_published': datetime.datetime(2018, 6, 29, 0, 0), 'supervised': 'Yes', 'semi-supervised': 'No', 'unsupervised': 'Yes', 'meta-learning': 'No', 'count_of_refs': 52}\n",
            "{'_id': ObjectId('64187da3d9b7e6b34e342a3a'), 'filename': 'refs_Machine learning - Wikipedia_2018_6_29', 'date_published': datetime.datetime(2018, 6, 29, 0, 0), 'supervised': 'Yes', 'semi-supervised': 'No', 'unsupervised': 'No', 'meta-learning': 'No', 'count_of_refs': 53}\n",
            "{'_id': ObjectId('64187da3d9b7e6b34e342a3b'), 'filename': 'article_Machine learning - Wikipedia_2019_1_2', 'date_published': datetime.datetime(2019, 1, 2, 0, 0), 'supervised': 'Yes', 'semi-supervised': 'Yes', 'unsupervised': 'Yes', 'meta-learning': 'No', 'count_of_refs': 60}\n",
            "{'_id': ObjectId('64187da3d9b7e6b34e342a3c'), 'filename': 'refs_Machine learning - Wikipedia_2019_1_2', 'date_published': datetime.datetime(2019, 1, 2, 0, 0), 'supervised': 'Yes', 'semi-supervised': 'No', 'unsupervised': 'Yes', 'meta-learning': 'No', 'count_of_refs': 88}\n",
            "{'_id': ObjectId('64187da3d9b7e6b34e342a3d'), 'filename': 'article_Machine learning - Wikipedia_2019_6_24', 'date_published': datetime.datetime(2019, 6, 24, 0, 0), 'supervised': 'Yes', 'semi-supervised': 'Yes', 'unsupervised': 'Yes', 'meta-learning': 'No', 'count_of_refs': 63}\n",
            "{'_id': ObjectId('64187da3d9b7e6b34e342a3e'), 'filename': 'refs_Machine learning - Wikipedia_2019_6_24', 'date_published': datetime.datetime(2019, 6, 24, 0, 0), 'supervised': 'Yes', 'semi-supervised': 'No', 'unsupervised': 'Yes', 'meta-learning': 'No', 'count_of_refs': 83}\n",
            "{'_id': ObjectId('64187da3d9b7e6b34e342a3f'), 'filename': 'article_Machine learning - Wikipedia_2020_1_8', 'date_published': datetime.datetime(2020, 1, 8, 0, 0), 'supervised': 'Yes', 'semi-supervised': 'Yes', 'unsupervised': 'Yes', 'meta-learning': 'No', 'count_of_refs': 69}\n",
            "{'_id': ObjectId('64187da3d9b7e6b34e342a40'), 'filename': 'refs_Machine learning - Wikipedia_2020_1_8', 'date_published': datetime.datetime(2020, 1, 8, 0, 0), 'supervised': 'Yes', 'semi-supervised': 'No', 'unsupervised': 'Yes', 'meta-learning': 'No', 'count_of_refs': 90}\n",
            "{'_id': ObjectId('64187da3d9b7e6b34e342a41'), 'filename': 'article_Machine learning - Wikipedia_2020_6_30', 'date_published': datetime.datetime(2020, 6, 30, 0, 0), 'supervised': 'Yes', 'semi-supervised': 'No', 'unsupervised': 'Yes', 'meta-learning': 'No', 'count_of_refs': 72}\n",
            "{'_id': ObjectId('64187da3d9b7e6b34e342a42'), 'filename': 'refs_Machine learning - Wikipedia_2020_6_30', 'date_published': datetime.datetime(2020, 6, 30, 0, 0), 'supervised': 'Yes', 'semi-supervised': 'No', 'unsupervised': 'Yes', 'meta-learning': 'No', 'count_of_refs': 101}\n",
            "{'_id': ObjectId('64187da3d9b7e6b34e342a43'), 'filename': 'article_Machine learning - Wikipedia_2021_1_8', 'date_published': datetime.datetime(2021, 1, 8, 0, 0), 'supervised': 'Yes', 'semi-supervised': 'No', 'unsupervised': 'Yes', 'meta-learning': 'No', 'count_of_refs': 79}\n",
            "{'_id': ObjectId('64187da3d9b7e6b34e342a44'), 'filename': 'refs_Machine learning - Wikipedia_2021_1_8', 'date_published': datetime.datetime(2021, 1, 8, 0, 0), 'supervised': 'Yes', 'semi-supervised': 'No', 'unsupervised': 'Yes', 'meta-learning': 'No', 'count_of_refs': 118}\n"
          ]
        }
      ]
    },
    {
      "cell_type": "code",
      "source": [
        "document = collection.find_one()\n",
        "print(document)"
      ],
      "metadata": {
        "colab": {
          "base_uri": "https://localhost:8080/"
        },
        "id": "vZByX52yPqyI",
        "outputId": "4d80fe2d-beb7-4f09-8ea8-ee1f20899e9a"
      },
      "execution_count": 37,
      "outputs": [
        {
          "output_type": "stream",
          "name": "stdout",
          "text": [
            "{'_id': ObjectId('64187da3d9b7e6b34e342a19'), 'filename': 'article_Machine learning - Wikipedia_2023_3_13', 'date_published': datetime.datetime(2023, 3, 13, 0, 0), 'supervised': 'Yes', 'semi-supervised': 'No', 'unsupervised': 'Yes', 'meta-learning': 'Yes', 'count_of_refs': 92}\n"
          ]
        }
      ]
    },
    {
      "cell_type": "markdown",
      "source": [
        "<FONT SIZE =16 COLOR=\"RED\"> NOTE:</FONT><BR>\n",
        "Showing the number of documents, it should be **44** if it has more like 88 or above that means it has been run twice "
      ],
      "metadata": {
        "id": "Z5ZlcE9ZWC0G"
      }
    },
    {
      "cell_type": "markdown",
      "source": [
        "IF it shows 88 or more please drop the database and run it again"
      ],
      "metadata": {
        "id": "5-rzIMBGpHGx"
      }
    },
    {
      "cell_type": "code",
      "source": [
        "num_documents = collection.count_documents({})\n",
        "print(num_documents)"
      ],
      "metadata": {
        "colab": {
          "base_uri": "https://localhost:8080/"
        },
        "id": "lTPjgPd4QozA",
        "outputId": "beea3210-b5d3-401b-b024-4e0e1aa52f47"
      },
      "execution_count": 38,
      "outputs": [
        {
          "output_type": "stream",
          "name": "stdout",
          "text": [
            "44\n"
          ]
        }
      ]
    },
    {
      "cell_type": "markdown",
      "source": [
        "![image.png](data:image/png;base64,iVBORw0KGgoAAAANSUhEUgAAAtUAAABmCAYAAAAEcm2ZAAAAAXNSR0IArs4c6QAAAARnQU1BAACxjwv8YQUAAAAJcEhZcwAAEnQAABJ0Ad5mH3gAAF0iSURBVHhe7Z0JXI3Z/8c/V1lypSKUMFKTrShLJU2ERFknkbHHTLaxjmFs8xv8h+wNyW6GjLVBihApKTIqMsmdUojutKdCm+d/nnufW7fbTfe2mGbmvF+v59VzT89ylu/3e77nPGfhvX79mgGFQqFQKBQKhUKpNg24vxQKhUKhUCgUCqWaUKeaQqFQKBQKhUKpIdSpplAoFAqFQqFQagh1qikUCoVCoVAolBpCnWoKhUKhUCgUCqWGUKeaQqFQKBQKhUKpIdSpplAoFAqFQqFQagh1qikUCoVCoVAolBpSP5zqknj4fDMHXznbQLd5czQXHbro6TAFbm7fwyf+neRCZId5YoaDGXcNexjBxvlreISlc9dQKJR/KyXxx/C5rkT3HeARlc/9px5RnIqoU+swdepybF47Cy4rfBCXV8L9s2oqT+M7xB+bUWYje3ogqpj7F4VCUZJk+Lr15PSsksPNF0Lu6o9HKkK2LCC+z1eYKvJ1Ppad+7veWwuUxOHkAjcS95lwtjEicV8EX+HfYxwrcaoLkR51Bv83dTRGTJ0Mh55dYeOyHD/5PkR6cR1swKhiCKetXth/xg++a/qJw5x2w9//GPbt+wFOhk3EYVCBptU8HLn0O17d3gYHzUnY//AhQs7swkIrbe4aSvUhjZYID4zQ1YXZXB8kFdHNNin1CxXDKfjthQABa+25kHoGk4GInfMw+pwulu35DsN13yB4z/dY55eE99wlVVF5GpvAcMphvHh6CWttdLiwvxE2rVudiZNvjbk+CSjigil/F9R+K4cOBv94DQKBAIIwT4zhQgEXeIbFicN/HIyP71mow2ikK2YO1cXz0AQu7GPwd723FmigC0vXLzHRlIe70R+/GSSNHKe6GOlhu/HtaVVM2PMb/I5649L9YHgMfYMjkydg+uabENaFYy1CBaqNVMSnjRpClSc+rYgKmnXtg34du6BzO4nDTak5hRDG3EFIfj4S/CKRkKeoG/CxKURyyDmEJBdyvyn/LqooX1VtdDLS437UL94/u4ad217AafoIGDfjbBlaQEezMSo1Z/KoNI088q+OMNJT437/jbxPRcy1u8jHQ/hFJCGPC6bUIe+TEXIsBMlyTfM/xX7XF1TBb9kaOjo60NHWQJlGNYWGNhfekk+u+tioQaeLKcz790ZnLuTj8He9VxHyEeXhDDffZO63DDwNdDTtA2tLE2hxQX8XFZxqJus2dm0pwazlo2AoqRRUW8Ns6hKsnsRHyKZlWHcpGbQN/G9EDZ0n/IAzO7fjgM98DNCSOAX1jXw8v3URUWm0b+zfyT+1fEuQGXcfQfkt0LFNc+L+qsNkzq9IeR2C7cPaKedU/xNQMcIEz0PYufkwfBZb/+2V2X+Cd89xyysKaXL95X+K/aZQlITJwou4NO5H/UbGqS5G+t1LOFGQiYQ/U8kvKVTbo//wz8CHAN5HbiKBNoL/lfCaGcHedRYm9NX9G1roisHkPsbNi6ncL8q/jX9u+TIoLiwiTYL/CipoZmgH19nj0FenMRdGqTtKkBsdiosfELB/gv2mUJSDQVFCEE6cz+J+129knOoCJD+JgTDUE/OcdiM4S3pyjSq023dEa/b0fhye5Sg+8YZCqS2YPAEubt2KXbG0VfdvhJYvpTKY/GQ8inqI+Iz/4rCvEuTF+2Prj0cQy4VQKP9+3uNdciC2LPoR/v+Q3gre69evpUZysBMddmPy6E14OXY3znl8jo4Nyz5aFkd5oPeANUjU/BrnHqzD4Fr/vCQeNzNgTSgw0RuCfaNQ6XSc4ih4DAqBzY2FMJNukrMz730OYO+NNzDs1hqNCjOQ+EoVbVUFSBm8BTuG6XIXMihOj4bPPi+cjdeGeTcgNiIdhuPmwM3JFNqVD+hWghLkJ4Xht8N7sPVCDnpa6qIwpwXslizBtD5vcHbyXjTdvhGjdIoRf2wOPpvnw/VyucJbsJWEk4RlB2OtrQt2Joj/o78+GPcXmpXvhRCl+SB+OvsU7cyNSEKikGz4ORa4jYaZdiOZZ1hjffBBOL48ju1Xk5B76z6KJm/F7iX9oHrr/2A7YitEUxT01yP4vkzeiiawXsC+n35DfDszdIMAEcmdMG7BLDiZtebixF5zHrv3BqPE0AjajQqQkZiKxm0ZhKfY4ecdw6o58aMASb5bsNE/EZmPb+FKNGBq/xm6tmDf2hTdpq2SmazKVkKBOLznNKJUOsG0XTHiwl9Cz3EWZk3sC51aKV9COXlrhPiLd9Fg5EIsnTmkbPgUgV3RwfmzeQgUFSNbBt6Y8PY37DzzHC07qiD+3DVkDliK9ctGoYvUfVXKs10+fJavw6Fr1xCayD7cANZOs/DdnFa4sPtnXDsfikQSyjd1wBcLN2CzkybubpmPOesvicKh74A1XruxjM27quQIaQhZOxEjdkawdxIRuYFgRyG8tl9BSm4Ugouc4bV7Hqy0ywmNgihTvsUQ+n4Do8kCxfNRhCLyWz1K4n2wfMsVpL64h/Oh+WVxVx+KZe5OMGSjwrxG/JVj2HMqCiqG3dCOSUB4gi4c587ExAo9i9JpPIOFZnwunIVdtcARk++4VtRRBd4hiuu6Q6WyAX1rOLkuxpx2t7D70EUSf9YC6JA0OGPhxjVw0o7ElsnzsD6EDedD32YZvLy/QPH2yVKyUGaXqi3rLOVk0BCF93/H634uGKklQMhfLaH78gQ2pc5GuLcLOlYyzV4hmFwk3TqPw7s8cSH/U1i2K0EO3w5Lln+BPu/OYbJ7U2z3YusfdsWV6tpmBeuYqnR86Dv4rt4C//Q0PL54BdEwhf3IrmjB3t6gJ6ZtdIOVJolOSFX2W0GbWCLAMefRmBf4UvSTTdfdCfn4eed5vGqpi0bxV+GT2R9r1y/EmC4aZcOaqkpHad1bDxH6ws1oMk6IfkiVMUdJ3Eks3hGEAiZTVAY5K9iy7o7smGs46xOCuMwUCG49R/MhIzFm/BcYJ+9LAfMGwugbOH/+Cq4HXSE2TsgaZtg7D8Zgh/FwGdIFmtL1UmmcWB2S2IA3iDu5ATuCMoC3L3CH6DD5Z5ncsatgLN6BoIJizo4ayrEfLEXIiQ/HZf/ruHP/CV5CC3otmkGjywCMsXgNrwGzcbLce6UQ6c4lXAgMRfjjDDRXe48slU9gPmgwhg8fCGNRXVELZIfBY/EGHPbh7JQscnzEUh+VK0MH1VgEnPXFrbgUpAiikNTcCiPHTMCUcX3k+ACsvxaOixeuISw8FqnN1VCS1RCdzAdi0PBhGGzcqmKZyoN1qhU70phIzzGsA87wxx1hYnPkXVPTI4UJXm8tegfJMEYg9xruyAxm1puuZ4IzpcP/Yh7sn8b0W3uNeSkVv5yX15i15kbMRO9YLiyHyXh4gpln3YNx2nmbecVdm/PUl1nSqxczaX8Ek8rdW/0ji3l1dy8zyaADY7P8NPMwJUscnhnLnFvixqzbvpgxhyvjLcjkrs9hMp9eYtba6JD0S4eTI+clE31gFkOEhyEGjsmUhLNHxgPm1DxbRsdpF3P3FfeOHAHjt8SGMZh0gIlMzZF5Ri/GbfVyZp4HSbfAm5nI5jXfjTn9lL1XKg76FfP24akljLWOC7Pz7gsmRxSWyTz1W8H0MnBl9kemiO7PeHCAGddvHXP9JRcX0bufMdfXDq66TBU6JDJizawPZt8p75o0RnBxNWNjNJ3xLI0rOTLjmIsr7BmjSXvL8qpGx0vmtvsUZuaBCCZFIkOvbjM7nYzK573kyBQwAWvtSdzZMljNLPEK42SP5FvETsYWeszgHeFMeuk9Ssiz6H4wOov8mJel9wuZiB2jyPuGMO5hQi6MPdKZ2CNTGE2HbcxtST4oKkdErlOiDzOuOmA6uH3HrJznRa5/xHhP1CfvMWJcTz/hrqvuoUj5ZjICb1cl8pE9FJFf6eurc0jiJSfucmWP6JvgArPCxoKZ5ClJg+T4wLNex4rzW1ZHlXqHRDZMmUV+iVwYOTLuMDtsif73cGfCsiTXkiPnIXNkXA/GYXOI1DPSmacB6xgbeXZJaVknR04iE0ju4RstZE4/SROHpYYxOxw6MHxHTyYyI4O8bwsz7/8CmKfl8krJI+cFc9dzOmPAH8osPx3F6S6bTz7MkslrmO3f2srYqurYZpJOheoYRXWcHGydp0/sdQXbLDk+ZL+VtYllZdvBbSXz/ZIDZf/nZIQ/eCdzN11iF5RIR308JHWh6JApY3LkvHjIhAT7MO5OBqJr9NcHEHuymtSj1xhBaja5JodJDdsiyi/wnRnPSGl7Sw6Sz35rRzP64BN76sFcFwhFZZDz1IeZa8AnzzRiJnv/UVYu7FEaJ2kbkMm8eBjGBPu6M06a4viWkzsi2w9DbjC+7uMZ0s6SuVdyzTPm9s4pjAE0GdOZ+5mw5xlcuJARXN/HzLXWEz1X7r0ZjxifJUMYPnoQexLCPM9kyz+bSY31ITZGj+HbrGYuCjjdremRmcIkCgSMIMyTGSOKTwdmDHmngA1jj8SU8jaHHJnB60kes9dOZw4HHGbmz9tdmtevU0MZd5EOd2AcPSOYjHL3pjKxPisYGz5bPp7MbS5PclJjmHMrhjJ8YitWXIyr8D55h+Jt/bd/wP+Xm6RlZY+lswdCT9bJrw+UJOHGkVC01ddBM6n48dRNMWZab+4XoegJTn63HJ6FE7BgonHptTxtK0yfbYjji3fBv4YrSzBZodgyZSmOa0zFynl26MjnemRU22HQwmEQbt4BcR+PhA/M6uepo4PRJ1KzkyW8QTxptbp6qmDegrHoKun14engs+mT0eX4j/jR/5lI88qeEYl9V5tjvAtJd5sBWOy9GRv2uMK6JXtvZXFgUBR/Ft+5HkbhvNmY2FXSO6EK7c9cMLvLFSz+MQDJzDsk3DiPs23bQ1e6B4qnhd5jPsdg7mfdQuKaeB4rpxxF828WYlJpXAmqbWEzZz4c7/0Pc34KR7YoY2pAbhTO7DiGk14++D1DPAOB18wYLl864Z103ksoXdEhEt5Rupg8vjsnezw01DeBdYeXuO4XieeSkQ+KyjN7v5E1xg3WgfBkEKJyJQ9oik8t+qMHHuFqVLLMkm7NMenL0dwKFUrIEVTA72AAfSIiz/fdg9r4keR6PQxa/H/YsGEtZluLBoh9JBTMR4XlVxRYB7xF4tkNmLJLC98sdyrLXxILVR0bzPl2AO7NW4GfwtPLy4tSKPuOpjAaYE90MhonA/9AriiM0LAjLIYZAw/DEZVYwAVyqA7DlxNMpGSxEbQ7dYLcdViUlXWCeOWUK9AcOxw2utwY7SafYoBjL+T7e+PUvVxoW7lh49dW0JbSB+UoQdatXZgy7zw0vl6EefYG4HPxUtUZhIVOr7F5c5DoyjKqYZsVrWMU1nFF+ID9VtomlpXtc+8/0Xoyq+ecTDVshx7W+si/fhO/P+fqyVpNR/2Dp9ERpmZWsDQV97a/vfczDiQPxarpFtBpwrpRPDTpYg474tEh/xZ+C5e2t0UQBu7CwnUXkKgzDRvXTUFfnaaiMnif/hxRoi8dqUhIy1Ng2U1VaHQ0hpm1JUzlzQyuchUMEpcrmzF10TEkGH2FDWudYazZUPwvXlPo9HXBDz/MRAdxiAy5iDm4AlO3BwKObljq0pPrWW+AJu0GYc7icVAP2YGlXneQVRu2VJWPluVWZlGBmoa2eFWWKldmCcPuY7mYuGpSaV6jiQEs7QzJyXP4/3YPz6Tqh7cxv2De1E0IgQOWLHWCCZcnvCafYNCcOZimfhWblh5GWLkh0fJR0KkmBvvCQWyL6IBJm7/H7L4ty5SyPsFTQaOm+Qg4tBfHQhKRX1qwDaFjNgrDOqmT8/fIvXceHv7P0cHeEt3UpFPSCO2Ne6NH/l3cepTBhVWHfPxxcjd2CBrCYsIw9NGUVHBieFqdYWXLal8NyY3GKY9LyO9gBatubNrK4LXvDpseqbh8Kw6yKSlNN1HALqNmY8HYruUMYUWycO+UN/zzu8LeyrB8BUIcL2Obrsi/fAePMt5DtRERxoCj2HXsFpLyywSwgY4Zpg7rhGbc77qDxPXXwzibbYLBpm0rCDhPqytsBmsjctdRBDyTcRqURbUZWnbQRP7TDOSUrgnLQ9NOJO+RiMCIBGRzoeXRgaWDBTpJDa2CiipEq0k+zUSpT6yQPHM0+AT9PrcEhNcRGCWZ0FGAxKhwPIQQ13+7i6eS5zKvcPeKBoaba4v1uJpyhNLrVdCsywgsWCBvyEVdomA+Kiy/dTRPhDS+ft16Dtk9LGDaXnZCnwq0TPphsGYIdu0OlDL0SlKNdzToZIHPZRti75MRdfUROblDHINnpZU88/I+rujawFzpIX+KlpFk5RRihZupEUssgciWRgvy9yEuP3hJrqohhX/g5Pr9EMACE0aZQbOc3SP51L0vbLlf1UeJOkYZHa82NbSJlgPRr1NT7geLZOnbdGTmcssZfJR01B+E1xui1/BuldSbQiLa+WUOcuFjnNt2XDQsh+8wEH1albmCKp2d4XlmFzZs3guPCUYkZ+sYqbhoDu4Hkwr6zCPq2VB+PLIi4L3Rj3g3mugxpA/0pXWa1Z1eAzFWMx+CI1cRmf13z7krQqchtlLLmspQzvakIcz7F5HtQQ8r9NWXlnVWP0xgN9YYEFyCf2TVfqECTnUJ8mK88d3ih3D03Istk8ta3fWOBp0wfNlX6B3lifkjekJXwwwObmvhcTIM6frDMNZYg1yUj/h74cSodkDfTq2ljLcYFW09dCf/DXoiLL/6iTIwf+FRCFsxGWFgz/YV3gHShmzfTW7/jhIwKIz/Hf4CIgl99aHbSKZQVLSg17018oOe4EW5hOijf2ddKDVXv/AZ7vk/JCcG6KQr2wvSCNp6pF2b/weevCBXDP8S3/UWwGu+I3rotkNPBzes9TiFkPRPMIYIZp071QUJuH0inJy0QStJC7wcfLRoq0niG4Yr94U16BkkqJlh3qmbCA9bh5G6Fd+VnZ1P3Fp5qKG1RtOqlU8heZbQGJ362ZXveXz/DOHXjLBj4yjg+jWEPxXHRuwgWcFMnY1BdeWI0N8I7Rv/ncZAwXxUWH4lO7fWJgwK4sJwgs3fjq0g074Wo94CbbVIFPxCcP9VdZYRrOY75DTE3j+9i2sWS7FxMBGZ0oZYIV7evQ/dwd2hvGukYBmRK5o2b0Gq68rQRHstviIV1gdhXsUi5C5p6ur1Qs9yjiKHdnt0q3F/hxJ1jFI6Xk1qahNba6BZVRn/MdJRn2hthE46io0dLpU5Qmv9NuVlnNcchvbTsGC2w0fpkHj//AGucnHRattCCX0mNiY+Cv6iW7WImVGv6HhzNgbZT5H01989mViP6HcrxTp/C54h0p/11why7SenH0hGdFJGlQ37KlSFQXGyP9bMuISOuw98BIeah4aNarKZiyq0rb7GQd+9+HZML5IVCQg9sRNrvnJAvwk7EJbOegU5eBGbRP6+RsLVX/CThwc8pI9Tiei2fhO+tdKrfquxJAd/xbKTPBqhmZpiiqc8Jch88RQiUUi4il9+kkmHhw8Su7liw7dWaF9TXc18gdhHbDNOgKu/eMq8xxOnEvWxfsM0WLVvDJ62NZYd/AWe346DKT8fiaEnsHPNlxjRbwY2haVWNNi1TVYK4p9z5x/kOSKTM2vY88WDastP0LE4Br95/YAFLs5wcVuO/zvoj8fcFTVDEXkuQ7bnUeQgmQyFiz37mV/S8yjrIH1EOfq7UEJ+a58SIpLJRNoUIQnJadWpjKr7DtmGWAGehj+CyeDRsGedbUlDTPRlozkGm8n/oFw78NC0xyC49tJE4p0nUkNx8vHiiYD41MMxcUB7xSrJD1CS9Zd49YxGTaEm24CsNZSpY5TT8WrxUWziR0jHP5RSmasHvM/NxFPuXDmkbUwq7uz9Dm5u7LbgUse8vYi1nIiJk8yg91G/WNYQaf24Q+RXNl1uS7A3tj0mThwNKz1+lTboA041caiFN7H5mwvQ2+6JDU5VDRGoDRpDz6iruCWXmoMPbQjFJD/B3V6d0V56UE2xEI8eZUG77xdYffQmUnJeITbEF4fXOEMnZBsW7IsgFYcaNNuwrWYtdHV0xcKFC+UcczGpb+vqG3AVDbQR9UQXIu9tXbXYGoCvqSWe+drVETPlpmMhFkzqW4Pxhxx8TbQRvcgYjjPny33PwgUT0Fe7BMJHT5Cu3RdTVh9GSEoWUmJDcfHwGjjp3MbGBYcRXvbNpfaQ3mWsNK5VoYduRA5qpPrFKYjY+zWs+23CPa1RWOt9Gif3uWPVLEd05S6pEQrJsxTleh5fiR2kgZ3B72SFCSMaiXseS2QdpI8oR9Xlg7vIKYDC8qvQ3G4lkcrfKmmLNlryehKrovrvKNcQy0lE+LW2GNi9DTp95oARfHFDrKTcl406pJkZJn49Enz/X7D3dDTSi3KRFHwUuw40xYpj38BBztcgZVHRaoNu7EnhG7wtrKsmvhJ1jLI6LsP75BAcC5GdLyHDx7CJNUzHv5kG6i3QiTsvKSyuZqOldpCOi3JI25jWsJy9Efv27ZN/eH2LYe3qqjNRQi7iQ64jSlgL/pW0fljOxmZ5aRIdu/D9sA4kJz5Mpf9ncu9jzxI/tP9+O5batC0bEP5egGMumxH2pi4Mkgo0ew3FDCM+cP8R4rnJXxUpgvDhAzT9rAtaciEi0iOwa6k/4iVSy2uGdqYDMe6brdi/1hKC0/cQX6yBrlb9iOOeipjENOL2VoTJfwVBcl71e1V5bWBsY0xOnuP3hDQ5Bu8dcjOU2dSXQeHbNzJxbYBmXS3gyLZAYpKQIq+CYPKQLHglNb6tmjT7FFaObFWUiMSUt+KwcpQgP/kpkvOFiNi1Gf7xks/oKuC364EB45bgp/3LYS4Iwb14effXkPdpiDrA7TJWGtfneJkur3Rf469EdmMRY9gYt6lBzxc7+eQnuH0bCL216/E/F7NKlmHMR1L4PSS9q0YhKCTP3P9ESPU8BpyGr8hBak5EpT2snQaAf/0abt+4JeMgfUQ5qi7S5VsdFJbfuqjupPL3j5dIl/eK7L8gEkmLPjBuWz2nutrvkGqIBfz8G66Z9EP3pjwSbAmn4WqkIRaMG+HVHfqhJO9fINSvI04+2g4HtRic2XMU14Xd8G3Yr1g5QKoOqgG8tt1gY0Ey6uVjJLySYx/e5iJDKRMlzzYrUccorePleZ8WhQNR8uoYKT6GTaxhOv7NNOhgjIHG4mXpnkcmIEWeHS3OxrOkzOoPOS2HPJkUIx2XrFeZSjR0iI351AxDWBvzAbkW2dJXycgoruvKIgexx/ciJKUWdt1tpo8+Q4zE55XVgQQmPwXPFFgjX65TzeQ9gvf356C1Zi0mS88UJjAZTxGp2gFtSydfFEB47yz2Hr6G+LyaV0o8LUt8uXYqDLL98UtAPHFdZGFQnHIdP53ugHlD5XwODA9A0GP2U68UPHW0N/oEpBkOLRVVaPd3xje2mnh0MRR/vJXNwAIkB+zCrsia7N7DR/exrphlkIvrp4IQK+tQvX2GqDD286AsfGh3aMWdS/MGTx9EQrxqaBk8bQtM/cYR/Ec3EfKHrHqwQ3euYeOu34nJrCG81ug/dSps+VG4GPInKtQ5xc8RsPEQIl+zpv0hTgb9KaNwKlBv3wkG1e6Jk6YB1JrJjM8rKUahXguI/ESeDga4ziBxfYSAu0kV5IdJuQff317CYJYrxnaXXbtTGdIRHXANCTCEnaUBpActvc/LIWZHQhYe/nwWD6s7caNKeebCOEp7HndvwWnOQWKHIelZDMJw/jVs+ebXCg7SR5MjhaiifKuDUvJb+/Ba9YfrdyPAf3gbd/98w4VKKEJK2FX8lm+KWUtHoHs1hyRU/x1lDbHda0JFXzZEI415bWHhaE0aYtvxzbamdTz0gyP/JWKji9FQuwtsRk3BnIXzMHPC4Npb95alUVeMXTqJ2KI7OHXtCcqPomfwNv4BwoTcz3IoY5uVrGMU1XFeEzTTEXk1HAxRDQZ6LaoYa/6xbKKi6ShOwb1TB3H4igB5de171QcaGWPC2ulE5gg3r+FWgqx+liArbDcmekQovmpGBVmQJhdP7t2r4C+IaNQFoxaMFY0GyA6ORnyFztESvMnNkesw83RtMYe1McivRK6JLGWHw2PqZtwU1oKzK6ExH5qySWVKUFSohRbqtdDU5rWD3ZwviX6Qc7l1IIFJR7jHYvxw8xXRug9TUReLX+DKhkWYd3AX5lm0h0bz5mgudWgYjMe1ngbQldjlrFDscHLFt4tmYt4pASmSmtIY7UauxK/7hyNl1Ups8HmI9NJWD7t5wymsXnwN3VZ9AVN1eR+qrmDjtrN4LO3gkzTdvpyIWdOs8QmJN0/dDK6b1mBSxj6s2XETwnLPP4kdYeZYOrxdDXoxyTt07LDScyls7u/Ftl8flRmP4lcI3rkdP8sVuubo+tlAGOE5ElMkisc6NUE4+7AJ+pNfbxMT8FzSo8bTgqnrKmyelIpNa/YiWCiZFkfuSb+PozuiMWipHVdWrAEuIuVTgsKiksoFQySssqVInGLTSdi0eQwyNv2IHcGvylrU7IL/Rw8gbJArhos+zxbh7sbd8H6cI/WOAry4HYQHs5ww8JOaVpBN8In5QKIA8bgR+Yy8jVSEsffwwLI79ETSzIOayWRs2zUWOe7bcSiybLt9Ji8O5z324rbVCniutINOTQoYGjDs3ZMYmFTEPZXa0r84GUFnglHQg1iB12/wrqQQb95oQJPPRo6USxFrruSUAes4ylWequW5HJKeR5jBSeIgEXh6veE4vDWev7Ws6CApJUcESVwLi1D7HRJVlS+LsvmojPzWBKl4FUtHQh0mM/6HXTPT4O5+HJGlvYXsZhx+8Nh+B1bf/4iV9tI2p7JnESQ6WkLyv0SS+uq8Q4ykIYZug8VfNkRIGmIv8XaoTaVDPxhiUyRvKk81ZJ2vh25dL2DDD/vh4+sLX8nhdx1hj5Jr6UtJQ+jYL4bndz1wn9ipX0vtFImv8CZ2up+AXJ9aSdusXB2joI6rtIP5GNLQSbyHyHg2DrmIDXsOS2Odsopcrv2unk0sLdsKel6CYrkFqEg6iAMZvBtOXy7BIufvcepJHXy5VJhi5GekQigUQpieI9XYfoOcdC48I1+UV0xBDlKFfyEzj6u3S/KQmSpEak4BkYL3KMhJgzA1E5Kkl+RlkuvTkFPANtSJzA35Gh5rR0M//wzxlTxwOT5LXAbFuUiOOIqV67KwdOEAtBLlERev0jgVIS/zL/L8HBRIykHlEwyYbEfqH+KCxSUhRVJAxVmIv/wzfItMMEoUkI3ER5GIik5CjugSNeiPWw1vNi6x3thzUso3EcnmMSxf6MU55K/x6sULqfcSGzNrE44uGQJ+xB6s2XQBj9LfifWHTUeUL7Yt8UTa7PlwrM3hH5o94DjDgpwk4vLlcCS+K0Ze3E34F32GfhJ/gilADlsemXlEwljK59mHy4/Vj2nwPLoCNvxAUgfuhO+jVC7N5F3JkfDdtgruaeOw0vGTCvZTFpkdFWV3j5JHBzgd8cdhJ+7hRQnwWTgNM87pYu2FvVhqXlvL7bGVwXV4Hz2BX39OQJthnyA/7jXaD5uM2V9JdniTIT0Ai2dGw25ZZ8T63MLrtp+gJXF6YmML0X3Cl3C1N5IaF84a0Xs4cXAvDvgI0dG8PZrk5EK13zQskdkNr/pwO1h5HsTVN8aw68ZDYpwK+n1lD5W9M+F6wrbCzk1gchB33oMY4mjo2VtDn0nGE5VBWOJchC29pnE7Ppljkd8JrLPhek7Ylv+JQ9h14BLSOxqjfZM85KhaYvqS6bA3bA4euzPRd4cQ+ge7wxJbZRjAekxftG9tX7bbG1v2Phux5cI90S5NiURd9a3tYDdzLdydDIlbwsJ+lfDBwV2H4ZOuC/P2jZCTo45+0+dipihvUxCweCUi7abCOPYSbrxuBf2WpFhiBcjv7oy5rrWUr+yucf57sHpNAEr6doCKig2Wb5wBs3LTdomBiLmEI9u94J/XDp1bFOLF47cwmbYAc1z6l60bXhNYh+zCUez1ugHYjoZ1+wI8i2fQ/YspGPjWB0tc9+Evk4EYNmsJ3NqGY9WW84i9Eyje+VDfGmMs+2L0slnQ9SeNrND7uHglmugdm+9DYGU/BxsnvcYPCstzGe+TTmLyFy+xOHAJ+op6qlkKkeyzFOPiJuLaKiv5n/KrkiOkI8zj/yrE1bJ9Jwxd9h2cDGsyyViKD5SveOdCJfNxoRU3474q+RVdVC0qxIvdKW1kd3xiv7RMf4rTEHPxZ2z3uIo8o05o8e4lHmcaY9q3bnD5TJ9bL7nis/im9hjZ3RbTN05D6+ubpXSU3fXwM3S3nlmWRgXfUZ4CJJ1cgC9ezETgMvPShhiYJPjMXIK4WQexyopd1k6Kknj4LN+CC7ER3A6MrE0ZiZlrV2IM/KtZRkUQBqzF8PGeEO0KKIu+Ixb/by2WjamF+T3czpOeXtfxpq81uiEZccWW+MoJ2Nt/Fk7I29FXadusQB2jVJ1FnpgngP9P67AmoAB9OzaGitUibHTrA02eIvZbQZsot2zN0W30YqzUvYFVPwfhD3ZnR9ZJYMvWagRmL+6AM8seKZAOBkVJv2Hh2Pk4p7cCF7znw1zucjUfA25n0hNy9+sTw8mBdulOfeVhd5u8v9AIMZKdoMshsyOhaEfFIPhfvoFrARdxKTqXZN8ojBk1CuPG2cGk1KepJF6yu2Syuh7wG85eDULwwxIYdW4BXgNtmI6biandH2GJaDdGzkYbEt3Z4YIukqwujUsIfn8BtOvcHK+fvAKv63BM+DQG0ydsLEur7HsrpEMo2rHX2dYWQ8d9jmEmCu48qASs3F/1/hW/+V7ACZLNNjPnYuXyqbDS4SaXszts9x6ANRULSBR3k5gPlZ9kF9T3eCd8gED/Kwi+dgnel4iNkux4OXQsxg0zUWinbRmnmvJxkCiNHKeaQqFQ/nOQBk+wB9y2v8XUDXMxWqpiZvKT8ceDh7h7YR9WH+Vj7dV9mGNSRyO8JVtDy3OqKZT/AGyvblpWAVTUW6Aln/omyiL/mx6FQqFQKB+L3Ps4tPQSei6dDyeZni4evx2MrRwwc8NGbDB/iPMRydwnXgqFUtvwGmugtU5r6lBXE+pUUygUCqUe8L7i+OsKNCGVfaNaGmJIoVAotQt1qv8OSieTFKKo9md6USgUyj8L9d6YuW0EHu/wwKkoqYm/HEz+U1zfsxMn2i7BmhEd66ziqnxyHoVCoVQNHVP9URFPJtl8MoibqMPOZ7LHSHMXfFs6YZBCoVD+i5QgPykcvmd8cCHiNT4x7Y62zYqRkfAQj3M7YbDTOIUnCymNaHLeJpyMCOEmc7OTQG1g7rJCaqIfhUKhfBjqVFMoFAqFQqFQKDWEDv+gUCgUCoVCoVBqCHWqKRQKhUKhUCiUGkKdagqFQqFQKBQKpYZQp5pCoVAoFAqFQqkh1KmmUCgUCoVCoVBqCHWqKRQKhUKhUCiUGkKd6rrm3Z/w/X4ievaciO99/8Q7LvjfCYN38b743tkSPZ03wDeeXYlbWd4g7uRKuLm54StnG+g27wk332TufxQKpXKo7lDqklSEbFlA5OsrTHUwQ/PmDvCIqo6N/w9SqR9QRZ5mhGAL0Wc3tylw6KmL5j09ECW7MxKlXkGd6jqlBFm3f8b8Hf5ITPTHjvk/43YWu5Piv5U03D6wCTuuxCLxymbMP3AHWdx/FKcRdC2/wOyJpii6K94gh0KhKALVHUpdog6jka6YOVQXz0MTuDBK1XzID6giT5sZYeTsaRjaJgOhiVSj/wlQp7pOaYAmLXRgxP2CkQ5aNPk3Z3kTtGirw51rwqitFgmRQ3EUPHougq9QXpNbFRodjWFmbQlTLS6IQqGIKI7yQE83X7B7/lWE6g6lLlGDThdTmPfvjc5cCEURPuQHVJGnjXXQxcwc/fuU3v3P4oN1fT2mBvGmTnWdwoOa6XQc9DsId/eD8Ds4HaZqdbDFbr2hOUxnbYPf/m1w3/8rDs7qSUxGRZj0F4hL5X5QKBQFKUb6iyRQ1aFQ/kn81/yAMv6pdX1N4k2d6rqGp46ONuMxZ8542HRUJ+r174bH14eNy5eY42KNjnwVLlSaN0i4dgHn6ZcsCkU5iuJx7cQ1OqyDQvmn8R/zA8T8U+v6msWbOtWUjwfzBsnXd2PRt2eoY0ChKAHz7hmub1mNb/2fcyEUCoVST/mn1vW1EG/e69evGe68XsC8S8GD4EBcuxGEoIDLCE39FA5TJ+CLyePhYKKN4sc/Y/oXr7H83kKYqZIbSuJwcvEOBBUwePviHs6H6mJ98BksNOOLnlcSdxKLdwShgMnE44tXEN16PYLvc/eWUoL8pHBcvHANYeGxSG2uhpKshuhkPhCDhg/DYONWEF/OztTdgOPx+ch8fAtXcuaRZ82GbpQPDu45i0Ah0Nl6HGbNdEJfncZScXuDF3cCEYoVct5N0pyfiFsXLyIwLAKPUxtBreQNVDr1waBBwzB8cHdoq0ratQyK02MQcPY8guPSkfe2AO/ZYDU9dNPLwo30YTjkbg9t0bVVkY8oD2cMWBPK/eaY6A2BZ3uc6j0AaxK5MBGu8BZsxSgdVdG4zt4D1qD03+w9+0ahlSSv377AnfPkueuDcX+hGcm7EmSH7cXiDQfhI3eCiz55hD/2jWrH/SawY5pEceD+59AYMQG/wedWHDJTnuBWkiaGjByD8VNGi/NaYT6QbpIG8Yhw2Wusy8kUK6PRgb44H3gHsS9L0EJLBW+LNKBvMQRjxgyCqU7Tsp6ImsgnO/N75XHEc//LWUHyc54Ook4cwp4LtyB81wnWE2Zg5sS+0CmVkaoRyZvvb/C/+QgphQ2h1jAPma/V0am3tYy8i5GNoygeC7sjO+YazvqEIC4zBYJbz9F8yEiMGf8FxvXVLXc/itNEZXc2OA45eW/wViS0fLTv1hoZN97A/tD3GKb9rtblUVSWTC6Sbl3ChcBQhD/OQHO198hS+QTmgwZj+PCBMNZuJLpF+bwuRDqb/rM3EZeTj7dv2YlHDaDW3hB6GdFIt98M92G6okfXjHSEeazChsO+lUxUKsuHUmqoO4rbI0UR21ffM364GfMKhWpqaJiTidcaBuhtPah8OYhgVzHZgB1BGWAyH+PilWZYweqMyRsF06Fg2ZTmk/guMeI882zvU16mWErlStY+SNsvReuSEiJyu7HyeKxUGk9jnm4sThw8SOT1Gd51HoAJs2ZgokifatP2c4h0ww9n/EMQk1IANTUecjLfQqNTL1h/qKyFvnAzmowTMnaxFOKYCKNv4Pz5QITFkkqxRTPgLYMW+uYYMmYUhpjqoonksaX2sViqTl0Ak2w2rb64FZeCFEEUkppbYeSYCZgyro9cW1ebMlvBnohg9ewHtD81UcZGSZV9BXnidLNVfNV+wAfztJj8+xsYTT5MXifPf/kQNdUlDoXLtBp1vaIUZyE+4iZu3ryD+8+yifwTnW7TBb37f4Z+HbIQfPI0fM4/QPOpW7F7iTW0uSJXTDZqMd6viVNdX46c5zeYzU7GxMnnMwaTPJjrAiGT8zqbSRVcY3ZOHs+sOPkr4+7QgSGCxQRncvflvGAehtxgfN3HM5ok/4gDxKwPTil75ouHTEiwD+PuZMA2HsrfKzpSmVifFYwNn32nJ3P7eYb4vtQY5tyKoQyfP5RZcTGOyRRd+xcjiAhhAo8sZnqJnrWOuRS8g5nynQ8TK7zP7B9B4kbibrQ8gHnJXi+KWwBzZJF1Je/OYTJizzJLbPQYGExnPG8nid+TI2Riz60mcdJjbFZcYASZOeLr/wph3G2tmbm/PmBSc8qekfk8jNk/sxdDSp0RlD67qiObSXuRwAiivZk5Omy+kXgvOsU8SExhMnPSmBfxAuaPcyuYbmy8u61gzv2RyKRw8chJe8HE/+HDLO/myKwPeMgI2HvYcDavAw8zi3ppitKrvz6YyzcSx5QkRiCIY8I8XcR5ARfGMyyOhAnIEc8kpmRKxY0cmcHMen32On1m4uHzjPf8JYzH9Tgu3S+ZMHdH0XP4jp5MZAaXPwodXLofnGIWGfFFz9B0PcLc59JQdk00c3qRBWO+wod5IEhgXqRlk3CSDsEFZgVbXr2+Zo7c5cpLugzKyQs5aiKfaQImIrhMfvTXX2CCN89jvjsXwwgf7GdG8Nnn9WOWBySVPq/KI0fAnJtL4snq2Fwf5qkoP0n8n15hNrC6hR7MpP0RTKrUPbJx1F8fwDw8tZqZ53GNEaSK8yU1bAtjw8af78x4RgpL72XL6rb7KKbb3F+ZP0TXcuGZSczd/V8xRnBlvAVs2de+PL7OeMT4LBnC8Nk0eYYwz0XXE3sS6yMqQ77NauaiIE0cH6XyOof56/YWxrbb18yvf7A2ikvT6wzm+d0DzEwjA2aidywXVtMjk0lJjCc6EsJ4jmHLh8RjjCcTJtIb9kgqzYfSo9q6o6Q9UvDIeerDzDVgda0XM/ecgMuvdOZp4CbGgc1XA1dmf2SZTrBpfvEwjAn2dWecNNl0EJ0JDGNOLVmqQDqUKBuRXD1hor3nMaQBRp5lwSw6fV9ki0QyJYhizi3vT8L5TLflPswfpTaCldV4sTzabGACYgWc/VKmLslh0gS/M8Gl9pKk8ZI/s3nK98y52GfMg/0uRG5JnIxWMgEvid7Uqu1nj0zm6blFjAH7DoNFzLmnnP3NjGcCN4wm72bTcICJTJVT1gJvZqIov8rbMtGRGcdcZNOK/szcI+GczrHhEn2XkSFZ+0jsX+DDU8ySebu5+p9ckxrKuNvokPd1YBw9I5gMybtER+3LrLjsIxjvOT3IO9kyWMKcfvCU6FmW2EaJbA0rz/2Z5eeiy+oukTyxMmPL2Ky/xMRKdLNKP4AcH8pTUlYCb9fK7/3gURNd4g6lyrQadb0iR2kcWFt+k3nK1seZycxDH7aMyTs0XZkjfzxgTrsakTrIjTn9NIvcp4xs1F6868/wDyYZV9Ytwbc+jwDz5di/eSppMbE9fg3QRMcCM9y/RKPtc7H8ksznT54GOpr2gbWlCeRNeOdpdISpmRUsSUuqIgzexvyCeVM3IQQOWLLUCSaaDUX/4TX5BIPmzME09avYtPQwwkRL4MjM1C38HceOv8esRUPQTq0Jmmqya100hGazJhA1JEVx+8DM3bcPcHDeQmwPUYHjkrlwMWnB3dcU7QZNx+JpLRGy6Ud4haWTmL5H7r0LpMXZFqbGemUtfZJDqprdMfaLEejAhShGAzTWaAWdTgMw7ktr8jsfgksPkNJIDaq8xtBorYP2vSwwgFg6xIYiUqgKPtfa5zVuDs2cBIR0Gwenfh2h05Ivircor80t0aezbEmQOPJbQEenNbQ1mnJhTaGh3ZqE6YjCW/Ira3pnIWb3Ofw1cTGm923LpVsdXSwtSduRxNr/GsKfFbKBCsKlW78/xk7pJwrJ/u02Hhc2Eue9CHJNAyHuB/bAghkDoa/TChqNiaqQ8jrgNhebQjQwc8V8fN6VKy9RGRhjwsoVmNmQyIvLNzgQkyv6T43kU2bmd2HMGRwvcsaiwZ9ArUlTiEWVj2ZqleWdHN6nQRD6hJzkIyE0HkJRdxeJv7YlZi2YBD08xPHFu+CfXJansnF8e+9nHEgeilXTLaAjmsXOQ5Mu5rATFcgt/BaeLO5FY8mNwpkd96Fv2g3tpFe+UW2BrmMnYEKp0Na2POYi5uAKTN0eCDi6YalLT2iKrif2pN0gzFk8DuohO7DU6w6yWBOqVF5n4t6Z4wjSN4FxO6mvEqzudx2OLyawGVFbkHS2ZPVEGxpq3BwFNQ1oi/SGPVqU5kNFlNQdpeyR4rwXxiM0ge1lf4JQQRonG42gbT4RC+abAwmHsfjHACSXPlR2FZNU3PM6gWSnRQqkQ4myEcmVLjoNGYsvu7E9g49w6X4aGhFbxGusgdY6HdHLshc0iSzGXnwIoVpTTt9ZWeUjRxCHbjNGoV87HWK/VJSsS3hE5IxgVmovsxFzzA9Fs77E4HbN0KRpMxJjgiYfaqpMLdt+lkIIBY8g6pNLeASBkMs/1dYwnzUH8/WIfTj+I370f6ZEWROdO/ANXDZdRcOZC7H08+6czhFYfZ+wFBtmahAZmgu3Aw/wlg2XtY9vb8HrQBqcVk3i6n9CEwNY2hmSk+fw/+0enpUaF0IdyKy47DtjyLixII14QBCO+ykNiJ6piG1U+56wHMDKUTQuRqZDTVJ3sfKkSexWyCeY4WSOdhLdrMoPqFNqokssypZpTer6yiC+T8RRLCVxyNdzxBQnM2iz9bFqc3QcMg6TB+oR9QmEz+0SDFpzCiG3VmCINrGVSslG7cW7njjVDAr/8MO2g9HkXAeDpzmgt3r5SW48dVOMmTaQ+1VbpCHM+xcEsfa+hxX66ksyUwxPywR2Y42JUl2Cf2QGFyrFywik9hyAnuxMXl57jNxyHmEhQTg1z0zuqhflKUFW2BlsDHpJzk0wpO8nYiMqgdcSvewGEIN+F0f8HxKTy6DgTR4RcX9sXLYBhwPC8TgpDfnFrKkgBtrMFX4rbZT7/CeiOYyHDAep2kg6/eAbITE+JH6RN3Eumz0PxYGLD8i7JbzGg8sh6DbeCnqcftUd2UjsNBDDjTXEBrYC6cjMrc5yPc1h6jQJ49i6NNsPhy79iSLxPwhFSAnygb/dKHymIykV6fIyhkWXlhXiw9M2gkV/ouD5ftjoHVGNNbo/zMvTeeg5vLtItni6jtgSdhchkQcwz6y5+AJFUOkEu/kTYIAemDTfFoalasZD007dYcOe5kch4omo4OUivN4QvYZ3QzO5BSLE08z8Mqe64A1e576E/8ZV+P7wJYQ/fob0fK68GveEq983GMAawFJqSR6zIuC90Y+4Q5roMaQP9BtKR1YFWr0GYixbAR65ishsyZqxZXw4rwvx5vUbwH8rln1/GAHhsUhKz4c4Veowc/XAygFtRL/+XpTRHWXtkeKoGNpi/qQegMEEzLfrRHJfgjo6mRD7SsgPjMQTOeUgRoDrvF4KpqMaZdO0C4ZMZBvYRB5+uYwIkdNLYDIQeS1YnNbYC7j4e6YoWMSbP3D5eFuMt2nHxamGdQlx6E+nGmN4T1a+GkJ35DqEhd1G5Ck3mBEhrH3brwZDuwmYZKAJg0kTYGcoVWM17QATG9bFSkRgRILiZV2qc3rob2FU+vm9FCJDXSzY8n6JoI1nuMaFDMI/wetlA+Nm5ev/Up5mIrfUuNSdzLL52tTYFhPN2VZ8OH7xjRI3vglMVgyunXtEzkhj68Bl/F4aIQZvHlzD8W4OsNGTHs5Un1BGlwi1UaY15i3i74WQmBMaNYVaI6lI8BqhaXM2r5/DLygWmS0NYGrYkjjPdSkbH6aeONWFeB4VRpLH0gF9DFrJiZgKmmm04M5riYJniPRnlYPQsRU0K+gxHy3askqVjOikDFJMspSPK4/fDsamBmhZac+RNPmIj/ydK8w2aMX1apShAvUWrUWt9+zoJPxVooKWFiPwFWnsJl7ZiUXj7WHRwwC67QfAecGPOBycCk09Da4nRRl4UDMejIm27AjUh/jV5w6ErPFgXuGWTzxm7XMXOZ7Cn/1xO02sbEzW7/DxNsAIi9aVKGbt0rpnJ+jUwYt4ejaY/pUFORMiyMsX9yTGsehPXDqUginOfaBV+l7p8mqGpvLWGy9VcFJmvhF4/IazwrWFXlcYtJUYaxXw23XlDIgy8GHoshNRr0Ph5dJF/jriJK3Z+dK9FTK0NkInHQUrjZa98Tmbx4n+2LnIBfYWJuik2w02zgvwf4dvIU2zDTTK6UttyCNpgMZHwV9UWFpEtdWlHDkO9RZoK1Kup0j6S05aP5jXrWHx+RgYETN/ZecijLe3RI9Oumhv44IF//cLgtP40NOQ1ee/B8V1R1l7JA5ViCZd4OIVitdRO+FiyLZi5ZCdj/yCyvVF8XRUp2zUYWw/ArbsqfAyfG69EjXkGOEd+IQOw76fJhGticbP5+4hTRRFUmGHX4S3tR0stDntq3FdQkSujwHallYmzdDO2ASGLVkZrAvbz0MTwwnwinqOKK8JMCzr/i5HNimXAu78w0jrXCM0b9pITt3QQNQDLyL7Lu48fi0+L4ceenZqpWC9Uocyy6LWBfYTRd0MEP7qj1tCttulCMJblxA6azd+GkcaHkRezt3+S9zwZ9IQ7nMb1iN6VXQ+6xGK61JtlWlNaYx2nU2IA0woKUJxiZSdYEpQVMgWrCYsTDuizEOsY9n4APXEqS5GbmY6d94IzdQUrLBrSlYK4iWjSe7sxbei7UCljyXYG9seEyeOhpUeX45A1SSur5ESL9nCIRh7v50r8243zNsbC8uJEzHJSk/UK8jTssaykz9j/SQLYqI58qNx5edNWDR2LCbvvIPsyuulymloCPupdqJnZp/zQ/CzAjAvI3A+YQAcnEZjvEs38o8AnA5JJmrGGZXJI9FPq5LehH8KPG30HTOK6xU9C2/SqhUPs/HFIT0XjOku7QBIl5cCvPwL6a9rUVNZZFvp1eY9CjIECLt8Coe2rsWiRcuwfPn32HLIH4+5K2oNXit8tswTp9dPQa/S7BQi+srPcF80FraT9yBCtoeyxvJInJ6UZIhVO5Wo9ncVdMtt3l7EWk7ExElm0JPXK/bBvFaB1mcLcPL0BkzqJZ7aypIffQk/uy/AWFs37IzIEFe0/xiUt0dKwbxDRlw4Lp88iK1rl2DR8uVYvnYrDkkc0VqjOmXDQ8POgzCVdZKIM37u5G08e1+Il2GBSJg0Ck6Oo+FCavTskxcR8pI0wLgG3mQnqUZ3jesSInLN1EiNIp+6sv1MQRriwi7j5KFtWLtoMbEDK7B2yyH4P1b2O5u0zilCGp6ny5t4qwx1LLNois72Y7mvmVdxMvg53jMvEXY+DZMcRsNx/DDiysUSWQvDS5L34kZYfzj1U7RRUN/5O8pUHqpoNXAGNrNfu57fgF/oS+7LUwny4m7C7/pz8G0W4AfnblL6U9eyUTn1xKlWJa0GycerEhQW17IzUhl8TbSR2F3L2di8bx/2yT124fthHWo5s9Sg2UaDOx+A2Zv3yHmv+PD6fhjaiV6ugmaG9ljodRnxgijcDjgH7/3bsHwia2hfImTddpz4ozpC3Qh6NiNFFQfyb+LE9QeIueKHjPE26NxIB/3HDocOEnHW+xYSSjijMrw7MTm1RH48QvyjuPG9HxN2Uf6RmMNVpt6HruFJ4UsEef8OO5d+Mq156fJSAB0taPLriXpJU/wKYT99BUv9PnDyjIPm4C+xYetmuLv/gGUzHdGVu6w24TUzwrCFuxEYL0Dk7Ss4570f25dPFDnZ+SHbsOrEHyjfV1xTeWxAVFtLvPoHWhPV3ihXr0SH17cY1q4aDWNecxgOWwCvwEgIIkMRcM4b+7cvx0TWkcu/gnWrzuCPwrp2q98T1QmFf5SwbLhNtamOPVIEBsXCUPzkOgj65q7wfKyJwV/9gK3u7nBf9w1mOoqHf9Qq1SkbXjvYiJwkcomfH64/Ig7r0VyMtzVEo1Z9MXa6KfnHNdLwTkIJ18ATD9XgqPO6pLZtfwGEYXvgatkD5k4H8FhzIL7asIXYgU1Yt2wmHLuyfXjKIK1ziqCBNppVD5L8MHUls2Xw9KzEjXh2eMGJm3gUcx1HMwbCtnNztOrviOmsSJ29gKCEXK4RZoeeTf8dLnWdlGl16/rG2uigPxjr944ELqzARJeZcJs6CTM2x6Kbux9uHV8IK8lXIxG1LBtKxLue1PqN0LZLT/GkACK8kQnKTYSpmkK8zZPzibeZPvoM4SYPxCQhpZJKkMlPwbOMD3wOrxbN8WmfPuJPGsRBSEwRTduoCJOHV88yScusBOkBK2Dv9ZCkRhV8HQOYWA3GKJcvsWrvBUT8+rXok2f00+qN5OVp98KIL0hLkB0K8csmrD+mjqn2hmhIRES9z3DxRJ7rF+D361kczbKDnWhiTy2RG4vjK0OQ8tGdagKvPQZNdxZvIRt0Ase8DuPQn0PgbKkt09ugAaM+vbleor+Qll02AruUklykJYnznz/YDEbNFFWvSuSz1nmD+BNr4LT6NBJ05uLIkVVwMmuPZgoNV6om6QFYZL8Xj0jyVPk6MDTph8GjXDBrlRcCIn7FXKMi3I1OgtRoVRE1k8cGaPapGYaIlCsVMYlpMk67hBLkv0pGhmhsqjKkIGCRK7weESdGtRl0DHvAavAouMxahb0BV/DrXHPgbhyeZko6B1jH8h5Oee3BYb+HSFf6fZXxnqjOWawMSakFp1pZe6QgRU9wYvFsrPZ5BJ1ZO3Dkf+Ng1k5dyaEKyqBs2UhQhbbFUHwh8iBC8Mv6TTjWcgTsO7NNtRboM3I0qZ+EuH70N/x64QKyJg9CN+kvGXVal9S27WdQFH8ai51WwCdBH7OO7Mb/nHqjXbOalArROSMzDBapYRaS0nJJrGUpQnbaX+JTfm/0MVKik0IudSSz0vBaw2KEndixDPoF69f7oOXUQejMztFQ74mRoknVN3HU7wwuHM3HZLvOlX5t+OdRB2Va3bo++wEunG5BGr5z8MNP3jhz8hD2HT2JM0fcsWyiDQwrDOmqZdlQIt71xKnmoanZ51g2iTVKL3Hzwm0kFMkYpXd/4tq5YO5HRXhqxIBy5xV4m4h7QaJh7uXhtYPdnC9hywrNo5sI+aNs6lMpTDrCPRbjh5vicXa1R0Po2k3Fd7Z65DwKF0P+FM+GLkcJssP3YOoPQRAypGIufIfwQ764IzsZgNcU7ftYoDf0YKirzgUqCa8V+jlxs52jA3HXTGqyRdPuGD6NNR5XsXbeMbSc/BkMqiU5PDTm8zlBL4MpLkJhpxZQ/1ukUQVafR0wRTQh5S52rbkIva8d0b3Cp39VtLGdxJVXDALvPSPmRBpSUSX+jsCH2cS4OOK7rz5DG6lHVEs+a51MxIb+DlF/lq0VTFtJV6Ik/tnpxG2oZYpJgyHcB2fuyDaUG6BJe1NY9dZBN0MdYgJlqKE88nRtMee7EaQRlI9HF0Pxx9uK2stkh8Nj6mbcFI2VVIYSFL6NwqEzv5dOXpLAa9IefayMgW7toducG1bCPMOFlbPw5fIVWPTFUuxScvUMMY3A15RuOLAQm1D0Hp1a8GvBkCtrj7igqsgQIFS0YY0+bAcao1U5tSokFbJk2F9toWTZSMHT6gMnkZOUjegrr2BWOvGV1E897TDNgtiIuz9i3gZ1TLbtWD7P67QuqW3bX4KM2PvwFxkCcww0lZkbU/QaacJKnJAPwGvzGb76zpHoXDYeBv6ORNk6vOgZ7gXGkBM92H43CbZtatq0qiOZLQepH/qN5FaHicaVuyZSk1Obo+fwUbAg6b27dhE2tHSArYEyeybUf6pfprVc1xfkI1twBeevJ+GdQuVYXdmoebxrbotrC9WOGP39Nqx1MEK+/z5sO3af69EhBiU7Fr4b12G73FnTYlQM+mOyI7uwUCrinqZyLQ9yb44Alz0DUDRQPOEAb5Pw6PcoRCflkP/yoGYyDZ5HV8CGH4hNa3bC91EqxPNlipGXHAnfbavgnjYOKx0/IVcXIz8jFcL0HK6AipCX+ReEwlRkSFY0kKY4Hxnkf+k5b8S/S/KQmSp1rVpPzPL0wBIbPiI2bcAm3xikF7BNIRLvvBeI8t2JJe6ZmL1yGNpJrJ7AEwtXHsU94RtylRjm3SuEnT6L+5NnwtlUiZUgyiFVcaAf3JzNpSpAProNd8II1q5oDpMyKtKQOOdnkrxIR45oswU2uZlIFWZys9RZVKDZayhmGLEPCsXl4ESiIDmIu3oTRZ/3xSciaXyPgpw0CFMzkcfVH+LnpCGHzRumADmpQqRm5hGVYOHKIDWHK7dqoNYdo2cNE/dCG42By2dt5aSP5JC6GVzdN2CudQn8t3viWMQL5InSxsrKHRzbtg/+sMXc3WvhaqpV7hnVkk+58iMkeSydp8rQBuZjHWDAnl72w6XHrA6wsDr2ACdPpqDvdLZ3+C1eJiYhmXsPU5BD8v8vZOZxzicXj9ScAnJnFeUl4i52LFyHI/delRlEdjOBsAv49b4tljmbyBlKVFN5VIfJrE04umQI+BF7sGbTBTxKfydOb3EukqN8sW2JJ9Jmz4cjO/xD6bx+D8GOVVh55C6E7yTpfI93wjs4/etjTF42BqaSz8Dvc5EqSBWfk7w4fUuega+Klujl6CD+onI5EMGJ+WDy4nDVn8Hn/dpxhryGulMde1QVbXph7CxTcpKIy+eu47EkYmwPV8wFnEz7FNPZeo805xKfJkOYwa7UUVMboETZlEPiJBGIHXDu36ZMrhp1xvCZYhuh6TJSzuoOytYlldlLInOiPJBDrdl+VbQxt8csAzY1wTh36THyJA8szkTMST+k9R1M3CTCyyQ8TRZydVYl9Z8k33laMHVdi91zbQFRHX4HyXnsfWL5iTjmie3+JbCeuwHurmZQZzO3irL8sO0h1IXMylLaiOfDyG00+pd2RvDQqJsdZo5g7Xo3uFS2GtYH/YAq8rQSu1Sa/iqpoS5Vp0xFKFLXK0GLjjC1eIQdzj3QWqM5mjeXHLro6TAFc5ZvwkGfcCTlc4lkqZZs1Dze9XJHxejAS7h86zbCYt6graEutFp0wWdOdmh9Yz6GsLsZyd1ViGSUaMepc7h6PRQP0QGdW6iigVYvjJs9Ht0f/iDekYi4FNZj+sLQYQl2uHQhWcjCGtwHCPS/guBrl+B9KRr5fFPYOw/G4KFjMW6YCbfrTjJ83Rwx+UT5vZYq3W2ndJckaSpeW5rm4OsI8PZDdL4OTO3tYTt4GMaNs4OJaLcx9hPgOnwdaYzZfYsQEXgb8dmc6W2gBUObEXAe1Q8d+XImXSlMAZJ8lmHs0e44evIrmLBLBUpgkhGwdAa26q7HuWWWxGWRRWrXp3LI7vhWgrz46/A+5gPf875EbC0xc85SLJ/Vn9spq5IdDyU7TZkI5OyCRlB6p6nyMFnX8Z3FDNxf7Af/OT0+8AmPyFlOAsIuX0JgWBhunrlUWl4Dra0xxHEorAy15HzeroZ8DhRgbgX5YZGzi56iSO+MdZ9koll/mDTJR26jLhg5ZTS6Zl+Fx487sft8JCkJI7ievoitbU7L2WGMzXJ2Z0UjxHyovNqHYvnXkTCf3QuFEUEIic8i2saiCk1Dazg6j8BnHdXlOMUsNZFHDlF6g+B/+QauBVzEpWgh+KYOcLa1xdBxn2OYCbfDnVxdZZGX1ykIWP4/RJqPR9/CaASGCJDN+W4NNI1g4/g5Rn2mD35pdHMR4+WGocvZpakI5XbvVALmNeKvnsKx3y7g/In7gM0XmLNyKWZZteXkrXZ0RzF7pDhlO5Dexn2BKsxsu6BJ7hs0+tQBU1w6I9tvD37ccQTnSdmA74bTMavR5rjsznUsiqRjPP5apUzZyPD+KXy+dMXRPjtxco4ppEeIMsLLWDriAHT3HMIy88rGHCtal1RmLwkV5KMubD8XT2KDA8OiIUBX2JrwkZvbBJ+O/AIuXbPh57EFO3afJeVPisX1NGJ2GiNMXv0na3vZne/CrsI/MBShN6/gikTnBlrBaogDhlsZlK34I3dXSwL3TJMYebsbSmwPu1uvmNqWWVneJ53Fl2PPo89RL8wxkbY2RRAGrMWIra2w59wimMvryvygHwD5PoUkT9Pl2yXZ9FdOLdWnypRpKVXV9cpQiBc+S9F/xi/cih7y4dusxwXv+TCXWn5HedmoWbzrnVNdOVLCIVvgFEpNyQ3D/9n7wMRnE0bpyo7PolBqSHEG4h89R16jdIT4qmDKikGi5ZwoFAqF8iHyEX92HWYtiYPFhvkYZ6JdvjFR/BovHofi7I7dOJ/QEiP2X4C3i8HfNgzj73ovhfI3weBd0g0c3nUU15NE/YYEeZu9UCi1iGpLGJqaoWfzN8jW71hhzB6FQqFQ5JB1BweWeCFy8FR8PcUOfc3MYCZ99B2AUVNXYLfHHOjhOYLu/Flh4vvHhDrVlP8YabjttRqLVs3HDHaLahLC5Ebi+K5czJnSV2qzFwqltslD3NVEmPSXNwacQqFQKBVorA7ttnwgOQ3ZshMlpSgpKkIJ+NDXb1Nx4vtH5B/hVFc5WYFCUZgmaNGWHa2oh95GOuC/e4Ybuw7g6cwlcDastZW3KRQZCiAM3o/dhQOrty42hUKh/Bdp2hNT3BfD5pEHVvyfD6KSc8tN5BVtYBR8ACu++QVqDsuxaYL0JjAfn3/EmOriKMUmK1AoisDkPcZ5j904F/8GaGQIu+lT4WzZHpXs1Euh1Bgm5RJ+2FWEyWtHVbolNIVCoVDkwU6sfYjga8G4fT8Ggpdv0LyFOnhMId4WqUH3UzOYW1uhv3lX6DT5e/uK/0ETFSkUCoVCoVAolPoJHVNNoVAoFAqFQqHUEOpUUygUCoVCoVAoNYQ61RQKhUKhUCgUSg2hTjWFQqFQKBQKhVJDqFNNoVAoFAqFQqHUEOpUU/7FpCJkywK4uX2FqQ5maN7cAR5Rkl0UKRQKhUKhUGoP6lRT/sWow2ikK2YO1cXz0AQujEKhUCgUCqX2oU415V+MGnS6mMK8f2905kIoFAqFQqFQ6gLqVFMoFAqFQqFQKDWEOtUUCoVCoVAoFEoNoU41hUKhUCgUCoVSQ3ivX79muPO/j+IoePQegDWJ3G8R+pjo7Y99o9qJf8peo78ewfcXwkyV/fEe74QPEHjeF4Fhj/ESzaGFdyhqYQCLIaMwZkhP6DQpaz+UxJ3E4h1BKMAbvLgTiFCskHrWG8Sd3IAdQRlgMh/j4pVotF4fjPsLzSD6t8KUID8pHL5n/HAz5hUK1dTQMCcTrzUM0Nt6EIYPHwhj7UbctSyy722GFcFnsNDkDWICfoPPrThkpjzBrSRNDBk5BuOnjEZfncbkvnxEeThjwJpQ8WMkTPSGYN8o6Ih+yF5jjfXss8343O8PUBKHk4t3IKigGJmPb+FKzjySVwtgkh2NCz+fx720dCSERyG/61CM+vwLTB5qhGbIRdKt8/jVPxJCuXGWgmGv9cMZ/xDEpBRATY2HnMy30OjUC9aDhmH44O7QVuVxFxMyQrBl5XHEM5l4fPEKclaQspmng6gTh7Dnwi0I33WC9YQZmDmxL3Qk9wl94WY0GSdk011B7qRljkFxegwCzp5HcFw68t4WECkjqOmhm14WbqQPwyF3e2izYXiLJJ9VGDvjMvTWHob30n7QlIoyhUKhUCiUfz/1o6dapRumX3uCB6eXwEgU0A2uR07ix8Fil1AEe43faSzSs8WKc/chuDYd3VTYfxRAGLwV48xGY2uSMdx+OoYzR/dj/9FD2OHWBU/+5wCzcVsRLCwQPYalga4lXGePg2nhI4Qmyi6x1gi6ll9g9kRTFN2NJu5o9WDSb2D9WGe4rb8DrWmbcXjfPuw/eRy7Z3bA/W/HwcruW5yMl366nPcWJeLyhj34vc1IrNi0Az8dPYVjExnsWz8LoxafRnwR2x5SQ7fpv0Dw4BQWGYmdRU3XI7j/42DO4WNhr9mN04ssYL7CBw8Ev2B6NzXuf1XQQBeWrl9ioikPd6OFoqDCJF9s2P0EHSYvx0Z3T5y+sB49grbjW+d52BISi7u7d8C3wALz/m87ifNZnJjWQCbOEoqRfmMLxo5ww/qrrTBt+37s23cIJ0/sxEy9B+R5drD7mtzzTuqeZkYYOXsahurkI1qUSdmIOfgTAttOgeeWGdC6fxzu89bgUESW6PIPotIJQ7+ZDgP+ECw+cgMPBdfKZO7tAxyYuQKh7aZg/Y6f4EXKb9++vfD83+do8yoKQdkFJPYScpEQcQcJpDkXci0WQpH3TaFQKBQK5b9E/XCqeY2h0VoX+gNGYYq5JgmIxW/X/0RhU6m+YV5DNHgRjUDbmZgx6FPotNZAYx6DtzE/w81lA0IaTsSKpaPRVbMhd0NDaHZ1wsoNU9EwZANc3H5GzFuxc8bT6AhTMytYmuqKfpdHFRodjWFmbQlTLS6oGrwXxiM0gfX6niBUkCbu5SSOs7b5RCyYbw4kHMbiHwOQXOovyr43Ffe8TiDZaRGm922LJqKeT3V0sbSEPjnL97+G8GeF5KwBGmu0go5+f4yd0o+9CNm/3cbjwkZSPevkmgZC3A/sgQUzBkJfpxU0GitY9DwNdDTtA2tLE4ii9fYW9h7JgdM3zuir0xRstHhanWFly8bqLo6sWY9rn87AXDsjaIh6ipvCsFdfmThLKIRQ8Ig4o4SERxAIuf+ptob5rDmYr5ePhOM/4kf/ZyjNpsY66GJmjv59xM2vwpgzOF7kjEWDP4Fak6YQFz8fzdSq+K7A5CDut61Y6sHg60t7scapDzrqtEZLPnvfe+Teu4AdQW1haqzH5T0LD6qa3TH2ixHowIWIaYUBiz1wYPNunPF0RmdRY49CoVAoFMp/ifo1plrNGE5zRhKXiDiG3qdx6ckbcTgL8xJB3r/DzqUfdEqdnDSEef+CINZ37W+GLtqyjpQqtLuYoT85yw/6Bd5haeLgj4CKoS3mT+oBGEzAfLtOKPOz1NHJxFh0lh8YiSfZJaLzighwndcLw401RI5rRdKRmVvWVwo0h6nTJIwTZZ4fDl36E0XifxCKkBLkA3+7UfhMR9LoqCbCP8HrZQPjZvI9x+zCPrC3aVfJUBnZOKvB0G4CJhlowmDSBNgZSvWeN+0AExvWFU9EYEQCssWhFXh5Og89h3cnTyIur64jtoTdRUjkAcwzay6+QB7FrxCy7Wt8dUYLS8+7Y4ZZa5n4Mih4k4dc+GPjsg04HBCOx0lpyC9mXXseGpu5wm+ljdSXAOJs6/TFhNlTYW/YvJLyolAoFAqF8m+mfjnVaAS9QePxlWgYw3V4+UQTx4aFQdGTazj05xA4W2qXOS0FzxDp/0h83rypVI9iGbwmTYm7yfIIvnfiIeWm1y1NusDFKxSvo3bCxZAbwytLdj7yC6SGNsjQumcnqQZE1fD0bDD9KwtyJkSQly/u5XLjEIr+xKVDKZji3AdaNfb49NCzU6vKHceen6J9U0VfwkMTwwnwinqOKK8JMJRXgIRskk9lg3dk0OsKg7aSsekq4LfrClPDlpU49QwK0yNx7OvxGLHuHrSsbGCuJ+5tL48KWlqMIHJIXPorO7FovD0sehhAt/0AOC/4EYeDU6Gpp1HJOygUCoVCofwXqWdONXGztMwwRjSMIR+CfWcRlML2t2bhns9l6H3tiO6NpFygrBTEP+fOFeDl83S85s4/Csw7ZMSF4/LJg9i6dgkWLV+O5Wu34pCkIVDb8LTRd8womLPngrPwDnpJ3Eh2KIMvDum5YEz3Spz7vxmmIA1xYZdx8tA2rF20GMuXr8DaLYfg/1iBcdGNmkJNWiY+yG2sd1qOq+/bwwAvEbR6LbbdEpYNLZGCp2WNZSd/xvpJFqIvJyLyo3Hl501YNHYsJu+8g+zK20MUCoVCoVD+Y9Q7p1reMIbClFB4+/eEy2dty/cq8jXRRmouY1XotNEsc5DqFAbFwlD85DoI+uau8HysicFf/YCt7u5wX/cNZjqKh3/UPjyomY7EnHHssAkBvA9dw5NCecNm6gsFEIbtgatlD5g7HcBjzYH4asMWuLtvwrplM+HYtQaD2uVijUW/HsXe3ZuxcS7b9AjF9oU7cDFZXj+4CpoZ2mOh12XEC6JwO+AcvPdvw/KJrJP9EiHrtuPEH9ITTSkUCoVCofyXqYdONXENyw1jOAKvYyfx55RRsNSSGcfbrBP6DDYQnyelQd7w5JLsNCSJzgwwuE8nNBOdK0DhW+RJz6lThqInOLF4Nlb7PILOrB048r9xMGun/nGGC/DaY9B0Z/EqKkEncMzrcMVhM/UCBkXxp7HYaQV8EvQx68hu/M+pN9o1q8tcMkKfPh3Bb9ge9ivWY62NHpDghflrzuJP6RVGUIL0gBWw93qIQlJqfB0DmFgNxiiXL7Fq7wVE/Po1eZIA0U8V6EmnUCgUCoXyn6BeOtXlhzHsw5rdOvh6TFdIr+osgqcL26++hC3b/fwwDPcSZUdMv0HivTA8JGd82y/xla2ulGPZAGrNNLhzWRi8fXIfQS+5n8qSIUCoPzsuRR+2A43Rqpw3W4jstHTuvC5QgVZfB24VlbvYteZixWEz9YISZMTeh7+os9ccA01bl3f6i14jTfiW+1H78DQtMX/HajiRbMr22YDFu6WHczAoLnyH8EO+uJMl01LjNUX7PhboDT0Y6qpzgeyXiXs4tfcorsS/Jr8oFAqFQqH816ifTjU7jKGnA2aNYBcu48NoxuhKVq1QgbrpJLjvXghrXML2bacQkZwrXj+4OBfJEaewbfslwHohdrtPgqm6dE93ExgMcIAj65BnJeJpimQIQBFy4gPg6fsWA0eJF057m/gIv0c9QlKO9MoVH6BNL4ydZUpOEnH53HU8zpM4ZkXIjrmAk2mfYroe+1uIxKfJEGbkkzi/R0FOGoSpmZBcXpKXiVRhGnIK3hO/rQA5qUKkZuYRd5SlCHmZf5Hrc1BhrqNad4yeNUw81MVoTMVhM8rwwfcSZzI/E0JhOnLecpF+m4N0YSoy8kleffBeVbQxt8csAzaWwTh36THyJOkozkTMST+k9R1MXFfCyyQ8TRaKn1mcjwzy/PQcrgFVkodM8g6hMJNbnUOaYuRnpEKYngOxe/4GOenktyi/eWiiPxRffj2YhLPDOdZg08XH3HNEF5MGnScWrjyKe8I3pY4y8+4Vwk6fxf3JM+FsKllhJA3BOxbiy2/nw3neGTzhsoJCoVAoFMp/h/qxo6JcSpB1/X+wGBuHxWE/Y47xh0ZDs45wOC77X0dYaBDOXIlGPt8U9s62sLYaDMfh/WCoIc8pL0R6zDWcPRuA68FxxAHthBY8VWiZfo7ZUz/FwyUjMflEIqBvjTGWpnBYvBouXZpy934Y5l0KogN9cT7wNu4LVGFm2wVNct+g0acOmOLSGdl+e/DjjiM4z26ownfD6ZjVaHN8YsWdESW7AJoI5Ow6SSi3s2QZTNZ1fGcxA/cX+8F/To+KvfyKIne3S4LovfOge+kbGE0+zAVK4HYmdEirIs7SO2FGQ4CusDXhIze3CT4d+QVcumbDz2MLduw+K9rohe96GjErCrFKtDuiLK7wFmzFKB3pjEiGr5ujuAylkew2WbrTojTsc9xhFf0jvo40xuy+RYggZRifzXnaDbRgaDMCzqP6oSNf0kijOypSKBQKhfJfpx471e+RG7YZ9t7d4OM5CrrUSVGO3DD8n70PTHw2YZRuDdemplAoFAqFQqF8kHoy/CMfSdePYtfhG0iSTBiTu9kLpSIM3iXdwOFdR3E9SbIaRS1u9kKhUCgUCoVCqZL64VRn3YHXjPlYtWg1vG6zux6WIPd3H+zKGo0p/erbqhX1jTTc9lqNRavmY4bXHbDrUTC5kTi+KxdzpvSthc1eKBQKhUKhUChVUT+c6iZaaGukCfANYNRWDe+Sb2DX9mTMXP85DBtSr/DDNEGLtuxi3XrobaQD/rtnuLHrAJ7OXAJnQ8XGf1MoFAqFQqFQakY9GVNdgry4i/DYcQHxhUAjAztMnz4Glu3kbSFNkYXJe4zzHrtxLv4NyTxD2E2fCmfL9nK3badQKBQKhUKh1D71eKIihUKhUCgUCoXyz6CerlNNoVAoFAqFQqH8c6BONYVCoVAoFAqFUkOoU02hUCgUCoVCodQQ6lRTKBQKhUKhUCg1hDrVFAqFQqFQKBRKDaFONYVCoVAoFAqFUkOoU02hUCgUCoVCodQQ6lRTKBQKhUKhUCg1hDrVFAqFQqFQKBRKDaFONYVCoVAoFAqFUkOoU02hUCgUCoVCodQQ6lRTKBQKhUKhUCg1hDrVFAqFQqFQKBRKjQD+H+SQ0qnWMxO2AAAAAElFTkSuQmCC)"
      ],
      "metadata": {
        "id": "fvjfm8HqiG99"
      }
    },
    {
      "cell_type": "markdown",
      "source": [
        "![image.png](data:image/png;base64,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)"
      ],
      "metadata": {
        "id": "Hr61mzA1iVD_"
      }
    },
    {
      "cell_type": "markdown",
      "source": [
        "**(a) List the unique years in which the data was collected.**"
      ],
      "metadata": {
        "id": "eMMgqtdmWbl0"
      }
    },
    {
      "cell_type": "code",
      "source": [
        "years = [\n",
        "    {\"$group\": {\n",
        "        \"_id\": {\"year\": {\"$year\": \"$date_published\"}},\n",
        "    }},\n",
        "    {\"$project\": {\n",
        "        \"_id\": 0,\n",
        "        \"year\": \"$_id.year\"\n",
        "    }},\n",
        "    {\"$sort\": {\"year\": 1}} # Sort by year in ascending order\n",
        "]\n",
        "\n",
        "\n",
        "result = list(collection.aggregate(years))\n",
        "\n",
        "# Print the result\n",
        "for item in result:\n",
        "    print(item['year'])"
      ],
      "metadata": {
        "colab": {
          "base_uri": "https://localhost:8080/"
        },
        "id": "Gk2w32Q1nuh5",
        "outputId": "84efcaf8-22bd-4342-e3e8-bab736e86661"
      },
      "execution_count": 39,
      "outputs": [
        {
          "output_type": "stream",
          "name": "stdout",
          "text": [
            "2013\n",
            "2014\n",
            "2015\n",
            "2016\n",
            "2017\n",
            "2018\n",
            "2019\n",
            "2020\n",
            "2021\n",
            "2022\n",
            "2023\n"
          ]
        }
      ]
    },
    {
      "cell_type": "markdown",
      "source": [
        "![image.png](data:image/png;base64,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)"
      ],
      "metadata": {
        "id": "IH46MxoLiw4G"
      }
    },
    {
      "cell_type": "markdown",
      "source": [
        "**(b) List the number of documents for each year.**"
      ],
      "metadata": {
        "id": "wl1HTINNYkNA"
      }
    },
    {
      "cell_type": "code",
      "source": [
        "pipeline_2 = [\n",
        "    {\"$group\": {\"_id\": {\"year\": {\"$year\": \"$date_published\"}, \"filename\": \"$filename\"}, \"count\": {\"$sum\": 1}}},\n",
        "    {\"$group\": {\"_id\": {\"year\": \"$_id.year\"}, \"count\": {\"$sum\": \"$count\"}, \"filenames\": {\"$addToSet\": \"$_id.filename\"}}},\n",
        "    {\"$sort\": {\"_id.year\": 1}}\n",
        "]\n",
        "\n",
        "result_2 = list(collection.aggregate(pipeline_2))\n",
        "#print(result)\n",
        "for i in result_2:\n",
        "  print(\"The list are as follows:\")\n",
        "  print(i)"
      ],
      "metadata": {
        "colab": {
          "base_uri": "https://localhost:8080/"
        },
        "id": "vsA9PMExXtqN",
        "outputId": "195ee3aa-c1fc-4ef1-ce09-9eb0cb89c909"
      },
      "execution_count": 40,
      "outputs": [
        {
          "output_type": "stream",
          "name": "stdout",
          "text": [
            "The list are as follows:\n",
            "{'_id': {'year': 2013}, 'count': 4, 'filenames': ['refs_Machine learning - Wikipedia_2013_6_27', 'article_Machine learning - Wikipedia_2013_1_2', 'article_Machine learning - Wikipedia_2013_6_27', 'refs_Machine learning - Wikipedia_2013_1_2']}\n",
            "The list are as follows:\n",
            "{'_id': {'year': 2014}, 'count': 4, 'filenames': ['refs_Machine learning - Wikipedia_2014_6_4', 'article_Machine learning - Wikipedia_2014_6_4', 'refs_Machine learning - Wikipedia_2014_1_4', 'article_Machine learning - Wikipedia_2014_1_4']}\n",
            "The list are as follows:\n",
            "{'_id': {'year': 2015}, 'count': 4, 'filenames': ['article_Machine learning - Wikipedia_2015_6_30', 'article_Machine learning - Wikipedia_2015_1_4', 'refs_Machine learning - Wikipedia_2015_1_4', 'refs_Machine learning - Wikipedia_2015_6_30']}\n",
            "The list are as follows:\n",
            "{'_id': {'year': 2016}, 'count': 4, 'filenames': ['refs_Machine learning - Wikipedia_2016_6_30', 'article_Machine learning - Wikipedia_2016_6_30', 'article_Machine learning - Wikipedia_2016_1_1', 'refs_Machine learning - Wikipedia_2016_1_1']}\n",
            "The list are as follows:\n",
            "{'_id': {'year': 2017}, 'count': 4, 'filenames': ['article_Machine learning - Wikipedia_2017_6_29', 'refs_Machine learning - Wikipedia_2017_1_1', 'article_Machine learning - Wikipedia_2017_1_1', 'refs_Machine learning - Wikipedia_2017_6_29']}\n",
            "The list are as follows:\n",
            "{'_id': {'year': 2018}, 'count': 4, 'filenames': ['article_Machine learning - Wikipedia_2018_6_29', 'refs_Machine learning - Wikipedia_2018_1_5', 'article_Machine learning - Wikipedia_2018_1_5', 'refs_Machine learning - Wikipedia_2018_6_29']}\n",
            "The list are as follows:\n",
            "{'_id': {'year': 2019}, 'count': 4, 'filenames': ['article_Machine learning - Wikipedia_2019_6_24', 'article_Machine learning - Wikipedia_2019_1_2', 'refs_Machine learning - Wikipedia_2019_1_2', 'refs_Machine learning - Wikipedia_2019_6_24']}\n",
            "The list are as follows:\n",
            "{'_id': {'year': 2020}, 'count': 4, 'filenames': ['refs_Machine learning - Wikipedia_2020_6_30', 'article_Machine learning - Wikipedia_2020_1_8', 'refs_Machine learning - Wikipedia_2020_1_8', 'article_Machine learning - Wikipedia_2020_6_30']}\n",
            "The list are as follows:\n",
            "{'_id': {'year': 2021}, 'count': 4, 'filenames': ['refs_Machine learning - Wikipedia_2021_1_8', 'article_Machine learning - Wikipedia_2021_1_8', 'refs_Machine learning - Wikipedia_2021_6_19', 'article_Machine learning - Wikipedia_2021_6_19']}\n",
            "The list are as follows:\n",
            "{'_id': {'year': 2022}, 'count': 4, 'filenames': ['article_Machine learning - Wikipedia_2022_6_28', 'article_Machine learning - Wikipedia_2022_1_2', 'refs_Machine learning - Wikipedia_2022_6_28', 'refs_Machine learning - Wikipedia_2022_1_2']}\n",
            "The list are as follows:\n",
            "{'_id': {'year': 2023}, 'count': 4, 'filenames': ['article_Machine learning - Wikipedia_2023_1_1', 'article_Machine learning - Wikipedia_2023_3_13', 'refs_Machine learning - Wikipedia_2023_3_13', 'refs_Machine learning - Wikipedia_2023_1_1']}\n"
          ]
        }
      ]
    },
    {
      "cell_type": "markdown",
      "source": [
        "![Screenshotbig3.png](data:image/png;base64,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)"
      ],
      "metadata": {
        "id": "rLZGdeFoe_J9"
      }
    },
    {
      "cell_type": "markdown",
      "source": [
        "**(C.1) Counting the number of years the term \"supervised\" has appeared in**"
      ],
      "metadata": {
        "id": "EtyL5fk8bAFX"
      }
    },
    {
      "cell_type": "code",
      "source": [
        "pipeline_3 = [\n",
        "    {\"$match\": {\"supervised\": \"Yes\"}},\n",
        "    {\"$group\": {\"_id\": {\"year\": {\"$year\": \"$date_published\"}}, \"count\": {\"$sum\": 1}}},\n",
        "    {\"$group\": {\"_id\": None, \"total_count\": {\"$sum\": 1}}},\n",
        "]\n",
        "\n",
        "result_3 = list(collection.aggregate(pipeline_3))\n",
        "print(\"total number of years:\", result_3[0][\"total_count\"])\n"
      ],
      "metadata": {
        "colab": {
          "base_uri": "https://localhost:8080/"
        },
        "id": "KyLIwQ7oyFbW",
        "outputId": "8c73de62-1089-4bfb-bdb0-83d19bbc80c2"
      },
      "execution_count": 41,
      "outputs": [
        {
          "output_type": "stream",
          "name": "stdout",
          "text": [
            "total number of years: 11\n"
          ]
        }
      ]
    },
    {
      "cell_type": "markdown",
      "source": [
        "**(C.2) Counting the number of years the term \"semi-supervised\" has appeared in**"
      ],
      "metadata": {
        "id": "W0VVdRnsbOZO"
      }
    },
    {
      "cell_type": "code",
      "source": [
        "pipeline_4 = [\n",
        "    {\"$match\": {\"semi-supervised\": \"Yes\"}},\n",
        "    {\"$group\": {\"_id\": {\"year\": {\"$year\": \"$date_published\"}}, \"count\": {\"$sum\": 1}}},\n",
        "    {\"$group\": {\"_id\": None, \"total_count\": {\"$sum\": 1}}},\n",
        "]\n",
        "\n",
        "result_4 = list(collection.aggregate(pipeline_4))\n",
        "print(\"total number of years:\", result_4[0][\"total_count\"])"
      ],
      "metadata": {
        "colab": {
          "base_uri": "https://localhost:8080/"
        },
        "id": "1lVAuOXezTDD",
        "outputId": "98a18141-6255-45bd-964a-f559edd6c9a1"
      },
      "execution_count": 42,
      "outputs": [
        {
          "output_type": "stream",
          "name": "stdout",
          "text": [
            "total number of years: 5\n"
          ]
        }
      ]
    },
    {
      "cell_type": "markdown",
      "source": [
        "**(C.3) Counting the number of years the term \"unsupervised\" has appeared in**"
      ],
      "metadata": {
        "id": "jG2U-ncZbb6h"
      }
    },
    {
      "cell_type": "code",
      "source": [
        "pipeline_5 = [\n",
        "    {\"$match\": {\"unsupervised\": \"Yes\"}},\n",
        "    {\"$group\": {\"_id\": {\"year\": {\"$year\": \"$date_published\"}}, \"count\": {\"$sum\": 1}}},\n",
        "    {\"$group\": {\"_id\": None, \"total_count\": {\"$sum\": 1}}},\n",
        "]\n",
        "\n",
        "result_5 = list(collection.aggregate(pipeline_5))\n",
        "print(\"total number of years:\", result_5[0][\"total_count\"])"
      ],
      "metadata": {
        "colab": {
          "base_uri": "https://localhost:8080/"
        },
        "id": "yvc9dK7z0PTq",
        "outputId": "8724ffee-f96d-4c46-8cc8-58bac16e12f8"
      },
      "execution_count": 43,
      "outputs": [
        {
          "output_type": "stream",
          "name": "stdout",
          "text": [
            "total number of years: 11\n"
          ]
        }
      ]
    },
    {
      "cell_type": "markdown",
      "source": [
        "**(C.4) Counting the number of years the term \"meta-learning\" has appeared in**"
      ],
      "metadata": {
        "id": "2cGxk2-3bpS_"
      }
    },
    {
      "cell_type": "code",
      "source": [
        "pipeline_6 = [\n",
        "    {\"$match\": {\"meta-learning\": \"Yes\"}},\n",
        "    {\"$group\": {\"_id\": {\"year\": {\"$year\": \"$date_published\"}}, \"count\": {\"$sum\": 1}}},\n",
        "    {\"$group\": {\"_id\": None, \"total_count\": {\"$sum\": 1}}},\n",
        "]\n",
        "\n",
        "result_6 = list(collection.aggregate(pipeline_6))\n",
        "print(\"total number of years:\", result_6[0][\"total_count\"])"
      ],
      "metadata": {
        "colab": {
          "base_uri": "https://localhost:8080/"
        },
        "id": "kjE6fsy71CXD",
        "outputId": "621dec89-f049-4a2b-cbe6-262013e0b1b3"
      },
      "execution_count": 44,
      "outputs": [
        {
          "output_type": "stream",
          "name": "stdout",
          "text": [
            "total number of years: 2\n"
          ]
        }
      ]
    },
    {
      "cell_type": "markdown",
      "source": [
        "![Screenshotbig.png](data:image/png;base64,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)"
      ],
      "metadata": {
        "id": "haaCVji7cj6J"
      }
    },
    {
      "cell_type": "markdown",
      "source": [
        "**(d.1)Find the earliest year the term \"supervised\" appeared**"
      ],
      "metadata": {
        "id": "ObSYj-WfdDWg"
      }
    },
    {
      "cell_type": "code",
      "source": [
        "pipeline_7 = [\n",
        "    {\"$match\": {\"supervised\": \"Yes\"}},\n",
        "    {\"$group\": {\"_id\": None, \"earliest_year\": {\"$min\": {\"$year\": \"$date_published\"}}}}\n",
        "]\n",
        "\n",
        "result_7 = list(collection.aggregate(pipeline_7))\n",
        "earliest_year = result_7[0][\"earliest_year\"]\n",
        "print(\"The earliest year where supervised is Yes :\", earliest_year)\n"
      ],
      "metadata": {
        "colab": {
          "base_uri": "https://localhost:8080/"
        },
        "id": "apYiLpE21tyq",
        "outputId": "a8daa0ad-6443-44fe-fd0c-d1f2f442a2e4"
      },
      "execution_count": 45,
      "outputs": [
        {
          "output_type": "stream",
          "name": "stdout",
          "text": [
            "The earliest year where supervised is Yes : 2013\n"
          ]
        }
      ]
    },
    {
      "cell_type": "markdown",
      "source": [
        "**(d.2)Find the earliest year the term \"semi-supervised\" appeared**"
      ],
      "metadata": {
        "id": "d6tVcepcdsh-"
      }
    },
    {
      "cell_type": "code",
      "source": [
        "pipeline_8 = [\n",
        "    {\"$match\": {\"semi-supervised\": \"Yes\"}},\n",
        "    {\"$group\": {\"_id\": None, \"earliest_year\": {\"$min\": {\"$year\": \"$date_published\"}}}}\n",
        "]\n",
        "\n",
        "result_8 = list(collection.aggregate(pipeline_8))\n",
        "earliest_year = result_8[0][\"earliest_year\"]\n",
        "print(\"The earliest year where semi-supervised is Yes is:\", earliest_year)\n"
      ],
      "metadata": {
        "colab": {
          "base_uri": "https://localhost:8080/"
        },
        "id": "KHdIjjZM1zN4",
        "outputId": "bb34cd91-4c02-4124-aba3-4153b4d60262"
      },
      "execution_count": 46,
      "outputs": [
        {
          "output_type": "stream",
          "name": "stdout",
          "text": [
            "The earliest year where semi-supervised is Yes is: 2015\n"
          ]
        }
      ]
    },
    {
      "cell_type": "markdown",
      "source": [
        "**(d.3)Find the earliest year the term \"unsupervised\" appeared**"
      ],
      "metadata": {
        "id": "3PbH9pQid2Td"
      }
    },
    {
      "cell_type": "code",
      "source": [
        "pipeline_9 = [\n",
        "    {\"$match\": {\"unsupervised\": \"Yes\"}},\n",
        "    {\"$group\": {\"_id\": None, \"earliest_year\": {\"$min\": {\"$year\": \"$date_published\"}}}}\n",
        "]\n",
        "\n",
        "result_9 = list(collection.aggregate(pipeline_9))\n",
        "earliest_year = result_9[0][\"earliest_year\"]\n",
        "print(\"The earliest year where unsupervised is Yes is:\", earliest_year)\n"
      ],
      "metadata": {
        "colab": {
          "base_uri": "https://localhost:8080/"
        },
        "id": "I5z4Bwbk1-Kx",
        "outputId": "dcb44c7a-d953-465c-95d8-0d27ce9de045"
      },
      "execution_count": 47,
      "outputs": [
        {
          "output_type": "stream",
          "name": "stdout",
          "text": [
            "The earliest year where unsupervised is Yes is: 2013\n"
          ]
        }
      ]
    },
    {
      "cell_type": "markdown",
      "source": [
        "**(d.4)Find the earliest year the term \"meta-learning\" appeared**"
      ],
      "metadata": {
        "id": "D3NvXhxBd_-5"
      }
    },
    {
      "cell_type": "code",
      "source": [
        "pipeline_10 = [\n",
        "    {\"$match\": {\"meta-learning\": \"Yes\"}},\n",
        "    {\"$group\": {\"_id\": None, \"earliest_year\": {\"$min\": {\"$year\": \"$date_published\"}}}}\n",
        "]\n",
        "\n",
        "result_10 = list(collection.aggregate(pipeline_10))\n",
        "earliest_year = result_10[0][\"earliest_year\"]\n",
        "print(\"The earliest year where meta-learning is Yes is:\", earliest_year)\n"
      ],
      "metadata": {
        "colab": {
          "base_uri": "https://localhost:8080/"
        },
        "id": "HEwwbLz92F1Z",
        "outputId": "b5cc725b-9ff5-4755-ca31-f78c37a565be"
      },
      "execution_count": 48,
      "outputs": [
        {
          "output_type": "stream",
          "name": "stdout",
          "text": [
            "The earliest year where meta-learning is Yes is: 2022\n"
          ]
        }
      ]
    },
    {
      "cell_type": "markdown",
      "source": [
        "![Screenshotbig2.png](data:image/png;base64,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)"
      ],
      "metadata": {
        "id": "GzzfWZNzejRm"
      }
    },
    {
      "cell_type": "markdown",
      "source": [
        "**(e)counting the references for each year**"
      ],
      "metadata": {
        "id": "Bm31kd2lep-s"
      }
    },
    {
      "cell_type": "code",
      "source": [
        "pipeline_11 = [\n",
        "    {\"$match\": {\"filename\": {\"$regex\": \"^refs_Machine learning\"}}},\n",
        "    {\"$group\": {\n",
        "        \"_id\": {\"year\": {\"$year\": \"$date_published\"}},\n",
        "        \"total_refs\": {\"$sum\": \"$count_of_refs\"},\n",
        "        \"count\": {\"$sum\": 1}\n",
        "    }},\n",
        "    {\"$sort\": {\"_id.year\": 1}}\n",
        "]\n",
        "\n",
        "result_11 = list(collection.aggregate(pipeline_11))\n",
        "\n",
        "for item in result_11:\n",
        "    print(item)\n"
      ],
      "metadata": {
        "colab": {
          "base_uri": "https://localhost:8080/"
        },
        "id": "0NmpdWDZsMWT",
        "outputId": "d0735dee-c844-47c8-c701-fc7e62515526"
      },
      "execution_count": 49,
      "outputs": [
        {
          "output_type": "stream",
          "name": "stdout",
          "text": [
            "{'_id': {'year': 2013}, 'total_refs': 18, 'count': 2}\n",
            "{'_id': {'year': 2014}, 'total_refs': 27, 'count': 2}\n",
            "{'_id': {'year': 2015}, 'total_refs': 55, 'count': 2}\n",
            "{'_id': {'year': 2016}, 'total_refs': 63, 'count': 2}\n",
            "{'_id': {'year': 2017}, 'total_refs': 85, 'count': 2}\n",
            "{'_id': {'year': 2018}, 'total_refs': 105, 'count': 2}\n",
            "{'_id': {'year': 2019}, 'total_refs': 171, 'count': 2}\n",
            "{'_id': {'year': 2020}, 'total_refs': 191, 'count': 2}\n",
            "{'_id': {'year': 2021}, 'total_refs': 239, 'count': 2}\n",
            "{'_id': {'year': 2022}, 'total_refs': 260, 'count': 2}\n",
            "{'_id': {'year': 2023}, 'total_refs': 282, 'count': 2}\n"
          ]
        }
      ]
    },
    {
      "cell_type": "code",
      "source": [],
      "metadata": {
        "id": "CcBE0UavuH2w"
      },
      "execution_count": 49,
      "outputs": []
    },
    {
      "cell_type": "code",
      "source": [
        "#client.drop_database(db)"
      ],
      "metadata": {
        "id": "gX2Vdp2IRmKI"
      },
      "execution_count": 50,
      "outputs": []
    },
    {
      "cell_type": "code",
      "source": [
        "#client.list_database_names()"
      ],
      "metadata": {
        "id": "c4W3MBIjRqCA"
      },
      "execution_count": 51,
      "outputs": []
    }
  ]
}